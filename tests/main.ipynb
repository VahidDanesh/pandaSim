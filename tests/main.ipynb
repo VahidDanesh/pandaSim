{
 "cells": [
  {
   "cell_type": "markdown",
   "id": "7db7bace",
   "metadata": {},
   "source": [
    "grasp"
   ]
  },
  {
   "cell_type": "code",
   "execution_count": 1,
   "id": "5502bb81",
   "metadata": {},
   "outputs": [],
   "source": [
    "import genesis as gs\n",
    "import numpy as np\n",
    "import torch\n",
    "from pytransform3d import (\n",
    "    transformations as pt,\n",
    "    rotations as pr,\n",
    "    batch_rotations as pb,\n",
    "    trajectories as ptr,\n",
    "    plot_utils as ppu\n",
    ")"
   ]
  },
  {
   "cell_type": "code",
   "execution_count": 2,
   "id": "28c123a4",
   "metadata": {},
   "outputs": [
    {
     "name": "stdout",
     "output_type": "stream",
     "text": [
      "\u001b[38;5;159m[Genesis] [10:33:02] [INFO] \u001b[38;5;121m╭───────────────────────────────────────────────╮\u001b[0m\u001b[38;5;159m\u001b[0m\n",
      "\u001b[38;5;159m[Genesis] [10:33:02] [INFO] \u001b[38;5;121m│┈┉┈┉┈┉┈┉┈┉┈┉┈┉┈┉┈┉┈\u001b[0m\u001b[38;5;159m \u001b[38;5;121m\u001b[1m\u001b[3mGenesis\u001b[0m\u001b[38;5;159m \u001b[38;5;121m┈┉┈┉┈┉┈┉┈┉┈┉┈┉┈┉┈┉┈│\u001b[0m\u001b[38;5;159m\u001b[0m\n",
      "\u001b[38;5;159m[Genesis] [10:33:02] [INFO] \u001b[38;5;121m╰───────────────────────────────────────────────╯\u001b[0m\u001b[38;5;159m\u001b[0m\n",
      "\u001b[38;5;159m[Genesis] [10:33:05] [INFO] Running on \u001b[38;5;121m\u001b[4m[13th Gen Intel(R) Core(TM) i7-13800H]\u001b[0m\u001b[38;5;159m with backend \u001b[38;5;121m\u001b[4mgs.cpu\u001b[0m\u001b[38;5;159m. Device memory: \u001b[38;5;121m\u001b[4m31.59\u001b[0m\u001b[38;5;159m GB.\u001b[0m\n",
      "\u001b[38;5;159m[Genesis] [10:33:05] [INFO] 🚀 Genesis initialized. 🔖 version: \u001b[38;5;121m\u001b[4m0.2.1\u001b[0m\u001b[38;5;159m, 🌱 seed: \u001b[38;5;121m\u001b[4m42\u001b[0m\u001b[38;5;159m, 📏 precision: '\u001b[38;5;121m\u001b[4m32\u001b[0m\u001b[38;5;159m', 🐛 debug: \u001b[38;5;121m\u001b[4mFalse\u001b[0m\u001b[38;5;159m, 🎨 theme: '\u001b[38;5;121m\u001b[4mdark\u001b[0m\u001b[38;5;159m'.\u001b[0m\n"
     ]
    }
   ],
   "source": [
    "gs.init(backend=gs.cpu, seed=42)"
   ]
  },
  {
   "cell_type": "code",
   "execution_count": 3,
   "id": "94b65edf",
   "metadata": {},
   "outputs": [
    {
     "name": "stdout",
     "output_type": "stream",
     "text": [
      "\u001b[38;5;159m[Genesis] [10:33:13] [INFO] Scene \u001b[38;5;121m\u001b[3m<c635b54>\u001b[0m\u001b[38;5;159m created.\u001b[0m\n",
      "\u001b[38;5;159m[Genesis] [10:33:13] [INFO] Adding \u001b[38;5;121m<gs.RigidEntity>\u001b[0m\u001b[38;5;159m. idx: \u001b[38;5;121m0\u001b[0m\u001b[38;5;159m, uid: \u001b[38;5;121m\u001b[3m<66f8278>\u001b[0m\u001b[38;5;159m, morph: \u001b[38;5;121m<gs.morphs.Plane>\u001b[0m\u001b[38;5;159m, material: \u001b[38;5;121m<gs.materials.Rigid>\u001b[0m\u001b[38;5;159m.\u001b[0m\n",
      "\u001b[38;5;159m[Genesis] [10:33:13] [INFO] Adding \u001b[38;5;121m<gs.RigidEntity>\u001b[0m\u001b[38;5;159m. idx: \u001b[38;5;121m1\u001b[0m\u001b[38;5;159m, uid: \u001b[38;5;121m\u001b[3m<33204d1>\u001b[0m\u001b[38;5;159m, morph: \u001b[38;5;121m<gs.morphs.MJCF(file='d:\\envs\\pygen\\Lib\\site-packages\\genesis\\assets\\xml/franka_emika_panda/panda.xml')>\u001b[0m\u001b[38;5;159m, material: \u001b[38;5;121m<gs.materials.Rigid>\u001b[0m\u001b[38;5;159m.\u001b[0m\n",
      "\u001b[38;5;226m[Genesis] [10:33:16] [WARNING] (MJCF) Tendon not supported\u001b[0m\n",
      "\u001b[38;5;226m[Genesis] [10:33:16] [WARNING] (MJCF) Approximating tendon by joint actuator for `finger_joint1`\u001b[0m\n",
      "\u001b[38;5;226m[Genesis] [10:33:16] [WARNING] (MJCF) Actuator control gain and bias parameters cannot be reduced to a unique PD control position gain. Using max between gain and bias.\u001b[0m\n",
      "\u001b[38;5;226m[Genesis] [10:33:16] [WARNING] (MJCF) Approximating tendon by joint actuator for `finger_joint2`\u001b[0m\n",
      "\u001b[38;5;226m[Genesis] [10:33:16] [WARNING] (MJCF) Actuator control gain and bias parameters cannot be reduced to a unique PD control position gain. Using max between gain and bias.\u001b[0m\n",
      "\u001b[38;5;159m[Genesis] [10:33:17] [INFO] Adding \u001b[38;5;121m<gs.RigidEntity>\u001b[0m\u001b[38;5;159m. idx: \u001b[38;5;121m2\u001b[0m\u001b[38;5;159m, uid: \u001b[38;5;121m\u001b[3m<136da1a>\u001b[0m\u001b[38;5;159m, morph: \u001b[38;5;121m<gs.morphs.Box>\u001b[0m\u001b[38;5;159m, material: \u001b[38;5;121m<gs.materials.Rigid>\u001b[0m\u001b[38;5;159m.\u001b[0m\n",
      "\u001b[38;5;159m[Genesis] [10:33:17] [INFO] Adding \u001b[38;5;121m<gs.RigidEntity>\u001b[0m\u001b[38;5;159m. idx: \u001b[38;5;121m3\u001b[0m\u001b[38;5;159m, uid: \u001b[38;5;121m\u001b[3m<0fc3e17>\u001b[0m\u001b[38;5;159m, morph: \u001b[38;5;121m<gs.morphs.Cylinder>\u001b[0m\u001b[38;5;159m, material: \u001b[38;5;121m<gs.materials.Rigid>\u001b[0m\u001b[38;5;159m.\u001b[0m\n"
     ]
    }
   ],
   "source": [
    "\n",
    "scene = gs.Scene(\n",
    "    show_viewer = True,\n",
    "    viewer_options = gs.options.ViewerOptions(\n",
    "        res           = (1280, 960),\n",
    "        camera_pos    = (3.5, 0.0, 2.5),\n",
    "        camera_lookat = (0.0, 0.0, 0.5),\n",
    "        camera_fov    = 40,\n",
    "        max_FPS       = 60,\n",
    "    ),\n",
    "    sim_options=gs.options.SimOptions(\n",
    "        dt = 0.01,\n",
    "    ),\n",
    "    vis_options = gs.options.VisOptions(\n",
    "        show_world_frame = True,\n",
    "        world_frame_size = 1.0,\n",
    "        show_link_frame  = False,\n",
    "        show_cameras     = False,\n",
    "        plane_reflection = True,\n",
    "        ambient_light    = (0.1, 0.1, 0.1),\n",
    "    ),\n",
    "    renderer=gs.renderers.Rasterizer(),\n",
    ")\n",
    "\n",
    "plane = scene.add_entity(\n",
    "    gs.morphs.Plane(),\n",
    ")\n",
    "franka = scene.add_entity(\n",
    "    gs.morphs.MJCF(file='xml/franka_emika_panda/panda.xml'),\n",
    ")\n",
    "cube_size = (0.1, 0.07, 0.03)\n",
    "cube_pos = (0.7, 0, 0.015)\n",
    "\n",
    "cube = scene.add_entity(\n",
    "    gs.morphs.Box(\n",
    "        size = cube_size,\n",
    "        pos  = cube_pos,\n",
    "    ),\n",
    "    # surface=gs.textures.ColorTexture(\n",
    "    #     color = (0.8, 0.1 , 0.1),\n",
    "    # ),\n",
    ")\n",
    "cube.surface.color = (0.8, 0.1 , 0.1)\n",
    "\n",
    "cylinder_pos = (0.7, -0.2, 0.05)\n",
    "cylinder_radius = 0.03\n",
    "cylinder_height = 0.1\n",
    "\n",
    "cylinder = scene.add_entity(\n",
    "    gs.morphs.Cylinder(\n",
    "        radius = cylinder_radius,\n",
    "        height = cylinder_height,\n",
    "        pos    = cylinder_pos,\n",
    "    ),\n",
    "    # surface=gs.textures.ColorTexture(\n",
    "    #     color = (0.2, 0.8, 0.2),        \n",
    "    # ),\n",
    ")\n",
    "cylinder.surface.color = (0.2, 0.8, 0.2)\n",
    "\n",
    "cam = scene.add_camera(\n",
    "    res    = (640, 480),\n",
    "    pos    = (3.5, 0.0, 2.5),\n",
    "    lookat = (0, 0, 0.5),\n",
    "    fov    = 30,\n",
    "    GUI    = False,\n",
    ")\n"
   ]
  },
  {
   "cell_type": "code",
   "execution_count": 4,
   "id": "6222462d",
   "metadata": {},
   "outputs": [
    {
     "name": "stdout",
     "output_type": "stream",
     "text": [
      "\u001b[38;5;159m[Genesis] [10:33:18] [INFO] Building scene \u001b[38;5;121m\u001b[3m<c635b54>\u001b[0m\u001b[38;5;159m...\u001b[0m\n",
      "\u001b[38;5;226m[Genesis] [10:33:22] [WARNING] Reference robot position exceeds joint limits.\u001b[0m\n",
      "\u001b[38;5;226m[Genesis] [10:33:22] [WARNING] Constraint solver time constant was increased to avoid numerical instability (from `0.005` to `0.02`). Decrease simulation timestep to avoid altering the original value.\u001b[0m\n",
      "\u001b[38;5;159m[Genesis] [10:33:42] [INFO] Compiling simulation kernels...\u001b[0m\n",
      "\u001b[38;5;159m[Genesis] [10:38:46] [INFO] Building visualizer...\u001b[0m\n",
      "\u001b[38;5;159m[Genesis] [10:38:51] [INFO] Viewer created. Resolution: \u001b[38;5;121m1280×960\u001b[0m\u001b[38;5;159m, max_FPS: \u001b[38;5;121m60\u001b[0m\u001b[38;5;159m.\u001b[0m\n"
     ]
    }
   ],
   "source": [
    "\n",
    "scene.build()\n",
    "motors_dof = np.arange(7)\n",
    "fingers_dof = np.arange(7, 9)\n",
    "\n",
    "# set control gains\n",
    "# Note: the following values are tuned for achieving best behavior with Franka\n",
    "# Typically, each new robot would have a different set of parameters.\n",
    "# Sometimes high-quality URDF or XML file would also provide this and will be parsed.\n",
    "franka.set_dofs_kp(\n",
    "    np.array([4500, 4500, 3500, 3500, 2000, 2000, 2000, 100, 100]),\n",
    ")\n",
    "franka.set_dofs_kv(\n",
    "    np.array([450, 450, 350, 350, 200, 200, 200, 10, 10]),\n",
    ")\n",
    "franka.set_dofs_force_range(\n",
    "    np.array([-87, -87, -87, -87, -12, -12, -12, -100, -100]),\n",
    "    np.array([ 87,  87,  87,  87,  12,  12,  12,  100,  100]),\n",
    ")\n",
    "\n",
    "# render rgb, depth, segmentation, and normal\n",
    "# rgb, depth, segmentation, normal = cam.render(rgb=True, depth=True, segmentation=True, normal=True)\n"
   ]
  },
  {
   "cell_type": "code",
   "execution_count": 5,
   "id": "17e797a9",
   "metadata": {},
   "outputs": [
    {
     "name": "stdout",
     "output_type": "stream",
     "text": [
      "cube_pos: tensor([0.7000, 0.0000, 0.0150])\n",
      "cube_rot: tensor([1., 0., 0., 0.])\n",
      "cube_mass: 0.04200000000000001\n",
      "cube_vertices: tensor([[ 0.6500, -0.0350,  0.0000],\n",
      "        [ 0.6500, -0.0350,  0.0300],\n",
      "        [ 0.6500,  0.0350,  0.0000],\n",
      "        [ 0.6500,  0.0350,  0.0300],\n",
      "        [ 0.7500, -0.0350,  0.0000],\n",
      "        [ 0.7500, -0.0350,  0.0300],\n",
      "        [ 0.7500,  0.0350,  0.0000],\n",
      "        [ 0.7500,  0.0350,  0.0300]])\n"
     ]
    }
   ],
   "source": [
    "# get cubes prperties\n",
    "cube_pos = cube.get_pos()\n",
    "print(f\"cube_pos: {cube_pos}\")\n",
    "cube_rot = cube.get_quat()\n",
    "print(f\"cube_rot: {cube_rot}\")\n",
    "cube_mass = cube.get_mass()\n",
    "print(f\"cube_mass: {cube_mass}\")\n",
    "cube_vertices = cube.get_verts()\n",
    "print(f\"cube_vertices: {cube_vertices}\")"
   ]
  },
  {
   "cell_type": "code",
   "execution_count": 6,
   "id": "eba19276",
   "metadata": {},
   "outputs": [
    {
     "data": {
      "text/plain": [
       "ColorTexture(color=(1.0, 1.0, 1.0, 1.0))"
      ]
     },
     "execution_count": 6,
     "metadata": {},
     "output_type": "execute_result"
    }
   ],
   "source": [
    "cube.surface.get_rgba()"
   ]
  },
  {
   "cell_type": "code",
   "execution_count": 7,
   "id": "89b33816",
   "metadata": {},
   "outputs": [
    {
     "name": "stdout",
     "output_type": "stream",
     "text": [
      "\u001b[38;5;159m[Genesis] [10:44:29] [INFO] Running at \u001b[38;5;121m0.06\u001b[0m\u001b[38;5;159m FPS.\u001b[0m\n"
     ]
    }
   ],
   "source": [
    "cube_pos = (0.7, 0, 0.015)\n",
    "cube_qpos = np.concatenate((np.array(cube_pos), np.array([1, 0, 0, 0])), axis=0)\n",
    "cube.set_qpos(cube_qpos)\n",
    "qr = np.array([0.0000, -0.3002, 0.0000, -2.1991, 0.0000, 2.0071, 0.7854, 0.04, 0.04])\n",
    "\n",
    "franka.ready_qpos = qr\n",
    "franka.set_qpos(franka.ready_qpos)\n",
    "scene.step()"
   ]
  },
  {
   "cell_type": "code",
   "execution_count": 8,
   "id": "e1a07e44",
   "metadata": {},
   "outputs": [
    {
     "name": "stdout",
     "output_type": "stream",
     "text": [
      "cylinder_pos: tensor([ 0.7000, -0.2000,  0.0490])\n",
      "cylinder_rot: tensor([1., 0., 0., 0.])\n",
      "cylinder_mass: 0.05618601274064494\n"
     ]
    }
   ],
   "source": [
    "# get cylinder properties\n",
    "cylinder_pos = cylinder.get_pos()\n",
    "print(f\"cylinder_pos: {cylinder_pos}\")\n",
    "cylinder_rot = cylinder.get_quat()\n",
    "print(f\"cylinder_rot: {cylinder_rot}\")\n",
    "cylinder_mass = cylinder.get_mass()\n",
    "print(f\"cylinder_mass: {cylinder_mass}\")\n",
    "# cylinder_vertices = cylinder.get_verts()\n",
    "# print(f\"cylinder_vertices: {cylinder_vertices}\")"
   ]
  },
  {
   "cell_type": "code",
   "execution_count": 9,
   "id": "264e1d2a",
   "metadata": {},
   "outputs": [
    {
     "data": {
      "text/plain": [
       "tensor([[ 0.6700, -0.2300, -0.0010],\n",
       "        [ 0.7300, -0.1700,  0.0990]])"
      ]
     },
     "execution_count": 9,
     "metadata": {},
     "output_type": "execute_result"
    }
   ],
   "source": [
    "cylinder.get_AABB()"
   ]
  },
  {
   "cell_type": "code",
   "execution_count": 10,
   "id": "e93be1d5",
   "metadata": {},
   "outputs": [
    {
     "data": {
      "text/plain": [
       "array([-0.70710678,  0.        ,  0.70710678,  0.        ])"
      ]
     },
     "execution_count": 10,
     "metadata": {},
     "output_type": "execute_result"
    }
   ],
   "source": [
    "# get cylinder Rotation matrix\n",
    "R_initial = gs.quat_to_R(cylinder.get_quat())\n",
    "R_initial = R_initial.numpy()\n",
    "# now multiply this R by another given R to get the new rotation matrix\n",
    "R =np.array([[0, 0, -1], [0, 1, 0], [1, 0, 0]])\n",
    "R_goal = np.dot(R_initial, R)\n",
    "quat_goal = gs.R_to_quat(R_goal)\n",
    "quat_goal"
   ]
  },
  {
   "cell_type": "code",
   "execution_count": 11,
   "id": "cc44e0bd",
   "metadata": {},
   "outputs": [
    {
     "data": {
      "text/plain": [
       "tensor([1., 0., 0., 0.])"
      ]
     },
     "execution_count": 11,
     "metadata": {},
     "output_type": "execute_result"
    }
   ],
   "source": [
    "cylinder.get_quat()"
   ]
  },
  {
   "cell_type": "code",
   "execution_count": 12,
   "id": "5601f0b4",
   "metadata": {},
   "outputs": [
    {
     "name": "stdout",
     "output_type": "stream",
     "text": [
      "\u001b[38;5;159m[Genesis] [10:44:41] [INFO] Running at \u001b[38;5;121m0.06\u001b[0m\u001b[38;5;159m FPS.\u001b[0m\n"
     ]
    }
   ],
   "source": [
    "cylinder_pos = (0.7, -0.2, 0.05-0.02)\n",
    "cyl_qpos = np.concatenate((np.array(cylinder_pos), quat_goal), axis=0)\n",
    "cylinder.set_qpos(cyl_qpos)\n",
    "scene.step()"
   ]
  },
  {
   "cell_type": "code",
   "execution_count": null,
   "id": "0e56bccb",
   "metadata": {},
   "outputs": [
    {
     "name": "stderr",
     "output_type": "stream",
     "text": [
      "C:\\Users\\boroj\\AppData\\Local\\Temp\\ipykernel_21256\\599004262.py:2: DeprecationWarning: __array__ implementation doesn't accept a copy keyword, so passing copy=False failed. __array__ must implement 'dtype' and 'copy' keyword arguments.\n",
      "  vertices = np.array(vertices)\n"
     ]
    },
    {
     "data": {
      "text/plain": [
       "array([ 0.7505875 , -0.23      , -0.00115065], dtype=float32)"
      ]
     },
     "execution_count": 13,
     "metadata": {},
     "output_type": "execute_result"
    }
   ],
   "source": [
    "vertices = cylinder.get_verts()\n",
    "vertices = np.array(vertices)\n",
    "\n",
    "max_x = np.max(vertices[:, 0])\n",
    "min_y = np.min(vertices[:, 1])\n",
    "min_z = np.min(vertices[:, 2])\n",
    "max_y = np.max(vertices[:, 1])\n",
    "\n",
    "v1 = np.array([max_x, min_y, min_z])  # max x, min y, min z\n",
    "v2 = np.array([max_x, max_y, min_z])  # max x, max y, min z\n",
    "v1"
   ]
  },
  {
   "cell_type": "code",
   "execution_count": 14,
   "id": "454debcf",
   "metadata": {},
   "outputs": [
    {
     "data": {
      "text/plain": [
       "array([ 0.7505875 , -0.17      , -0.00115065], dtype=float32)"
      ]
     },
     "execution_count": 14,
     "metadata": {},
     "output_type": "execute_result"
    }
   ],
   "source": [
    "v2"
   ]
  },
  {
   "cell_type": "code",
   "execution_count": 15,
   "id": "e1deb98d",
   "metadata": {},
   "outputs": [
    {
     "data": {
      "text/plain": [
       "tensor([[ 0.6499, -0.2300, -0.0012],\n",
       "        [ 0.7506, -0.1700,  0.0600]])"
      ]
     },
     "execution_count": 15,
     "metadata": {},
     "output_type": "execute_result"
    }
   ],
   "source": [
    "cylinder.get_AABB()"
   ]
  },
  {
   "cell_type": "code",
   "execution_count": 16,
   "id": "358ec44b",
   "metadata": {},
   "outputs": [
    {
     "data": {
      "text/plain": [
       "tensor([ 0.7003, -0.2000,  0.0294])"
      ]
     },
     "execution_count": 16,
     "metadata": {},
     "output_type": "execute_result"
    }
   ],
   "source": [
    "cylinder.get_pos()"
   ]
  },
  {
   "cell_type": "code",
   "execution_count": null,
   "id": "fa2fbb0b",
   "metadata": {},
   "outputs": [],
   "source": [
    "def get_obj_screw(object):\n",
    "    \"\"\"\n",
    "    Get the screw parameters of the object\n",
    "    \"\"\"\n",
    "    # get the vertices of the object\n",
    "    vertices = object.get_verts()\n",
    "    vertices = vertices.numpy()\n",
    "\n",
    "    # get the max and min x, y, z coordinates\n",
    "    max_x = np.max(vertices[:, 0])\n",
    "    min_x = np.min(vertices[:, 0])\n",
    "    min_y = np.min(vertices[:, 1])\n",
    "    min_z = np.min(vertices[:, 2])\n",
    "    max_y = np.max(vertices[:, 1])\n",
    "    \n",
    "    v1 = np.array([max_x, min_y, min_z])  # max x, min y, min z\n",
    "    v2 = np.array([max_x, max_y, min_z])  # max x, max y, min z\n",
    "    v3 = np.array([min_x, max_y, min_z])  # min x, max y, min z\n",
    "    \n",
    "    if np.linalg.norm(v1-v2) <= np.linalg.norm(v2-v3):\n",
    "        s = (v1-v2) / np.linalg.norm(v1-v2) # unit vector in the direction of the screw axis\n",
    "        q = v2 # point on the screw axis\n",
    "        h = 0 # pitch of the screw axis\n",
    "    else:\n",
    "        s = (v2-v3) / np.linalg.norm(v2-v3) # unit vector in the direction of the screw axis\n",
    "        q = v2 # point on the screw axis\n",
    "        h = 0 # pitch of the screw axis\n",
    "    \n",
    "    pt.check_screw_parameters(q, s, h) # check if the screw parameters are valid\n",
    "    return s, q, h\n"
   ]
  },
  {
   "cell_type": "code",
   "execution_count": 144,
   "id": "750563b1",
   "metadata": {},
   "outputs": [],
   "source": [
    "def obj_dq(object):\n",
    "    \"\"\"\n",
    "    Get the screw parameters of the object and apply sclerp to the object in dual quaternion\n",
    "    \"\"\"\n",
    "    # get the screw parameters of the object\n",
    "    s, q, h = get_obj_screw(object)\n",
    "    \n",
    "    pq = object.get_qpos().cpu().numpy()\n",
    "\n",
    "    obj_initial_dq = pt.dual_quaternion_from_pq(pq) # dual quaternion from position and quaternion\n",
    "    \n",
    "    Screw_dq = pt.dual_quaternion_from_screw_parameters(q=q, s_axis=s, h=0, theta=-np.pi/2) # dual quaternion from screw parameters that make the object upright\n",
    "    intermediate_T = pt.transform_log_from_screw_matrix\n",
    "    Screw_T = pt.transform_from_dual_quaternion(Screw_dq) # transform from dual quaternion to transformation matrix\n",
    "    print(\"screw_dq: \\n\", Screw_dq)\n",
    "    print(\"screw_T: \\n\", Screw_T)\n",
    "    obj_goal_dq = pt.concatenate_dual_quaternions(Screw_dq, obj_initial_dq)\n",
    "    obj_goal_T = pt.transform_from_dual_quaternion(obj_goal_dq) # transform from dual quaternion to transformation matrix\n",
    "    print(\"obj_goal_dq: \\n\", obj_goal_dq)\n",
    "    print(\"obj_goal_T: \\n\", obj_goal_T)\n",
    "    return obj_initial_dq, obj_goal_dq"
   ]
  },
  {
   "cell_type": "code",
   "execution_count": null,
   "id": "c8ac52da",
   "metadata": {},
   "outputs": [],
   "source": [
    "def obj_sclerp(object, obj_initial_dq, obj_goal_dq, method, steps):\n",
    "    \"\"\"\n",
    "    Apply sclerp to the object in dual quaternion\n",
    "    \"\"\"\n",
    "    s = np.linspace(0, 1, steps)\n",
    "    if method == 'linear':\n",
    "        tau = s\n",
    "    if method == 'cubic':\n",
    "        tau = 3*s**2 - 2*s**3\n",
    "    if method == 'quintic':\n",
    "        tau = 10*s**3 - 15*s**4 + 6*s**5\n",
    "        \n",
    "    # get the dual quaternion of the object\n",
    "    dq_traj = np.vstack(\n",
    "            [ptr.dual_quaternions_sclerp(obj_initial_dq, obj_goal_dq, t) for t in tau]\n",
    "        )  # spherical linear interpolation between two dual quaternions\n",
    "    # get the position and quaternion from the dual quaternion\n",
    "    obj_qpos = ptr.pqs_from_dual_quaternions(dq_traj)\n",
    "    \n",
    "    return dq_traj, obj_qpos"
   ]
  },
  {
   "cell_type": "code",
   "execution_count": 92,
   "id": "45ac6a84",
   "metadata": {},
   "outputs": [
    {
     "name": "stdout",
     "output_type": "stream",
     "text": [
      "\u001b[38;5;159m[Genesis] [12:09:41] [INFO] Resetting Scene \u001b[38;5;121m\u001b[3m<c635b54>\u001b[0m\u001b[38;5;159m.\u001b[0m\n"
     ]
    }
   ],
   "source": [
    "scene.reset()"
   ]
  },
  {
   "cell_type": "code",
   "execution_count": null,
   "id": "33e15e2b",
   "metadata": {},
   "outputs": [],
   "source": [
    "s = np.array([0.75, 0, 0]) # screw axis\n"
   ]
  },
  {
   "cell_type": "code",
   "execution_count": 131,
   "id": "ed20a212",
   "metadata": {},
   "outputs": [
    {
     "data": {
      "text/plain": [
       "tensor([0.7000, 0.0000, 0.0150])"
      ]
     },
     "execution_count": 131,
     "metadata": {},
     "output_type": "execute_result"
    }
   ],
   "source": [
    "cube.get_pos()"
   ]
  },
  {
   "cell_type": "code",
   "execution_count": 136,
   "id": "af239a14",
   "metadata": {},
   "outputs": [
    {
     "data": {
      "text/plain": [
       "array([0.75 , 0.035, 0.   ], dtype=float32)"
      ]
     },
     "execution_count": 136,
     "metadata": {},
     "output_type": "execute_result"
    }
   ],
   "source": [
    "q "
   ]
  },
  {
   "cell_type": "code",
   "execution_count": 140,
   "id": "5b11233a",
   "metadata": {},
   "outputs": [],
   "source": [
    "T1 = pt.transform_from_dual_quaternion(obj_initial_dq)"
   ]
  },
  {
   "cell_type": "code",
   "execution_count": 138,
   "id": "35da81b8",
   "metadata": {},
   "outputs": [
    {
     "name": "stdout",
     "output_type": "stream",
     "text": [
      "[[-2.22044605e-16  0.00000000e+00  1.00000000e+00  7.50000000e-01]\n",
      " [-0.00000000e+00  1.00000000e+00  0.00000000e+00  0.00000000e+00]\n",
      " [-1.00000000e+00 -0.00000000e+00 -2.22044605e-16  7.50000000e-01]\n",
      " [ 0.00000000e+00  0.00000000e+00  0.00000000e+00  1.00000000e+00]]\n"
     ]
    }
   ],
   "source": [
    "Screw_dq = pt.dual_quaternion_from_screw_parameters(q=q, s_axis=s, h=0, theta=-np.pi/2)\n",
    "T2 = pt.transform_from_dual_quaternion(Screw_dq)\n",
    "print(T2)"
   ]
  },
  {
   "cell_type": "code",
   "execution_count": 143,
   "id": "e6d748a5",
   "metadata": {},
   "outputs": [
    {
     "name": "stdout",
     "output_type": "stream",
     "text": [
      "[[-2.22044605e-16  0.00000000e+00  1.00000000e+00  7.65000000e-01]\n",
      " [ 0.00000000e+00  1.00000000e+00  0.00000000e+00  0.00000000e+00]\n",
      " [-1.00000000e+00  0.00000000e+00 -2.22044605e-16  5.00000119e-02]\n",
      " [ 0.00000000e+00  0.00000000e+00  0.00000000e+00  1.00000000e+00]]\n"
     ]
    }
   ],
   "source": [
    "print(T2@T1)"
   ]
  },
  {
   "cell_type": "code",
   "execution_count": 142,
   "id": "4b5e3d3a",
   "metadata": {},
   "outputs": [
    {
     "name": "stdout",
     "output_type": "stream",
     "text": [
      "[[-2.22044605e-16  0.00000000e+00  1.00000000e+00  1.44999999e+00]\n",
      " [ 0.00000000e+00  1.00000000e+00  0.00000000e+00  0.00000000e+00]\n",
      " [-1.00000000e+00  0.00000000e+00 -2.22044605e-16  7.65000000e-01]\n",
      " [ 0.00000000e+00  0.00000000e+00  0.00000000e+00  1.00000000e+00]]\n"
     ]
    }
   ],
   "source": [
    "print(T1@T2)"
   ]
  },
  {
   "cell_type": "code",
   "execution_count": 145,
   "id": "4f545556",
   "metadata": {},
   "outputs": [
    {
     "name": "stdout",
     "output_type": "stream",
     "text": [
      "\u001b[38;5;159m[Genesis] [13:09:33] [INFO] Resetting Scene \u001b[38;5;121m\u001b[3m<c635b54>\u001b[0m\u001b[38;5;159m.\u001b[0m\n",
      "screw_dq: \n",
      " [ 0.70710678 -0.          0.70710678 -0.         -0.         -0.\n",
      "  0.          0.53033009]\n",
      "screw_T: \n",
      " [[-2.22044605e-16  0.00000000e+00  1.00000000e+00  7.50000000e-01]\n",
      " [-0.00000000e+00  1.00000000e+00  0.00000000e+00  0.00000000e+00]\n",
      " [-1.00000000e+00 -0.00000000e+00 -2.22044605e-16  7.50000000e-01]\n",
      " [ 0.00000000e+00  0.00000000e+00  0.00000000e+00  1.00000000e+00]]\n",
      "obj_goal_dq: \n",
      " [0.70710678 0.         0.70710678 0.         0.         0.25279067\n",
      " 0.         0.28814602]\n",
      "obj_goal_T: \n",
      " [[-2.22044605e-16  0.00000000e+00  1.00000000e+00  7.65000000e-01]\n",
      " [ 0.00000000e+00  1.00000000e+00  0.00000000e+00  0.00000000e+00]\n",
      " [-1.00000000e+00  0.00000000e+00 -2.22044605e-16  5.00000119e-02]\n",
      " [ 0.00000000e+00  0.00000000e+00  0.00000000e+00  1.00000000e+00]]\n"
     ]
    },
    {
     "data": {
      "text/plain": [
       "100"
      ]
     },
     "execution_count": 145,
     "metadata": {},
     "output_type": "execute_result"
    }
   ],
   "source": [
    "# calling functions\n",
    "scene.reset()\n",
    "s, q, h = get_obj_screw(cube)\n",
    "\n",
    "obj_initial_dq, obj_goal_dq = obj_dq(cube)\n",
    "dq_traj, obj_qpos = obj_sclerp(cube, obj_initial_dq, obj_goal_dq, 'linear', 100)\n",
    "dq_traj.shape[0]"
   ]
  },
  {
   "cell_type": "code",
   "execution_count": 125,
   "id": "f4dd35c4",
   "metadata": {},
   "outputs": [
    {
     "data": {
      "text/plain": [
       "0"
      ]
     },
     "execution_count": 125,
     "metadata": {},
     "output_type": "execute_result"
    }
   ],
   "source": [
    "h"
   ]
  },
  {
   "cell_type": "code",
   "execution_count": 148,
   "id": "dc16f8d1",
   "metadata": {},
   "outputs": [
    {
     "name": "stdout",
     "output_type": "stream",
     "text": [
      "\u001b[38;5;159m[Genesis] [13:10:24] [INFO] Resetting Scene \u001b[38;5;121m\u001b[3m<c635b54>\u001b[0m\u001b[38;5;159m.\u001b[0m\n",
      "\u001b[38;5;159m[Genesis] [13:10:24] [INFO] Running at \u001b[38;5;121m1.54\u001b[0m\u001b[38;5;159m FPS.\u001b[0m\n",
      "\u001b[38;5;159m[Genesis] [13:10:24] [INFO] Running at \u001b[38;5;121m1.61\u001b[0m\u001b[38;5;159m FPS.\u001b[0m\n",
      "\u001b[38;5;159m[Genesis] [13:10:24] [INFO] Running at \u001b[38;5;121m1.70\u001b[0m\u001b[38;5;159m FPS.\u001b[0m\n",
      "\u001b[38;5;159m[Genesis] [13:10:24] [INFO] Running at \u001b[38;5;121m1.78\u001b[0m\u001b[38;5;159m FPS.\u001b[0m\n",
      "\u001b[38;5;159m[Genesis] [13:10:24] [INFO] Running at \u001b[38;5;121m1.87\u001b[0m\u001b[38;5;159m FPS.\u001b[0m\n",
      "\u001b[38;5;159m[Genesis] [13:10:24] [INFO] Running at \u001b[38;5;121m1.96\u001b[0m\u001b[38;5;159m FPS.\u001b[0m\n",
      "\u001b[38;5;159m[Genesis] [13:10:24] [INFO] Running at \u001b[38;5;121m2.06\u001b[0m\u001b[38;5;159m FPS.\u001b[0m\n",
      "\u001b[38;5;159m[Genesis] [13:10:24] [INFO] Running at \u001b[38;5;121m2.17\u001b[0m\u001b[38;5;159m FPS.\u001b[0m\n",
      "\u001b[38;5;159m[Genesis] [13:10:24] [INFO] Running at \u001b[38;5;121m2.27\u001b[0m\u001b[38;5;159m FPS.\u001b[0m\n",
      "\u001b[38;5;159m[Genesis] [13:10:24] [INFO] Running at \u001b[38;5;121m2.38\u001b[0m\u001b[38;5;159m FPS.\u001b[0m\n",
      "\u001b[38;5;159m[Genesis] [13:10:24] [INFO] Running at \u001b[38;5;121m2.50\u001b[0m\u001b[38;5;159m FPS.\u001b[0m\n",
      "\u001b[38;5;159m[Genesis] [13:10:24] [INFO] Running at \u001b[38;5;121m2.62\u001b[0m\u001b[38;5;159m FPS.\u001b[0m\n",
      "\u001b[38;5;159m[Genesis] [13:10:24] [INFO] Running at \u001b[38;5;121m2.74\u001b[0m\u001b[38;5;159m FPS.\u001b[0m\n",
      "\u001b[38;5;159m[Genesis] [13:10:24] [INFO] Running at \u001b[38;5;121m2.88\u001b[0m\u001b[38;5;159m FPS.\u001b[0m\n",
      "\u001b[38;5;159m[Genesis] [13:10:24] [INFO] Running at \u001b[38;5;121m3.01\u001b[0m\u001b[38;5;159m FPS.\u001b[0m\n",
      "\u001b[38;5;159m[Genesis] [13:10:24] [INFO] Running at \u001b[38;5;121m3.16\u001b[0m\u001b[38;5;159m FPS.\u001b[0m\n",
      "\u001b[38;5;159m[Genesis] [13:10:24] [INFO] Running at \u001b[38;5;121m3.31\u001b[0m\u001b[38;5;159m FPS.\u001b[0m\n",
      "\u001b[38;5;159m[Genesis] [13:10:24] [INFO] Running at \u001b[38;5;121m3.46\u001b[0m\u001b[38;5;159m FPS.\u001b[0m\n",
      "\u001b[38;5;159m[Genesis] [13:10:24] [INFO] Running at \u001b[38;5;121m3.61\u001b[0m\u001b[38;5;159m FPS.\u001b[0m\n",
      "\u001b[38;5;159m[Genesis] [13:10:24] [INFO] Running at \u001b[38;5;121m3.78\u001b[0m\u001b[38;5;159m FPS.\u001b[0m\n",
      "\u001b[38;5;159m[Genesis] [13:10:24] [INFO] Running at \u001b[38;5;121m3.93\u001b[0m\u001b[38;5;159m FPS.\u001b[0m\n",
      "\u001b[38;5;159m[Genesis] [13:10:24] [INFO] Running at \u001b[38;5;121m4.10\u001b[0m\u001b[38;5;159m FPS.\u001b[0m\n",
      "\u001b[38;5;159m[Genesis] [13:10:24] [INFO] Running at \u001b[38;5;121m4.27\u001b[0m\u001b[38;5;159m FPS.\u001b[0m\n",
      "\u001b[38;5;159m[Genesis] [13:10:25] [INFO] Running at \u001b[38;5;121m4.47\u001b[0m\u001b[38;5;159m FPS.\u001b[0m\n",
      "\u001b[38;5;159m[Genesis] [13:10:25] [INFO] Running at \u001b[38;5;121m4.68\u001b[0m\u001b[38;5;159m FPS.\u001b[0m\n",
      "\u001b[38;5;159m[Genesis] [13:10:25] [INFO] Running at \u001b[38;5;121m4.91\u001b[0m\u001b[38;5;159m FPS.\u001b[0m\n",
      "\u001b[38;5;159m[Genesis] [13:10:25] [INFO] Running at \u001b[38;5;121m5.13\u001b[0m\u001b[38;5;159m FPS.\u001b[0m\n",
      "\u001b[38;5;159m[Genesis] [13:10:25] [INFO] Running at \u001b[38;5;121m5.37\u001b[0m\u001b[38;5;159m FPS.\u001b[0m\n",
      "\u001b[38;5;159m[Genesis] [13:10:25] [INFO] Running at \u001b[38;5;121m5.62\u001b[0m\u001b[38;5;159m FPS.\u001b[0m\n",
      "\u001b[38;5;159m[Genesis] [13:10:25] [INFO] Running at \u001b[38;5;121m5.86\u001b[0m\u001b[38;5;159m FPS.\u001b[0m\n",
      "\u001b[38;5;159m[Genesis] [13:10:25] [INFO] Running at \u001b[38;5;121m6.11\u001b[0m\u001b[38;5;159m FPS.\u001b[0m\n",
      "\u001b[38;5;159m[Genesis] [13:10:25] [INFO] Running at \u001b[38;5;121m6.33\u001b[0m\u001b[38;5;159m FPS.\u001b[0m\n",
      "\u001b[38;5;159m[Genesis] [13:10:25] [INFO] Running at \u001b[38;5;121m6.62\u001b[0m\u001b[38;5;159m FPS.\u001b[0m\n",
      "\u001b[38;5;159m[Genesis] [13:10:25] [INFO] Running at \u001b[38;5;121m6.91\u001b[0m\u001b[38;5;159m FPS.\u001b[0m\n",
      "\u001b[38;5;159m[Genesis] [13:10:25] [INFO] Running at \u001b[38;5;121m7.21\u001b[0m\u001b[38;5;159m FPS.\u001b[0m\n",
      "\u001b[38;5;159m[Genesis] [13:10:25] [INFO] Running at \u001b[38;5;121m7.45\u001b[0m\u001b[38;5;159m FPS.\u001b[0m\n",
      "\u001b[38;5;159m[Genesis] [13:10:25] [INFO] Running at \u001b[38;5;121m7.76\u001b[0m\u001b[38;5;159m FPS.\u001b[0m\n",
      "\u001b[38;5;159m[Genesis] [13:10:25] [INFO] Running at \u001b[38;5;121m8.09\u001b[0m\u001b[38;5;159m FPS.\u001b[0m\n",
      "\u001b[38;5;159m[Genesis] [13:10:25] [INFO] Running at \u001b[38;5;121m8.44\u001b[0m\u001b[38;5;159m FPS.\u001b[0m\n",
      "\u001b[38;5;159m[Genesis] [13:10:25] [INFO] Running at \u001b[38;5;121m8.76\u001b[0m\u001b[38;5;159m FPS.\u001b[0m\n",
      "\u001b[38;5;159m[Genesis] [13:10:25] [INFO] Running at \u001b[38;5;121m9.09\u001b[0m\u001b[38;5;159m FPS.\u001b[0m\n",
      "\u001b[38;5;159m[Genesis] [13:10:25] [INFO] Running at \u001b[38;5;121m9.43\u001b[0m\u001b[38;5;159m FPS.\u001b[0m\n",
      "\u001b[38;5;159m[Genesis] [13:10:25] [INFO] Running at \u001b[38;5;121m9.84\u001b[0m\u001b[38;5;159m FPS.\u001b[0m\n",
      "\u001b[38;5;159m[Genesis] [13:10:25] [INFO] Running at \u001b[38;5;121m10.23\u001b[0m\u001b[38;5;159m FPS.\u001b[0m\n",
      "\u001b[38;5;159m[Genesis] [13:10:25] [INFO] Running at \u001b[38;5;121m10.66\u001b[0m\u001b[38;5;159m FPS.\u001b[0m\n",
      "\u001b[38;5;159m[Genesis] [13:10:25] [INFO] Running at \u001b[38;5;121m10.98\u001b[0m\u001b[38;5;159m FPS.\u001b[0m\n",
      "\u001b[38;5;159m[Genesis] [13:10:25] [INFO] Running at \u001b[38;5;121m11.30\u001b[0m\u001b[38;5;159m FPS.\u001b[0m\n",
      "\u001b[38;5;159m[Genesis] [13:10:25] [INFO] Running at \u001b[38;5;121m11.63\u001b[0m\u001b[38;5;159m FPS.\u001b[0m\n",
      "\u001b[38;5;159m[Genesis] [13:10:25] [INFO] Running at \u001b[38;5;121m12.05\u001b[0m\u001b[38;5;159m FPS.\u001b[0m\n",
      "\u001b[38;5;159m[Genesis] [13:10:25] [INFO] Running at \u001b[38;5;121m12.40\u001b[0m\u001b[38;5;159m FPS.\u001b[0m\n",
      "\u001b[38;5;159m[Genesis] [13:10:25] [INFO] Running at \u001b[38;5;121m12.81\u001b[0m\u001b[38;5;159m FPS.\u001b[0m\n",
      "\u001b[38;5;159m[Genesis] [13:10:25] [INFO] Running at \u001b[38;5;121m13.02\u001b[0m\u001b[38;5;159m FPS.\u001b[0m\n",
      "\u001b[38;5;159m[Genesis] [13:10:25] [INFO] Running at \u001b[38;5;121m13.29\u001b[0m\u001b[38;5;159m FPS.\u001b[0m\n",
      "\u001b[38;5;159m[Genesis] [13:10:25] [INFO] Running at \u001b[38;5;121m13.60\u001b[0m\u001b[38;5;159m FPS.\u001b[0m\n",
      "\u001b[38;5;159m[Genesis] [13:10:26] [INFO] Running at \u001b[38;5;121m13.99\u001b[0m\u001b[38;5;159m FPS.\u001b[0m\n",
      "\u001b[38;5;159m[Genesis] [13:10:26] [INFO] Running at \u001b[38;5;121m14.49\u001b[0m\u001b[38;5;159m FPS.\u001b[0m\n",
      "\u001b[38;5;159m[Genesis] [13:10:26] [INFO] Running at \u001b[38;5;121m14.71\u001b[0m\u001b[38;5;159m FPS.\u001b[0m\n",
      "\u001b[38;5;159m[Genesis] [13:10:26] [INFO] Running at \u001b[38;5;121m14.87\u001b[0m\u001b[38;5;159m FPS.\u001b[0m\n",
      "\u001b[38;5;159m[Genesis] [13:10:26] [INFO] Running at \u001b[38;5;121m15.12\u001b[0m\u001b[38;5;159m FPS.\u001b[0m\n",
      "\u001b[38;5;159m[Genesis] [13:10:26] [INFO] Running at \u001b[38;5;121m15.68\u001b[0m\u001b[38;5;159m FPS.\u001b[0m\n",
      "\u001b[38;5;159m[Genesis] [13:10:26] [INFO] Running at \u001b[38;5;121m16.13\u001b[0m\u001b[38;5;159m FPS.\u001b[0m\n",
      "\u001b[38;5;159m[Genesis] [13:10:26] [INFO] Running at \u001b[38;5;121m16.54\u001b[0m\u001b[38;5;159m FPS.\u001b[0m\n",
      "\u001b[38;5;159m[Genesis] [13:10:26] [INFO] Running at \u001b[38;5;121m17.14\u001b[0m\u001b[38;5;159m FPS.\u001b[0m\n",
      "\u001b[38;5;159m[Genesis] [13:10:26] [INFO] Running at \u001b[38;5;121m17.69\u001b[0m\u001b[38;5;159m FPS.\u001b[0m\n",
      "\u001b[38;5;159m[Genesis] [13:10:26] [INFO] Running at \u001b[38;5;121m18.06\u001b[0m\u001b[38;5;159m FPS.\u001b[0m\n",
      "\u001b[38;5;159m[Genesis] [13:10:26] [INFO] Running at \u001b[38;5;121m18.51\u001b[0m\u001b[38;5;159m FPS.\u001b[0m\n",
      "\u001b[38;5;159m[Genesis] [13:10:26] [INFO] Running at \u001b[38;5;121m18.75\u001b[0m\u001b[38;5;159m FPS.\u001b[0m\n",
      "\u001b[38;5;159m[Genesis] [13:10:26] [INFO] Running at \u001b[38;5;121m19.20\u001b[0m\u001b[38;5;159m FPS.\u001b[0m\n",
      "\u001b[38;5;159m[Genesis] [13:10:26] [INFO] Running at \u001b[38;5;121m19.53\u001b[0m\u001b[38;5;159m FPS.\u001b[0m\n",
      "\u001b[38;5;159m[Genesis] [13:10:26] [INFO] Running at \u001b[38;5;121m20.00\u001b[0m\u001b[38;5;159m FPS.\u001b[0m\n",
      "\u001b[38;5;159m[Genesis] [13:10:26] [INFO] Running at \u001b[38;5;121m20.38\u001b[0m\u001b[38;5;159m FPS.\u001b[0m\n",
      "\u001b[38;5;159m[Genesis] [13:10:26] [INFO] Running at \u001b[38;5;121m20.97\u001b[0m\u001b[38;5;159m FPS.\u001b[0m\n",
      "\u001b[38;5;159m[Genesis] [13:10:26] [INFO] Running at \u001b[38;5;121m21.61\u001b[0m\u001b[38;5;159m FPS.\u001b[0m\n",
      "\u001b[38;5;159m[Genesis] [13:10:26] [INFO] Running at \u001b[38;5;121m21.85\u001b[0m\u001b[38;5;159m FPS.\u001b[0m\n",
      "\u001b[38;5;159m[Genesis] [13:10:26] [INFO] Running at \u001b[38;5;121m22.41\u001b[0m\u001b[38;5;159m FPS.\u001b[0m\n",
      "\u001b[38;5;159m[Genesis] [13:10:26] [INFO] Running at \u001b[38;5;121m22.48\u001b[0m\u001b[38;5;159m FPS.\u001b[0m\n",
      "\u001b[38;5;159m[Genesis] [13:10:26] [INFO] Running at \u001b[38;5;121m22.55\u001b[0m\u001b[38;5;159m FPS.\u001b[0m\n",
      "\u001b[38;5;159m[Genesis] [13:10:26] [INFO] Running at \u001b[38;5;121m22.48\u001b[0m\u001b[38;5;159m FPS.\u001b[0m\n",
      "\u001b[38;5;159m[Genesis] [13:10:26] [INFO] Running at \u001b[38;5;121m22.40\u001b[0m\u001b[38;5;159m FPS.\u001b[0m\n",
      "\u001b[38;5;159m[Genesis] [13:10:26] [INFO] Running at \u001b[38;5;121m22.25\u001b[0m\u001b[38;5;159m FPS.\u001b[0m\n",
      "\u001b[38;5;159m[Genesis] [13:10:26] [INFO] Running at \u001b[38;5;121m22.11\u001b[0m\u001b[38;5;159m FPS.\u001b[0m\n",
      "\u001b[38;5;159m[Genesis] [13:10:27] [INFO] Running at \u001b[38;5;121m22.42\u001b[0m\u001b[38;5;159m FPS.\u001b[0m\n",
      "\u001b[38;5;159m[Genesis] [13:10:27] [INFO] Running at \u001b[38;5;121m22.62\u001b[0m\u001b[38;5;159m FPS.\u001b[0m\n",
      "\u001b[38;5;159m[Genesis] [13:10:27] [INFO] Running at \u001b[38;5;121m23.16\u001b[0m\u001b[38;5;159m FPS.\u001b[0m\n",
      "\u001b[38;5;159m[Genesis] [13:10:27] [INFO] Running at \u001b[38;5;121m23.63\u001b[0m\u001b[38;5;159m FPS.\u001b[0m\n",
      "\u001b[38;5;159m[Genesis] [13:10:27] [INFO] Running at \u001b[38;5;121m24.00\u001b[0m\u001b[38;5;159m FPS.\u001b[0m\n",
      "\u001b[38;5;159m[Genesis] [13:10:27] [INFO] Running at \u001b[38;5;121m24.05\u001b[0m\u001b[38;5;159m FPS.\u001b[0m\n",
      "\u001b[38;5;159m[Genesis] [13:10:27] [INFO] Running at \u001b[38;5;121m24.18\u001b[0m\u001b[38;5;159m FPS.\u001b[0m\n",
      "\u001b[38;5;159m[Genesis] [13:10:27] [INFO] Running at \u001b[38;5;121m24.27\u001b[0m\u001b[38;5;159m FPS.\u001b[0m\n",
      "\u001b[38;5;159m[Genesis] [13:10:27] [INFO] Running at \u001b[38;5;121m24.89\u001b[0m\u001b[38;5;159m FPS.\u001b[0m\n",
      "\u001b[38;5;159m[Genesis] [13:10:27] [INFO] Running at \u001b[38;5;121m25.58\u001b[0m\u001b[38;5;159m FPS.\u001b[0m\n",
      "\u001b[38;5;159m[Genesis] [13:10:27] [INFO] Running at \u001b[38;5;121m26.03\u001b[0m\u001b[38;5;159m FPS.\u001b[0m\n",
      "\u001b[38;5;159m[Genesis] [13:10:27] [INFO] Running at \u001b[38;5;121m26.73\u001b[0m\u001b[38;5;159m FPS.\u001b[0m\n",
      "\u001b[38;5;159m[Genesis] [13:10:27] [INFO] Running at \u001b[38;5;121m26.59\u001b[0m\u001b[38;5;159m FPS.\u001b[0m\n",
      "\u001b[38;5;159m[Genesis] [13:10:27] [INFO] Running at \u001b[38;5;121m26.49\u001b[0m\u001b[38;5;159m FPS.\u001b[0m\n",
      "\u001b[38;5;159m[Genesis] [13:10:27] [INFO] Running at \u001b[38;5;121m26.05\u001b[0m\u001b[38;5;159m FPS.\u001b[0m\n",
      "\u001b[38;5;159m[Genesis] [13:10:27] [INFO] Running at \u001b[38;5;121m25.49\u001b[0m\u001b[38;5;159m FPS.\u001b[0m\n",
      "\u001b[38;5;159m[Genesis] [13:10:27] [INFO] Running at \u001b[38;5;121m25.42\u001b[0m\u001b[38;5;159m FPS.\u001b[0m\n",
      "\u001b[38;5;159m[Genesis] [13:10:27] [INFO] Running at \u001b[38;5;121m25.48\u001b[0m\u001b[38;5;159m FPS.\u001b[0m\n",
      "\u001b[38;5;159m[Genesis] [13:10:27] [INFO] Running at \u001b[38;5;121m26.16\u001b[0m\u001b[38;5;159m FPS.\u001b[0m\n"
     ]
    }
   ],
   "source": [
    "scene.reset()\n",
    "for i in range (obj_qpos.shape[0]):\n",
    "    franka.set_qpos(qr)\n",
    "    cube.set_qpos(obj_qpos[i])\n",
    "    scene.step()\n"
   ]
  },
  {
   "cell_type": "code",
   "execution_count": 51,
   "id": "0fa677dd",
   "metadata": {},
   "outputs": [],
   "source": [
    "s,q,h = get_obj_screw(cylinder)"
   ]
  },
  {
   "cell_type": "code",
   "execution_count": 55,
   "id": "f3c7fb42",
   "metadata": {},
   "outputs": [],
   "source": [
    "pos = cylinder.get_pos().cpu().numpy() \n",
    "quat = cylinder.get_quat().cpu().numpy() \n",
    "    \n",
    "# Concatenate into a single array\n",
    "pq = np.concatenate([pos, quat])\n",
    "obj_dq = pt.dual_quaternion_from_pq(pq) # dual quaternion from position and quaternion"
   ]
  },
  {
   "cell_type": "code",
   "execution_count": null,
   "id": "ca4a61c1",
   "metadata": {},
   "outputs": [
    {
     "data": {
      "text/plain": [
       "<function pytransform3d.transformations._dual_quaternion.dual_quaternion_sclerp(start, end, t)>"
      ]
     },
     "execution_count": 58,
     "metadata": {},
     "output_type": "execute_result"
    }
   ],
   "source": [
    "screw_dq = pt.dual_quaternion_from_screw_parameters(s, q, h, np.pi/2) # dual quaternion from screw parameters\n",
    "pt.dual_quaternion_sclerp"
   ]
  },
  {
   "cell_type": "code",
   "execution_count": 59,
   "id": "5fb891ae",
   "metadata": {},
   "outputs": [
    {
     "data": {
      "text/plain": [
       "array([-0.39297261, -0.49112069,  0.60825131, -0.48415219,  0.23989887,\n",
       "        0.38603317,  0.20159041, -0.33304596])"
      ]
     },
     "execution_count": 59,
     "metadata": {},
     "output_type": "execute_result"
    }
   ],
   "source": [
    "pt.concatenate_dual_quaternions(obj_dq, screw_dq)"
   ]
  },
  {
   "cell_type": "code",
   "execution_count": 32,
   "id": "a237a013",
   "metadata": {},
   "outputs": [
    {
     "data": {
      "text/plain": [
       "(tensor([ 0.4585, -0.0406,  0.3952]),\n",
       " tensor([0.4582, 0.0394, 0.3948]),\n",
       " tensor([ 4.5857e-01, -2.7521e-04,  4.5343e-01]))"
      ]
     },
     "execution_count": 32,
     "metadata": {},
     "output_type": "execute_result"
    }
   ],
   "source": [
    "end_effector = franka.get_link('hand')\n",
    "left_finger = franka.get_link('left_finger')\n",
    "right_finger = franka.get_link('right_finger')\n",
    "\n",
    "left_finger.get_pos(), right_finger.get_pos(), end_effector.get_pos()"
   ]
  },
  {
   "cell_type": "code",
   "execution_count": 33,
   "id": "a4b7dc63",
   "metadata": {},
   "outputs": [],
   "source": [
    "\n",
    "# get the end-effector link\n",
    "end_effector = franka.get_link('hand')\n",
    "above_box = cube.get_pos().cpu().numpy() + np.array([-cube_size[0]/2 + 0.02, 0, 0.11 + 0.1])\n",
    "# move to pre-grasp pose\n",
    "qpos = franka.inverse_kinematics(\n",
    "    link = end_effector,\n",
    "    pos  = above_box,\n",
    "    quat = np.array([0, 1, 0, 0]),\n",
    ")\n",
    "# # gripper open pos\n",
    "# qpos[-2:] = 0.04\n",
    "# path = franka.plan_path(\n",
    "#     qpos_goal     = qpos,\n",
    "#     num_waypoints = 200, # 2s duration\n",
    "# )"
   ]
  },
  {
   "cell_type": "code",
   "execution_count": null,
   "id": "f5cae6f6",
   "metadata": {},
   "outputs": [],
   "source": [
    "franka.get_qpos(), qpos\n",
    "\n",
    "# find straight path in joint space\n",
    "s = np.linspace(0, 1, 200)\n",
    "current_pose = franka.get_qpos().cpu().numpy()\n",
    "goal_pos = qpos.cpu().numpy()\n",
    "path = current_pose + s[:, None] * (goal_pos - current_pose)\n"
   ]
  },
  {
   "cell_type": "code",
   "execution_count": null,
   "id": "94c54613",
   "metadata": {},
   "outputs": [],
   "source": []
  },
  {
   "cell_type": "code",
   "execution_count": null,
   "id": "c140671b",
   "metadata": {},
   "outputs": [],
   "source": [
    "for qpos in path:\n",
    "    # set qpos\n",
    "    franka.control_dofs_position(qpos)\n",
    "    # step simulation\n",
    "    scene.step()"
   ]
  },
  {
   "cell_type": "code",
   "execution_count": null,
   "id": "25183e44",
   "metadata": {},
   "outputs": [],
   "source": [
    "qpos"
   ]
  },
  {
   "cell_type": "code",
   "execution_count": null,
   "id": "e3141cfd",
   "metadata": {},
   "outputs": [],
   "source": [
    "# # execute the planned path\n",
    "# for waypoint in path:\n",
    "#     franka.control_dofs_position(waypoint)\n",
    "#     scene.step()\n",
    "\n",
    "# allow robot to reach the last waypoint\n",
    "for i in range(100):\n",
    "    scene.step()\n"
   ]
  },
  {
   "cell_type": "code",
   "execution_count": null,
   "id": "fbadc379",
   "metadata": {},
   "outputs": [],
   "source": [
    "side_box = above_box + np.array([0.0, 0.0, -0.1])\n",
    "\n",
    "\n",
    "# reach\n",
    "qpos_reach = franka.inverse_kinematics(\n",
    "    link = end_effector,\n",
    "    pos  = side_box,\n",
    "    quat = np.array([0, 1, 0, 0]),\n",
    ")\n",
    "# path = franka.plan_path(\n",
    "#     qpos_goal     = qpos_reach,\n",
    "#     num_waypoints = 100, # 1s duration\n",
    "# )\n",
    "\n",
    "# for waypoint in path:\n",
    "franka.control_dofs_position(qpos_reach)\n",
    "    # scene.step()\n",
    "\n",
    "# allow robot to reach the last waypoint\n",
    "for i in range(100):\n",
    "    scene.step()"
   ]
  },
  {
   "cell_type": "code",
   "execution_count": null,
   "id": "b2281cbe",
   "metadata": {},
   "outputs": [],
   "source": [
    "\n",
    "\n",
    "\n",
    "# grasp\n",
    "franka.control_dofs_position(qpos_reach[:-2], motors_dof)\n",
    "franka.control_dofs_force(np.array([-0.5, -0.5]), fingers_dof)\n",
    "\n",
    "for i in range(100):\n",
    "    scene.step()\n"
   ]
  },
  {
   "cell_type": "code",
   "execution_count": null,
   "id": "b95e9665",
   "metadata": {},
   "outputs": [],
   "source": [
    "\n",
    "# lift\n",
    "qpos = franka.inverse_kinematics(\n",
    "    link=end_effector,\n",
    "    pos=np.array([0.65, 0.0, 0.28]),\n",
    "    quat=np.array([0, 1, 0, 0]),\n",
    ")\n",
    "franka.control_dofs_position(qpos[:-2], motors_dof)\n",
    "for i in range(200):\n",
    "    scene.step()"
   ]
  },
  {
   "cell_type": "code",
   "execution_count": null,
   "id": "5b3c0a23",
   "metadata": {},
   "outputs": [],
   "source": [
    "# open\n",
    "qpos = franka.inverse_kinematics(\n",
    "    link=end_effector,\n",
    "    pos=np.array([0.65, 0.0, 0.28]),\n",
    "    quat=np.array([0, 1, 0, 0]),\n",
    ")\n",
    "\n",
    "franka.control_dofs_position(qpos[:-2], motors_dof)\n",
    "franka.control_dofs_force(np.array([0, 0]), fingers_dof)\n",
    "for i in range(100):\n",
    "    scene.step()\n",
    "# allow robot to reach the last waypoint\n",
    "for i in range(100):\n",
    "    scene.step()"
   ]
  },
  {
   "cell_type": "code",
   "execution_count": null,
   "id": "8651bfad",
   "metadata": {},
   "outputs": [],
   "source": []
  },
  {
   "cell_type": "code",
   "execution_count": null,
   "id": "b7b71fb9",
   "metadata": {},
   "outputs": [],
   "source": [
    "franka.get_dofs_force()"
   ]
  },
  {
   "cell_type": "code",
   "execution_count": null,
   "id": "1223e5e6",
   "metadata": {},
   "outputs": [],
   "source": [
    "cube_pos = cube.get_pos().cpu().numpy()\n",
    "cube_quat = cube.get_quat().cpu().numpy()\n",
    "\n",
    "cube_pos, cube_quat"
   ]
  },
  {
   "cell_type": "code",
   "execution_count": null,
   "id": "d4f55d9a",
   "metadata": {},
   "outputs": [],
   "source": [
    "cube_pos = cube.get_pos().cpu().numpy()\n",
    "cube_quat = cube.get_quat().cpu().numpy()\n",
    "\n",
    "qpos = franka.inverse_kinematics(\n",
    "    link=end_effector,\n",
    "    pos=cube_pos + np.array([0, 0, 0.3]),\n",
    "    quat=np.array([0, 1, 0, 0]),\n",
    ")\n",
    "\n",
    "franka.control_dofs_position(qpos[:-2], motors_dof)\n",
    "franka.control_dofs_force(np.array([0, 0]), fingers_dof)\n",
    "for i in range(100):\n",
    "    scene.step()\n",
    "# allow robot to reach the last waypoint\n",
    "for i in range(100):\n",
    "    scene.step()"
   ]
  },
  {
   "cell_type": "code",
   "execution_count": null,
   "id": "cae2007e",
   "metadata": {},
   "outputs": [],
   "source": [
    "\n",
    "cam.start_recording()\n",
    "import numpy as np\n",
    "\n",
    "for i in range(120):\n",
    "    scene.step()\n",
    "    cam.set_pose(\n",
    "        pos    = (3.0 * np.sin(i / 60), 3.0 * np.cos(i / 60), 2.5),\n",
    "        lookat = (0, 0, 0.5),\n",
    "    )\n",
    "    cam.render()\n",
    "cam.stop_recording(save_to_filename='video.mp4', fps=60)"
   ]
  }
 ],
 "metadata": {
  "kernelspec": {
   "display_name": "pygen",
   "language": "python",
   "name": "python3"
  },
  "language_info": {
   "codemirror_mode": {
    "name": "ipython",
    "version": 3
   },
   "file_extension": ".py",
   "mimetype": "text/x-python",
   "name": "python",
   "nbconvert_exporter": "python",
   "pygments_lexer": "ipython3",
   "version": "3.12.9"
  }
 },
 "nbformat": 4,
 "nbformat_minor": 5
}
