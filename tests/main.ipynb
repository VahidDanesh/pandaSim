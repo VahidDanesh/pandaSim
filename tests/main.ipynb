{
 "cells": [
  {
   "cell_type": "markdown",
   "id": "7db7bace",
   "metadata": {},
   "source": [
    "grasp"
   ]
  },
  {
   "cell_type": "code",
   "execution_count": 1,
   "id": "5502bb81",
   "metadata": {},
   "outputs": [],
   "source": [
    "import genesis as gs\n",
    "import numpy as np\n",
    "import torch\n",
    "from pytransform3d import (\n",
    "    transformations as pt,\n",
    "    rotations as pr,\n",
    "    batch_rotations as pb,\n",
    "    trajectories as ptr,\n",
    "    plot_utils as ppu\n",
    ")"
   ]
  },
  {
   "cell_type": "code",
   "execution_count": 2,
   "id": "28c123a4",
   "metadata": {},
   "outputs": [
    {
     "name": "stdout",
     "output_type": "stream",
     "text": [
      "\u001b[38;5;159m[Genesis] [17:37:37] [INFO] \u001b[38;5;121m╭───────────────────────────────────────────────╮\u001b[0m\u001b[38;5;159m\u001b[0m\n",
      "\u001b[38;5;159m[Genesis] [17:37:37] [INFO] \u001b[38;5;121m│┈┉┈┉┈┉┈┉┈┉┈┉┈┉┈┉┈┉┈\u001b[0m\u001b[38;5;159m \u001b[38;5;121m\u001b[1m\u001b[3mGenesis\u001b[0m\u001b[38;5;159m \u001b[38;5;121m┈┉┈┉┈┉┈┉┈┉┈┉┈┉┈┉┈┉┈│\u001b[0m\u001b[38;5;159m\u001b[0m\n",
      "\u001b[38;5;159m[Genesis] [17:37:37] [INFO] \u001b[38;5;121m╰───────────────────────────────────────────────╯\u001b[0m\u001b[38;5;159m\u001b[0m\n",
      "\u001b[38;5;159m[Genesis] [17:37:40] [INFO] Running on \u001b[38;5;121m\u001b[4m[13th Gen Intel(R) Core(TM) i7-13800H]\u001b[0m\u001b[38;5;159m with backend \u001b[38;5;121m\u001b[4mgs.cpu\u001b[0m\u001b[38;5;159m. Device memory: \u001b[38;5;121m\u001b[4m31.59\u001b[0m\u001b[38;5;159m GB.\u001b[0m\n",
      "\u001b[38;5;159m[Genesis] [17:37:40] [INFO] 🚀 Genesis initialized. 🔖 version: \u001b[38;5;121m\u001b[4m0.2.1\u001b[0m\u001b[38;5;159m, 🌱 seed: \u001b[38;5;121m\u001b[4m42\u001b[0m\u001b[38;5;159m, 📏 precision: '\u001b[38;5;121m\u001b[4m32\u001b[0m\u001b[38;5;159m', 🐛 debug: \u001b[38;5;121m\u001b[4mFalse\u001b[0m\u001b[38;5;159m, 🎨 theme: '\u001b[38;5;121m\u001b[4mdark\u001b[0m\u001b[38;5;159m'.\u001b[0m\n"
     ]
    }
   ],
   "source": [
    "gs.init(backend=gs.cpu, seed=42)"
   ]
  },
  {
   "cell_type": "code",
   "execution_count": 3,
   "id": "94b65edf",
   "metadata": {},
   "outputs": [
    {
     "name": "stdout",
     "output_type": "stream",
     "text": [
      "\u001b[38;5;159m[Genesis] [17:37:42] [INFO] Scene \u001b[38;5;121m\u001b[3m<2580b40>\u001b[0m\u001b[38;5;159m created.\u001b[0m\n",
      "\u001b[38;5;159m[Genesis] [17:37:42] [INFO] Adding \u001b[38;5;121m<gs.RigidEntity>\u001b[0m\u001b[38;5;159m. idx: \u001b[38;5;121m0\u001b[0m\u001b[38;5;159m, uid: \u001b[38;5;121m\u001b[3m<9d6f0ed>\u001b[0m\u001b[38;5;159m, morph: \u001b[38;5;121m<gs.morphs.Plane>\u001b[0m\u001b[38;5;159m, material: \u001b[38;5;121m<gs.materials.Rigid>\u001b[0m\u001b[38;5;159m.\u001b[0m\n",
      "\u001b[38;5;159m[Genesis] [17:37:42] [INFO] Adding \u001b[38;5;121m<gs.RigidEntity>\u001b[0m\u001b[38;5;159m. idx: \u001b[38;5;121m1\u001b[0m\u001b[38;5;159m, uid: \u001b[38;5;121m\u001b[3m<2891aac>\u001b[0m\u001b[38;5;159m, morph: \u001b[38;5;121m<gs.morphs.MJCF(file='d:\\envs\\pygen\\Lib\\site-packages\\genesis\\assets\\xml/franka_emika_panda/panda.xml')>\u001b[0m\u001b[38;5;159m, material: \u001b[38;5;121m<gs.materials.Rigid>\u001b[0m\u001b[38;5;159m.\u001b[0m\n",
      "\u001b[38;5;226m[Genesis] [17:37:43] [WARNING] (MJCF) Tendon not supported\u001b[0m\n",
      "\u001b[38;5;226m[Genesis] [17:37:44] [WARNING] (MJCF) Approximating tendon by joint actuator for `finger_joint1`\u001b[0m\n",
      "\u001b[38;5;226m[Genesis] [17:37:44] [WARNING] (MJCF) Actuator control gain and bias parameters cannot be reduced to a unique PD control position gain. Using max between gain and bias.\u001b[0m\n",
      "\u001b[38;5;226m[Genesis] [17:37:44] [WARNING] (MJCF) Approximating tendon by joint actuator for `finger_joint2`\u001b[0m\n",
      "\u001b[38;5;226m[Genesis] [17:37:44] [WARNING] (MJCF) Actuator control gain and bias parameters cannot be reduced to a unique PD control position gain. Using max between gain and bias.\u001b[0m\n",
      "\u001b[38;5;159m[Genesis] [17:37:44] [INFO] Adding \u001b[38;5;121m<gs.RigidEntity>\u001b[0m\u001b[38;5;159m. idx: \u001b[38;5;121m2\u001b[0m\u001b[38;5;159m, uid: \u001b[38;5;121m\u001b[3m<5811e22>\u001b[0m\u001b[38;5;159m, morph: \u001b[38;5;121m<gs.morphs.Box>\u001b[0m\u001b[38;5;159m, material: \u001b[38;5;121m<gs.materials.Rigid>\u001b[0m\u001b[38;5;159m.\u001b[0m\n",
      "\u001b[38;5;159m[Genesis] [17:37:44] [INFO] Adding \u001b[38;5;121m<gs.RigidEntity>\u001b[0m\u001b[38;5;159m. idx: \u001b[38;5;121m3\u001b[0m\u001b[38;5;159m, uid: \u001b[38;5;121m\u001b[3m<78bb86a>\u001b[0m\u001b[38;5;159m, morph: \u001b[38;5;121m<gs.morphs.Cylinder>\u001b[0m\u001b[38;5;159m, material: \u001b[38;5;121m<gs.materials.Rigid>\u001b[0m\u001b[38;5;159m.\u001b[0m\n"
     ]
    }
   ],
   "source": [
    "\n",
    "scene = gs.Scene(\n",
    "    show_viewer = True,\n",
    "    viewer_options = gs.options.ViewerOptions(\n",
    "        res           = (1280, 960),\n",
    "        camera_pos    = (3.5, 0.0, 2.5),\n",
    "        camera_lookat = (0.0, 0.0, 0.5),\n",
    "        camera_fov    = 40,\n",
    "        max_FPS       = 60,\n",
    "    ),\n",
    "    sim_options=gs.options.SimOptions(\n",
    "        dt = 0.01,\n",
    "    ),\n",
    "    vis_options = gs.options.VisOptions(\n",
    "        show_world_frame = True,\n",
    "        world_frame_size = 1.0,\n",
    "        show_link_frame  = False,\n",
    "        show_cameras     = False,\n",
    "        plane_reflection = True,\n",
    "        ambient_light    = (0.1, 0.1, 0.1),\n",
    "    ),\n",
    "    renderer=gs.renderers.Rasterizer(),\n",
    ")\n",
    "\n",
    "plane = scene.add_entity(\n",
    "    gs.morphs.Plane(),\n",
    ")\n",
    "franka = scene.add_entity(\n",
    "    gs.morphs.MJCF(file='xml/franka_emika_panda/panda.xml'),\n",
    ")\n",
    "cube_size = (0.1, 0.07, 0.03)\n",
    "cube_pos = (0.7, 0, 0.015)\n",
    "\n",
    "cube = scene.add_entity(\n",
    "    gs.morphs.Box(\n",
    "        size = cube_size,\n",
    "        pos  = cube_pos,\n",
    "    ),\n",
    "    surface=gs.surfaces.Default(\n",
    "        color = (0.8, 0.1 , 0.1),   \n",
    "    )\n",
    ")\n",
    "cube.surface.color = (0.8, 0.1 , 0.1)\n",
    "\n",
    "cylinder_pos = (0.7, -0.2, 0.03)\n",
    "cylinder_quat = (0, -np.sqrt(2)/2, 0, np.sqrt(2)/2)\n",
    "cylinder_radius = 0.03\n",
    "cylinder_height = 0.1\n",
    "\n",
    "cylinder = scene.add_entity(\n",
    "    gs.morphs.Cylinder(\n",
    "        radius = cylinder_radius,\n",
    "        height = cylinder_height,\n",
    "        pos    = cylinder_pos,\n",
    "        quat   = cylinder_quat,\n",
    "    ),\n",
    "    surface=gs.surfaces.Default(\n",
    "        color = (0.1, 0.8 , 0.1),   \n",
    "    )\n",
    ")\n",
    "cylinder.surface.color = (0.2, 0.8, 0.2)\n",
    "\n",
    "cam = scene.add_camera(\n",
    "    res    = (640, 480),\n",
    "    pos    = (3.5, 0.0, 2.5),\n",
    "    lookat = (0, 0, 0.5),\n",
    "    fov    = 30,\n",
    "    GUI    = False,\n",
    ")\n"
   ]
  },
  {
   "cell_type": "code",
   "execution_count": 4,
   "id": "6222462d",
   "metadata": {},
   "outputs": [
    {
     "name": "stdout",
     "output_type": "stream",
     "text": [
      "\u001b[38;5;159m[Genesis] [17:37:47] [INFO] Building scene \u001b[38;5;121m\u001b[3m<2580b40>\u001b[0m\u001b[38;5;159m...\u001b[0m\n",
      "\u001b[38;5;226m[Genesis] [17:37:52] [WARNING] Reference robot position exceeds joint limits.\u001b[0m\n",
      "\u001b[38;5;226m[Genesis] [17:37:52] [WARNING] Constraint solver time constant was increased to avoid numerical instability (from `0.005` to `0.02`). Decrease simulation timestep to avoid altering the original value.\u001b[0m\n",
      "\u001b[38;5;159m[Genesis] [17:38:12] [INFO] Compiling simulation kernels...\u001b[0m\n",
      "\u001b[38;5;159m[Genesis] [17:43:15] [INFO] Building visualizer...\u001b[0m\n",
      "\u001b[38;5;159m[Genesis] [17:43:20] [INFO] Viewer created. Resolution: \u001b[38;5;121m1280×960\u001b[0m\u001b[38;5;159m, max_FPS: \u001b[38;5;121m60\u001b[0m\u001b[38;5;159m.\u001b[0m\n"
     ]
    }
   ],
   "source": [
    "\n",
    "scene.build()\n",
    "motors_dof = np.arange(7)\n",
    "fingers_dof = np.arange(7, 9)\n",
    "\n",
    "# set control gains\n",
    "# Note: the following values are tuned for achieving best behavior with Franka\n",
    "# Typically, each new robot would have a different set of parameters.\n",
    "# Sometimes high-quality URDF or XML file would also provide this and will be parsed.\n",
    "franka.set_dofs_kp(\n",
    "    np.array([4500, 4500, 3500, 3500, 2000, 2000, 2000, 100, 100]),\n",
    ")\n",
    "franka.set_dofs_kv(\n",
    "    np.array([450, 450, 350, 350, 200, 200, 200, 10, 10]),\n",
    ")\n",
    "franka.set_dofs_force_range(\n",
    "    np.array([-87, -87, -87, -87, -12, -12, -12, -100, -100]),\n",
    "    np.array([ 87,  87,  87,  87,  12,  12,  12,  100,  100]),\n",
    ")\n",
    "\n",
    "# render rgb, depth, segmentation, and normal\n",
    "# rgb, depth, segmentation, normal = cam.render(rgb=True, depth=True, segmentation=True, normal=True)\n"
   ]
  },
  {
   "cell_type": "code",
   "execution_count": 6,
   "id": "bfb85d7c",
   "metadata": {},
   "outputs": [
    {
     "name": "stdout",
     "output_type": "stream",
     "text": [
      "\u001b[38;5;159m[Genesis] [17:44:37] [INFO] Running at \u001b[38;5;121m0.26\u001b[0m\u001b[38;5;159m FPS.\u001b[0m\n"
     ]
    }
   ],
   "source": [
    "# franka is in ready position\n",
    "qr = np.array([0.0000, -0.3002, 0.0000, -2.1991, 0.0000, 2.0071, 0.7854, 0.04, 0.04])\n",
    "franka.ready_qpos = qr\n",
    "franka.set_qpos(franka.ready_qpos)\n",
    "scene.step()"
   ]
  },
  {
   "cell_type": "code",
   "execution_count": 7,
   "id": "17e797a9",
   "metadata": {},
   "outputs": [
    {
     "name": "stdout",
     "output_type": "stream",
     "text": [
      "cube_pos: tensor([0.7000, 0.0000, 0.0140])\n",
      "cube_rot: tensor([1., 0., 0., 0.])\n",
      "cube_mass: 0.04200000000000001\n",
      "cube_vertices: tensor([[ 0.6500, -0.0350, -0.0010],\n",
      "        [ 0.6500, -0.0350,  0.0290],\n",
      "        [ 0.6500,  0.0350, -0.0010],\n",
      "        [ 0.6500,  0.0350,  0.0290],\n",
      "        [ 0.7500, -0.0350, -0.0010],\n",
      "        [ 0.7500, -0.0350,  0.0290],\n",
      "        [ 0.7500,  0.0350, -0.0010],\n",
      "        [ 0.7500,  0.0350,  0.0290]])\n"
     ]
    }
   ],
   "source": [
    "# get cubes prperties\n",
    "cube_pos = cube.get_pos()\n",
    "print(f\"cube_pos: {cube_pos}\")\n",
    "cube_rot = cube.get_quat()\n",
    "print(f\"cube_rot: {cube_rot}\")\n",
    "cube_mass = cube.get_mass()\n",
    "print(f\"cube_mass: {cube_mass}\")\n",
    "cube_vertices = cube.get_verts()\n",
    "print(f\"cube_vertices: {cube_vertices}\")"
   ]
  },
  {
   "cell_type": "code",
   "execution_count": 8,
   "id": "e1a07e44",
   "metadata": {},
   "outputs": [
    {
     "name": "stdout",
     "output_type": "stream",
     "text": [
      "cylinder_pos: tensor([ 0.7003, -0.2000,  0.0294])\n",
      "cylinder_rot: tensor([-1.9586e-20, -7.0313e-01,  1.3379e-20,  7.1106e-01])\n",
      "cylinder_mass: 0.05618601274064494\n"
     ]
    }
   ],
   "source": [
    "# get cylinder properties\n",
    "cylinder_pos = cylinder.get_pos()\n",
    "print(f\"cylinder_pos: {cylinder_pos}\")\n",
    "cylinder_rot = cylinder.get_quat()\n",
    "print(f\"cylinder_rot: {cylinder_rot}\")\n",
    "cylinder_mass = cylinder.get_mass()\n",
    "print(f\"cylinder_mass: {cylinder_mass}\")\n",
    "# cylinder_vertices = cylinder.get_verts()\n",
    "# print(f\"cylinder_vertices: {cylinder_vertices}\")"
   ]
  },
  {
   "cell_type": "code",
   "execution_count": 9,
   "id": "fa2fbb0b",
   "metadata": {},
   "outputs": [],
   "source": [
    "def get_obj_screw(object):\n",
    "    \"\"\"\n",
    "    Get the screw parameters of the object\n",
    "    \"\"\"\n",
    "    # get the vertices of the object\n",
    "    vertices = object.get_verts()\n",
    "    vertices = vertices.numpy()\n",
    "\n",
    "    # get the max and min x, y, z coordinates\n",
    "    max_x = np.max(vertices[:, 0])\n",
    "    min_x = np.min(vertices[:, 0])\n",
    "    min_y = np.min(vertices[:, 1])\n",
    "    min_z = np.min(vertices[:, 2])\n",
    "    max_y = np.max(vertices[:, 1])\n",
    "    \n",
    "    v1 = np.array([max_x, min_y, min_z])  # max x, min y, min z\n",
    "    v2 = np.array([max_x, max_y, min_z])  # max x, max y, min z\n",
    "    v3 = np.array([min_x, max_y, min_z])  # min x, max y, min z\n",
    "    \n",
    "    if np.linalg.norm(v1-v2) <= np.linalg.norm(v2-v3):\n",
    "        s = (v1-v2) / np.linalg.norm(v1-v2) # unit vector in the direction of the screw axis\n",
    "        q = v2 # point on the screw axis\n",
    "        h = 0 # pitch of the screw axis\n",
    "    else:\n",
    "        s = (v2-v3) / np.linalg.norm(v2-v3) # unit vector in the direction of the screw axis\n",
    "        q = v2 # point on the screw axis\n",
    "        h = 0 # pitch of the screw axis\n",
    "    \n",
    "    pt.check_screw_parameters(q, s, h) # check if the screw parameters are valid\n",
    "    return s, q, h\n"
   ]
  },
  {
   "cell_type": "code",
   "execution_count": null,
   "id": "750563b1",
   "metadata": {},
   "outputs": [],
   "source": [
    "def obj_dq(object):\n",
    "    \"\"\"\n",
    "    Get the screw parameters of the object and apply sclerp to the object in dual quaternion\n",
    "    \"\"\"\n",
    "    # get the screw parameters of the object\n",
    "    s, q, h = get_obj_screw(object)\n",
    "    \n",
    "    pq = object.get_qpos().cpu().numpy()\n",
    "\n",
    "    obj_initial_dq = pt.dual_quaternion_from_pq(pq) # dual quaternion from position and quaternion\n",
    "    \n",
    "    Screw_dq = pt.dual_quaternion_from_screw_parameters(q=q, s_axis=s, h=0, theta=-np.pi/2) # dual quaternion from screw parameters that make the object upright\n",
    "    # intermediate_T = pt.transform_log_from_screw_matrix\n",
    "    # Screw_T = pt.transform_from_dual_quaternion(Screw_dq) # transform from dual quaternion to transformation matrix\n",
    "    # print(\"screw_dq: \\n\", Screw_dq)\n",
    "    # print(\"screw_T: \\n\", Screw_T)\n",
    "    obj_goal_dq = pt.concatenate_dual_quaternions(Screw_dq, obj_initial_dq)\n",
    "    #obj_goal_T = pt.transform_from_dual_quaternion(obj_goal_dq) # transform from dual quaternion to transformation matrix\n",
    "    # print(\"obj_goal_dq: \\n\", obj_goal_dq)\n",
    "    # print(\"obj_goal_T: \\n\", obj_goal_T)\n",
    "    return obj_initial_dq, obj_goal_dq"
   ]
  },
  {
   "cell_type": "code",
   "execution_count": 11,
   "id": "c8ac52da",
   "metadata": {},
   "outputs": [],
   "source": [
    "def obj_sclerp(object, obj_initial_dq, obj_goal_dq, method, steps):\n",
    "    \"\"\"\n",
    "    Apply sclerp to the object in dual quaternion\n",
    "    \"\"\"\n",
    "    s = np.linspace(0, 1, steps)\n",
    "    if method == 'linear':\n",
    "        tau = s\n",
    "    if method == 'cubic':\n",
    "        tau = 3*s**2 - 2*s**3\n",
    "    if method == 'quintic':\n",
    "        tau = 10*s**3 - 15*s**4 + 6*s**5\n",
    "        \n",
    "    # get the dual quaternion of the object\n",
    "    dq_traj = np.vstack(\n",
    "            [ptr.dual_quaternions_sclerp(obj_initial_dq, obj_goal_dq, t) for t in tau]\n",
    "        )  # spherical linear interpolation between two dual quaternions\n",
    "    # get the position and quaternion from the dual quaternion\n",
    "    obj_qpos = ptr.pqs_from_dual_quaternions(dq_traj)\n",
    "    \n",
    "    return dq_traj, obj_qpos"
   ]
  },
  {
   "cell_type": "code",
   "execution_count": 29,
   "id": "f22e06c0",
   "metadata": {},
   "outputs": [
    {
     "data": {
      "text/plain": [
       "(0.1, 0.07, 0.03)"
      ]
     },
     "execution_count": 29,
     "metadata": {},
     "output_type": "execute_result"
    }
   ],
   "source": [
    "cube.size = cube_size\n",
    "cube.size"
   ]
  },
  {
   "cell_type": "code",
   "execution_count": 30,
   "id": "36cb62d4",
   "metadata": {},
   "outputs": [
    {
     "data": {
      "text/plain": [
       "0.1"
      ]
     },
     "execution_count": 30,
     "metadata": {},
     "output_type": "execute_result"
    }
   ],
   "source": [
    "cube.size[0]"
   ]
  },
  {
   "cell_type": "code",
   "execution_count": null,
   "id": "385bad67",
   "metadata": {},
   "outputs": [],
   "source": [
    "def obj_grasp(object):\n",
    "    \"\"\"\n",
    "    grasping the object\n",
    "    \"\"\"\n",
    "    # get the screw parameters of the object\n",
    "    s, q, h = get_obj_screw(object)\n",
    "    \n",
    "    # get the dual quaternion of the object\n",
    "    obj_initial_dq, obj_goal_dq = obj_dq(object)\n",
    "\n",
    "    if object == cube:\n",
    "        length = cube.size[0]\n",
    "        T_initial = pt.transform_from_dual_quaternion(obj_initial_dq) # transform from dual quaternion to transformation matrix\n",
    "        T_offset = np.array([[1, 0, 0, -length/2 + 0.02],\n",
    "                             [0, 1, 0, 0],\n",
    "                             [0, 0, 1, 0],\n",
    "                             [0, 0, 0, 1]])\n",
    "        T_ee = np.array([[1, 0, 0, 0],\n",
    "                         [0, -1, 0, 0],\n",
    "                         [0, 0, -1, 0.11],\n",
    "                         [0, 0, 0, 1]])\n",
    "        T_grasp = T_initial @ T_offset @ T_ee # transformation matrix from the object to the end effector\n",
    "    return "
   ]
  },
  {
   "cell_type": "code",
   "execution_count": 16,
   "id": "4f545556",
   "metadata": {},
   "outputs": [
    {
     "name": "stdout",
     "output_type": "stream",
     "text": [
      "\u001b[38;5;159m[Genesis] [17:49:27] [INFO] Resetting Scene \u001b[38;5;121m\u001b[3m<2580b40>\u001b[0m\u001b[38;5;159m.\u001b[0m\n"
     ]
    },
    {
     "data": {
      "text/plain": [
       "(100, 8)"
      ]
     },
     "execution_count": 16,
     "metadata": {},
     "output_type": "execute_result"
    }
   ],
   "source": [
    "# calling functions for cube_sclerp\n",
    "scene.reset()\n",
    "s, q, h = get_obj_screw(cube)\n",
    "cube_initial_dq, Cube_goal_dq = obj_dq(cube)\n",
    "dq_traj, obj_qpos = obj_sclerp(cube, cube_initial_dq, Cube_goal_dq, 'linear', 100)\n",
    "dq_traj.shape"
   ]
  },
  {
   "cell_type": "code",
   "execution_count": null,
   "id": "dc16f8d1",
   "metadata": {},
   "outputs": [
    {
     "name": "stdout",
     "output_type": "stream",
     "text": [
      "\u001b[38;5;159m[Genesis] [17:49:36] [INFO] Resetting Scene \u001b[38;5;121m\u001b[3m<2580b40>\u001b[0m\u001b[38;5;159m.\u001b[0m\n",
      "\u001b[38;5;159m[Genesis] [17:49:36] [INFO] Running at \u001b[38;5;121m0.05\u001b[0m\u001b[38;5;159m FPS.\u001b[0m\n",
      "\u001b[38;5;159m[Genesis] [17:49:36] [INFO] Running at \u001b[38;5;121m0.06\u001b[0m\u001b[38;5;159m FPS.\u001b[0m\n",
      "\u001b[38;5;159m[Genesis] [17:49:36] [INFO] Running at \u001b[38;5;121m0.06\u001b[0m\u001b[38;5;159m FPS.\u001b[0m\n",
      "\u001b[38;5;159m[Genesis] [17:49:36] [INFO] Running at \u001b[38;5;121m0.06\u001b[0m\u001b[38;5;159m FPS.\u001b[0m\n",
      "\u001b[38;5;159m[Genesis] [17:49:36] [INFO] Running at \u001b[38;5;121m0.07\u001b[0m\u001b[38;5;159m FPS.\u001b[0m\n",
      "\u001b[38;5;159m[Genesis] [17:49:36] [INFO] Running at \u001b[38;5;121m0.07\u001b[0m\u001b[38;5;159m FPS.\u001b[0m\n",
      "\u001b[38;5;159m[Genesis] [17:49:36] [INFO] Running at \u001b[38;5;121m0.07\u001b[0m\u001b[38;5;159m FPS.\u001b[0m\n",
      "\u001b[38;5;159m[Genesis] [17:49:36] [INFO] Running at \u001b[38;5;121m0.08\u001b[0m\u001b[38;5;159m FPS.\u001b[0m\n",
      "\u001b[38;5;159m[Genesis] [17:49:36] [INFO] Running at \u001b[38;5;121m0.08\u001b[0m\u001b[38;5;159m FPS.\u001b[0m\n",
      "\u001b[38;5;159m[Genesis] [17:49:36] [INFO] Running at \u001b[38;5;121m0.09\u001b[0m\u001b[38;5;159m FPS.\u001b[0m\n",
      "\u001b[38;5;159m[Genesis] [17:49:36] [INFO] Running at \u001b[38;5;121m0.09\u001b[0m\u001b[38;5;159m FPS.\u001b[0m\n",
      "\u001b[38;5;159m[Genesis] [17:49:36] [INFO] Running at \u001b[38;5;121m0.09\u001b[0m\u001b[38;5;159m FPS.\u001b[0m\n",
      "\u001b[38;5;159m[Genesis] [17:49:36] [INFO] Running at \u001b[38;5;121m0.10\u001b[0m\u001b[38;5;159m FPS.\u001b[0m\n",
      "\u001b[38;5;159m[Genesis] [17:49:36] [INFO] Running at \u001b[38;5;121m0.10\u001b[0m\u001b[38;5;159m FPS.\u001b[0m\n",
      "\u001b[38;5;159m[Genesis] [17:49:36] [INFO] Running at \u001b[38;5;121m0.11\u001b[0m\u001b[38;5;159m FPS.\u001b[0m\n",
      "\u001b[38;5;159m[Genesis] [17:49:36] [INFO] Running at \u001b[38;5;121m0.12\u001b[0m\u001b[38;5;159m FPS.\u001b[0m\n",
      "\u001b[38;5;159m[Genesis] [17:49:36] [INFO] Running at \u001b[38;5;121m0.12\u001b[0m\u001b[38;5;159m FPS.\u001b[0m\n",
      "\u001b[38;5;159m[Genesis] [17:49:36] [INFO] Running at \u001b[38;5;121m0.13\u001b[0m\u001b[38;5;159m FPS.\u001b[0m\n",
      "\u001b[38;5;159m[Genesis] [17:49:36] [INFO] Running at \u001b[38;5;121m0.14\u001b[0m\u001b[38;5;159m FPS.\u001b[0m\n",
      "\u001b[38;5;159m[Genesis] [17:49:36] [INFO] Running at \u001b[38;5;121m0.14\u001b[0m\u001b[38;5;159m FPS.\u001b[0m\n",
      "\u001b[38;5;159m[Genesis] [17:49:36] [INFO] Running at \u001b[38;5;121m0.15\u001b[0m\u001b[38;5;159m FPS.\u001b[0m\n",
      "\u001b[38;5;159m[Genesis] [17:49:36] [INFO] Running at \u001b[38;5;121m0.16\u001b[0m\u001b[38;5;159m FPS.\u001b[0m\n",
      "\u001b[38;5;159m[Genesis] [17:49:37] [INFO] Running at \u001b[38;5;121m0.17\u001b[0m\u001b[38;5;159m FPS.\u001b[0m\n",
      "\u001b[38;5;159m[Genesis] [17:49:37] [INFO] Running at \u001b[38;5;121m0.17\u001b[0m\u001b[38;5;159m FPS.\u001b[0m\n",
      "\u001b[38;5;159m[Genesis] [17:49:37] [INFO] Running at \u001b[38;5;121m0.18\u001b[0m\u001b[38;5;159m FPS.\u001b[0m\n",
      "\u001b[38;5;159m[Genesis] [17:49:37] [INFO] Running at \u001b[38;5;121m0.19\u001b[0m\u001b[38;5;159m FPS.\u001b[0m\n",
      "\u001b[38;5;159m[Genesis] [17:49:37] [INFO] Running at \u001b[38;5;121m0.20\u001b[0m\u001b[38;5;159m FPS.\u001b[0m\n",
      "\u001b[38;5;159m[Genesis] [17:49:37] [INFO] Running at \u001b[38;5;121m0.21\u001b[0m\u001b[38;5;159m FPS.\u001b[0m\n",
      "\u001b[38;5;159m[Genesis] [17:49:37] [INFO] Running at \u001b[38;5;121m0.22\u001b[0m\u001b[38;5;159m FPS.\u001b[0m\n",
      "\u001b[38;5;159m[Genesis] [17:49:37] [INFO] Running at \u001b[38;5;121m0.24\u001b[0m\u001b[38;5;159m FPS.\u001b[0m\n",
      "\u001b[38;5;159m[Genesis] [17:49:37] [INFO] Running at \u001b[38;5;121m0.25\u001b[0m\u001b[38;5;159m FPS.\u001b[0m\n",
      "\u001b[38;5;159m[Genesis] [17:49:37] [INFO] Running at \u001b[38;5;121m0.26\u001b[0m\u001b[38;5;159m FPS.\u001b[0m\n",
      "\u001b[38;5;159m[Genesis] [17:49:37] [INFO] Running at \u001b[38;5;121m0.28\u001b[0m\u001b[38;5;159m FPS.\u001b[0m\n",
      "\u001b[38;5;159m[Genesis] [17:49:37] [INFO] Running at \u001b[38;5;121m0.29\u001b[0m\u001b[38;5;159m FPS.\u001b[0m\n",
      "\u001b[38;5;159m[Genesis] [17:49:37] [INFO] Running at \u001b[38;5;121m0.30\u001b[0m\u001b[38;5;159m FPS.\u001b[0m\n",
      "\u001b[38;5;159m[Genesis] [17:49:37] [INFO] Running at \u001b[38;5;121m0.32\u001b[0m\u001b[38;5;159m FPS.\u001b[0m\n",
      "\u001b[38;5;159m[Genesis] [17:49:37] [INFO] Running at \u001b[38;5;121m0.34\u001b[0m\u001b[38;5;159m FPS.\u001b[0m\n",
      "\u001b[38;5;159m[Genesis] [17:49:37] [INFO] Running at \u001b[38;5;121m0.36\u001b[0m\u001b[38;5;159m FPS.\u001b[0m\n",
      "\u001b[38;5;159m[Genesis] [17:49:37] [INFO] Running at \u001b[38;5;121m0.37\u001b[0m\u001b[38;5;159m FPS.\u001b[0m\n",
      "\u001b[38;5;159m[Genesis] [17:49:37] [INFO] Running at \u001b[38;5;121m0.39\u001b[0m\u001b[38;5;159m FPS.\u001b[0m\n",
      "\u001b[38;5;159m[Genesis] [17:49:37] [INFO] Running at \u001b[38;5;121m0.41\u001b[0m\u001b[38;5;159m FPS.\u001b[0m\n",
      "\u001b[38;5;159m[Genesis] [17:49:37] [INFO] Running at \u001b[38;5;121m0.44\u001b[0m\u001b[38;5;159m FPS.\u001b[0m\n",
      "\u001b[38;5;159m[Genesis] [17:49:37] [INFO] Running at \u001b[38;5;121m0.46\u001b[0m\u001b[38;5;159m FPS.\u001b[0m\n",
      "\u001b[38;5;159m[Genesis] [17:49:37] [INFO] Running at \u001b[38;5;121m0.48\u001b[0m\u001b[38;5;159m FPS.\u001b[0m\n",
      "\u001b[38;5;159m[Genesis] [17:49:37] [INFO] Running at \u001b[38;5;121m0.51\u001b[0m\u001b[38;5;159m FPS.\u001b[0m\n",
      "\u001b[38;5;159m[Genesis] [17:49:37] [INFO] Running at \u001b[38;5;121m0.53\u001b[0m\u001b[38;5;159m FPS.\u001b[0m\n",
      "\u001b[38;5;159m[Genesis] [17:49:37] [INFO] Running at \u001b[38;5;121m0.56\u001b[0m\u001b[38;5;159m FPS.\u001b[0m\n",
      "\u001b[38;5;159m[Genesis] [17:49:37] [INFO] Running at \u001b[38;5;121m0.59\u001b[0m\u001b[38;5;159m FPS.\u001b[0m\n",
      "\u001b[38;5;159m[Genesis] [17:49:38] [INFO] Running at \u001b[38;5;121m0.62\u001b[0m\u001b[38;5;159m FPS.\u001b[0m\n",
      "\u001b[38;5;159m[Genesis] [17:49:38] [INFO] Running at \u001b[38;5;121m0.65\u001b[0m\u001b[38;5;159m FPS.\u001b[0m\n",
      "\u001b[38;5;159m[Genesis] [17:49:38] [INFO] Running at \u001b[38;5;121m0.68\u001b[0m\u001b[38;5;159m FPS.\u001b[0m\n",
      "\u001b[38;5;159m[Genesis] [17:49:38] [INFO] Running at \u001b[38;5;121m0.72\u001b[0m\u001b[38;5;159m FPS.\u001b[0m\n",
      "\u001b[38;5;159m[Genesis] [17:49:38] [INFO] Running at \u001b[38;5;121m0.76\u001b[0m\u001b[38;5;159m FPS.\u001b[0m\n",
      "\u001b[38;5;159m[Genesis] [17:49:38] [INFO] Running at \u001b[38;5;121m0.79\u001b[0m\u001b[38;5;159m FPS.\u001b[0m\n",
      "\u001b[38;5;159m[Genesis] [17:49:38] [INFO] Running at \u001b[38;5;121m0.84\u001b[0m\u001b[38;5;159m FPS.\u001b[0m\n",
      "\u001b[38;5;159m[Genesis] [17:49:38] [INFO] Running at \u001b[38;5;121m0.88\u001b[0m\u001b[38;5;159m FPS.\u001b[0m\n",
      "\u001b[38;5;159m[Genesis] [17:49:38] [INFO] Running at \u001b[38;5;121m0.92\u001b[0m\u001b[38;5;159m FPS.\u001b[0m\n",
      "\u001b[38;5;159m[Genesis] [17:49:38] [INFO] Running at \u001b[38;5;121m0.97\u001b[0m\u001b[38;5;159m FPS.\u001b[0m\n",
      "\u001b[38;5;159m[Genesis] [17:49:38] [INFO] Running at \u001b[38;5;121m1.02\u001b[0m\u001b[38;5;159m FPS.\u001b[0m\n",
      "\u001b[38;5;159m[Genesis] [17:49:38] [INFO] Running at \u001b[38;5;121m1.08\u001b[0m\u001b[38;5;159m FPS.\u001b[0m\n",
      "\u001b[38;5;159m[Genesis] [17:49:38] [INFO] Running at \u001b[38;5;121m1.13\u001b[0m\u001b[38;5;159m FPS.\u001b[0m\n",
      "\u001b[38;5;159m[Genesis] [17:49:38] [INFO] Running at \u001b[38;5;121m1.19\u001b[0m\u001b[38;5;159m FPS.\u001b[0m\n",
      "\u001b[38;5;159m[Genesis] [17:49:38] [INFO] Running at \u001b[38;5;121m1.25\u001b[0m\u001b[38;5;159m FPS.\u001b[0m\n",
      "\u001b[38;5;159m[Genesis] [17:49:38] [INFO] Running at \u001b[38;5;121m1.31\u001b[0m\u001b[38;5;159m FPS.\u001b[0m\n",
      "\u001b[38;5;159m[Genesis] [17:49:38] [INFO] Running at \u001b[38;5;121m1.38\u001b[0m\u001b[38;5;159m FPS.\u001b[0m\n",
      "\u001b[38;5;159m[Genesis] [17:49:38] [INFO] Running at \u001b[38;5;121m1.45\u001b[0m\u001b[38;5;159m FPS.\u001b[0m\n",
      "\u001b[38;5;159m[Genesis] [17:49:38] [INFO] Running at \u001b[38;5;121m1.53\u001b[0m\u001b[38;5;159m FPS.\u001b[0m\n",
      "\u001b[38;5;159m[Genesis] [17:49:38] [INFO] Running at \u001b[38;5;121m1.60\u001b[0m\u001b[38;5;159m FPS.\u001b[0m\n",
      "\u001b[38;5;159m[Genesis] [17:49:38] [INFO] Running at \u001b[38;5;121m1.69\u001b[0m\u001b[38;5;159m FPS.\u001b[0m\n",
      "\u001b[38;5;159m[Genesis] [17:49:38] [INFO] Running at \u001b[38;5;121m1.77\u001b[0m\u001b[38;5;159m FPS.\u001b[0m\n",
      "\u001b[38;5;159m[Genesis] [17:49:38] [INFO] Running at \u001b[38;5;121m1.86\u001b[0m\u001b[38;5;159m FPS.\u001b[0m\n",
      "\u001b[38;5;159m[Genesis] [17:49:38] [INFO] Running at \u001b[38;5;121m1.95\u001b[0m\u001b[38;5;159m FPS.\u001b[0m\n",
      "\u001b[38;5;159m[Genesis] [17:49:38] [INFO] Running at \u001b[38;5;121m2.05\u001b[0m\u001b[38;5;159m FPS.\u001b[0m\n",
      "\u001b[38;5;159m[Genesis] [17:49:38] [INFO] Running at \u001b[38;5;121m2.15\u001b[0m\u001b[38;5;159m FPS.\u001b[0m\n",
      "\u001b[38;5;159m[Genesis] [17:49:38] [INFO] Running at \u001b[38;5;121m2.25\u001b[0m\u001b[38;5;159m FPS.\u001b[0m\n",
      "\u001b[38;5;159m[Genesis] [17:49:38] [INFO] Running at \u001b[38;5;121m2.36\u001b[0m\u001b[38;5;159m FPS.\u001b[0m\n",
      "\u001b[38;5;159m[Genesis] [17:49:38] [INFO] Running at \u001b[38;5;121m2.47\u001b[0m\u001b[38;5;159m FPS.\u001b[0m\n",
      "\u001b[38;5;159m[Genesis] [17:49:38] [INFO] Running at \u001b[38;5;121m2.58\u001b[0m\u001b[38;5;159m FPS.\u001b[0m\n",
      "\u001b[38;5;159m[Genesis] [17:49:38] [INFO] Running at \u001b[38;5;121m2.69\u001b[0m\u001b[38;5;159m FPS.\u001b[0m\n",
      "\u001b[38;5;159m[Genesis] [17:49:38] [INFO] Running at \u001b[38;5;121m2.81\u001b[0m\u001b[38;5;159m FPS.\u001b[0m\n",
      "\u001b[38;5;159m[Genesis] [17:49:39] [INFO] Running at \u001b[38;5;121m2.94\u001b[0m\u001b[38;5;159m FPS.\u001b[0m\n",
      "\u001b[38;5;159m[Genesis] [17:49:39] [INFO] Running at \u001b[38;5;121m3.07\u001b[0m\u001b[38;5;159m FPS.\u001b[0m\n",
      "\u001b[38;5;159m[Genesis] [17:49:39] [INFO] Running at \u001b[38;5;121m3.22\u001b[0m\u001b[38;5;159m FPS.\u001b[0m\n",
      "\u001b[38;5;159m[Genesis] [17:49:39] [INFO] Running at \u001b[38;5;121m3.38\u001b[0m\u001b[38;5;159m FPS.\u001b[0m\n",
      "\u001b[38;5;159m[Genesis] [17:49:39] [INFO] Running at \u001b[38;5;121m3.55\u001b[0m\u001b[38;5;159m FPS.\u001b[0m\n",
      "\u001b[38;5;159m[Genesis] [17:49:39] [INFO] Running at \u001b[38;5;121m3.72\u001b[0m\u001b[38;5;159m FPS.\u001b[0m\n",
      "\u001b[38;5;159m[Genesis] [17:49:39] [INFO] Running at \u001b[38;5;121m3.90\u001b[0m\u001b[38;5;159m FPS.\u001b[0m\n",
      "\u001b[38;5;159m[Genesis] [17:49:39] [INFO] Running at \u001b[38;5;121m4.09\u001b[0m\u001b[38;5;159m FPS.\u001b[0m\n",
      "\u001b[38;5;159m[Genesis] [17:49:39] [INFO] Running at \u001b[38;5;121m4.27\u001b[0m\u001b[38;5;159m FPS.\u001b[0m\n",
      "\u001b[38;5;159m[Genesis] [17:49:39] [INFO] Running at \u001b[38;5;121m4.47\u001b[0m\u001b[38;5;159m FPS.\u001b[0m\n",
      "\u001b[38;5;159m[Genesis] [17:49:39] [INFO] Running at \u001b[38;5;121m4.67\u001b[0m\u001b[38;5;159m FPS.\u001b[0m\n",
      "\u001b[38;5;159m[Genesis] [17:49:39] [INFO] Running at \u001b[38;5;121m4.90\u001b[0m\u001b[38;5;159m FPS.\u001b[0m\n",
      "\u001b[38;5;159m[Genesis] [17:49:39] [INFO] Running at \u001b[38;5;121m5.13\u001b[0m\u001b[38;5;159m FPS.\u001b[0m\n",
      "\u001b[38;5;159m[Genesis] [17:49:39] [INFO] Running at \u001b[38;5;121m5.38\u001b[0m\u001b[38;5;159m FPS.\u001b[0m\n",
      "\u001b[38;5;159m[Genesis] [17:49:39] [INFO] Running at \u001b[38;5;121m5.63\u001b[0m\u001b[38;5;159m FPS.\u001b[0m\n",
      "\u001b[38;5;159m[Genesis] [17:49:39] [INFO] Running at \u001b[38;5;121m5.88\u001b[0m\u001b[38;5;159m FPS.\u001b[0m\n",
      "\u001b[38;5;159m[Genesis] [17:49:39] [INFO] Running at \u001b[38;5;121m6.15\u001b[0m\u001b[38;5;159m FPS.\u001b[0m\n",
      "\u001b[38;5;159m[Genesis] [17:49:39] [INFO] Running at \u001b[38;5;121m6.40\u001b[0m\u001b[38;5;159m FPS.\u001b[0m\n",
      "\u001b[38;5;159m[Genesis] [17:49:39] [INFO] Running at \u001b[38;5;121m6.68\u001b[0m\u001b[38;5;159m FPS.\u001b[0m\n",
      "\u001b[38;5;159m[Genesis] [17:49:39] [INFO] Running at \u001b[38;5;121m6.98\u001b[0m\u001b[38;5;159m FPS.\u001b[0m\n"
     ]
    }
   ],
   "source": [
    "# cube sclerp motion\n",
    "scene.reset()\n",
    "for i in range (obj_qpos.shape[0]):\n",
    "    franka.set_qpos(qr)\n",
    "    cube.set_qpos(obj_qpos[i])\n",
    "    scene.step()\n"
   ]
  },
  {
   "cell_type": "code",
   "execution_count": 22,
   "id": "25f3d5bf",
   "metadata": {},
   "outputs": [
    {
     "name": "stdout",
     "output_type": "stream",
     "text": [
      "\u001b[38;5;159m[Genesis] [17:52:28] [INFO] Resetting Scene \u001b[38;5;121m\u001b[3m<2580b40>\u001b[0m\u001b[38;5;159m.\u001b[0m\n"
     ]
    },
    {
     "data": {
      "text/plain": [
       "(100, 8)"
      ]
     },
     "execution_count": 22,
     "metadata": {},
     "output_type": "execute_result"
    }
   ],
   "source": [
    "# calling functions for cylinder_sclerp\n",
    "scene.reset()\n",
    "s, q, h = get_obj_screw(cylinder)\n",
    "cyl_initial_dq, cyl_goal_dq = obj_dq(cylinder)\n",
    "dq_traj, obj_qpos = obj_sclerp(cylinder, cyl_initial_dq, cyl_goal_dq, 'linear', 100)\n",
    "dq_traj.shape"
   ]
  },
  {
   "cell_type": "code",
   "execution_count": null,
   "id": "97c29be0",
   "metadata": {},
   "outputs": [
    {
     "name": "stdout",
     "output_type": "stream",
     "text": [
      "\u001b[38;5;159m[Genesis] [17:51:21] [INFO] Resetting Scene \u001b[38;5;121m\u001b[3m<2580b40>\u001b[0m\u001b[38;5;159m.\u001b[0m\n",
      "\u001b[38;5;159m[Genesis] [17:51:22] [INFO] Running at \u001b[38;5;121m0.87\u001b[0m\u001b[38;5;159m FPS.\u001b[0m\n",
      "\u001b[38;5;159m[Genesis] [17:51:22] [INFO] Running at \u001b[38;5;121m0.92\u001b[0m\u001b[38;5;159m FPS.\u001b[0m\n",
      "\u001b[38;5;159m[Genesis] [17:51:22] [INFO] Running at \u001b[38;5;121m0.97\u001b[0m\u001b[38;5;159m FPS.\u001b[0m\n",
      "\u001b[38;5;159m[Genesis] [17:51:22] [INFO] Running at \u001b[38;5;121m1.02\u001b[0m\u001b[38;5;159m FPS.\u001b[0m\n",
      "\u001b[38;5;159m[Genesis] [17:51:22] [INFO] Running at \u001b[38;5;121m1.07\u001b[0m\u001b[38;5;159m FPS.\u001b[0m\n",
      "\u001b[38;5;159m[Genesis] [17:51:22] [INFO] Running at \u001b[38;5;121m1.12\u001b[0m\u001b[38;5;159m FPS.\u001b[0m\n",
      "\u001b[38;5;159m[Genesis] [17:51:22] [INFO] Running at \u001b[38;5;121m1.18\u001b[0m\u001b[38;5;159m FPS.\u001b[0m\n",
      "\u001b[38;5;159m[Genesis] [17:51:22] [INFO] Running at \u001b[38;5;121m1.24\u001b[0m\u001b[38;5;159m FPS.\u001b[0m\n",
      "\u001b[38;5;159m[Genesis] [17:51:22] [INFO] Running at \u001b[38;5;121m1.30\u001b[0m\u001b[38;5;159m FPS.\u001b[0m\n",
      "\u001b[38;5;159m[Genesis] [17:51:22] [INFO] Running at \u001b[38;5;121m1.36\u001b[0m\u001b[38;5;159m FPS.\u001b[0m\n",
      "\u001b[38;5;159m[Genesis] [17:51:22] [INFO] Running at \u001b[38;5;121m1.43\u001b[0m\u001b[38;5;159m FPS.\u001b[0m\n",
      "\u001b[38;5;159m[Genesis] [17:51:22] [INFO] Running at \u001b[38;5;121m1.50\u001b[0m\u001b[38;5;159m FPS.\u001b[0m\n",
      "\u001b[38;5;159m[Genesis] [17:51:22] [INFO] Running at \u001b[38;5;121m1.58\u001b[0m\u001b[38;5;159m FPS.\u001b[0m\n",
      "\u001b[38;5;159m[Genesis] [17:51:22] [INFO] Running at \u001b[38;5;121m1.66\u001b[0m\u001b[38;5;159m FPS.\u001b[0m\n",
      "\u001b[38;5;159m[Genesis] [17:51:22] [INFO] Running at \u001b[38;5;121m1.74\u001b[0m\u001b[38;5;159m FPS.\u001b[0m\n",
      "\u001b[38;5;159m[Genesis] [17:51:22] [INFO] Running at \u001b[38;5;121m1.83\u001b[0m\u001b[38;5;159m FPS.\u001b[0m\n",
      "\u001b[38;5;159m[Genesis] [17:51:22] [INFO] Running at \u001b[38;5;121m1.92\u001b[0m\u001b[38;5;159m FPS.\u001b[0m\n",
      "\u001b[38;5;159m[Genesis] [17:51:22] [INFO] Running at \u001b[38;5;121m2.02\u001b[0m\u001b[38;5;159m FPS.\u001b[0m\n",
      "\u001b[38;5;159m[Genesis] [17:51:22] [INFO] Running at \u001b[38;5;121m2.12\u001b[0m\u001b[38;5;159m FPS.\u001b[0m\n",
      "\u001b[38;5;159m[Genesis] [17:51:22] [INFO] Running at \u001b[38;5;121m2.22\u001b[0m\u001b[38;5;159m FPS.\u001b[0m\n",
      "\u001b[38;5;159m[Genesis] [17:51:22] [INFO] Running at \u001b[38;5;121m2.34\u001b[0m\u001b[38;5;159m FPS.\u001b[0m\n",
      "\u001b[38;5;159m[Genesis] [17:51:22] [INFO] Running at \u001b[38;5;121m2.45\u001b[0m\u001b[38;5;159m FPS.\u001b[0m\n",
      "\u001b[38;5;159m[Genesis] [17:51:22] [INFO] Running at \u001b[38;5;121m2.57\u001b[0m\u001b[38;5;159m FPS.\u001b[0m\n",
      "\u001b[38;5;159m[Genesis] [17:51:22] [INFO] Running at \u001b[38;5;121m2.70\u001b[0m\u001b[38;5;159m FPS.\u001b[0m\n",
      "\u001b[38;5;159m[Genesis] [17:51:22] [INFO] Running at \u001b[38;5;121m2.82\u001b[0m\u001b[38;5;159m FPS.\u001b[0m\n",
      "\u001b[38;5;159m[Genesis] [17:51:22] [INFO] Running at \u001b[38;5;121m2.96\u001b[0m\u001b[38;5;159m FPS.\u001b[0m\n",
      "\u001b[38;5;159m[Genesis] [17:51:22] [INFO] Running at \u001b[38;5;121m3.11\u001b[0m\u001b[38;5;159m FPS.\u001b[0m\n",
      "\u001b[38;5;159m[Genesis] [17:51:22] [INFO] Running at \u001b[38;5;121m3.26\u001b[0m\u001b[38;5;159m FPS.\u001b[0m\n",
      "\u001b[38;5;159m[Genesis] [17:51:22] [INFO] Running at \u001b[38;5;121m3.42\u001b[0m\u001b[38;5;159m FPS.\u001b[0m\n",
      "\u001b[38;5;159m[Genesis] [17:51:22] [INFO] Running at \u001b[38;5;121m3.57\u001b[0m\u001b[38;5;159m FPS.\u001b[0m\n",
      "\u001b[38;5;159m[Genesis] [17:51:22] [INFO] Running at \u001b[38;5;121m3.73\u001b[0m\u001b[38;5;159m FPS.\u001b[0m\n",
      "\u001b[38;5;159m[Genesis] [17:51:23] [INFO] Running at \u001b[38;5;121m3.91\u001b[0m\u001b[38;5;159m FPS.\u001b[0m\n",
      "\u001b[38;5;159m[Genesis] [17:51:23] [INFO] Running at \u001b[38;5;121m4.09\u001b[0m\u001b[38;5;159m FPS.\u001b[0m\n",
      "\u001b[38;5;159m[Genesis] [17:51:23] [INFO] Running at \u001b[38;5;121m4.29\u001b[0m\u001b[38;5;159m FPS.\u001b[0m\n",
      "\u001b[38;5;159m[Genesis] [17:51:23] [INFO] Running at \u001b[38;5;121m4.47\u001b[0m\u001b[38;5;159m FPS.\u001b[0m\n",
      "\u001b[38;5;159m[Genesis] [17:51:23] [INFO] Running at \u001b[38;5;121m4.67\u001b[0m\u001b[38;5;159m FPS.\u001b[0m\n",
      "\u001b[38;5;159m[Genesis] [17:51:23] [INFO] Running at \u001b[38;5;121m4.88\u001b[0m\u001b[38;5;159m FPS.\u001b[0m\n",
      "\u001b[38;5;159m[Genesis] [17:51:23] [INFO] Running at \u001b[38;5;121m5.10\u001b[0m\u001b[38;5;159m FPS.\u001b[0m\n",
      "\u001b[38;5;159m[Genesis] [17:51:23] [INFO] Running at \u001b[38;5;121m5.30\u001b[0m\u001b[38;5;159m FPS.\u001b[0m\n",
      "\u001b[38;5;159m[Genesis] [17:51:23] [INFO] Running at \u001b[38;5;121m5.54\u001b[0m\u001b[38;5;159m FPS.\u001b[0m\n",
      "\u001b[38;5;159m[Genesis] [17:51:23] [INFO] Running at \u001b[38;5;121m5.78\u001b[0m\u001b[38;5;159m FPS.\u001b[0m\n",
      "\u001b[38;5;159m[Genesis] [17:51:23] [INFO] Running at \u001b[38;5;121m6.01\u001b[0m\u001b[38;5;159m FPS.\u001b[0m\n",
      "\u001b[38;5;159m[Genesis] [17:51:23] [INFO] Running at \u001b[38;5;121m6.23\u001b[0m\u001b[38;5;159m FPS.\u001b[0m\n",
      "\u001b[38;5;159m[Genesis] [17:51:23] [INFO] Running at \u001b[38;5;121m6.52\u001b[0m\u001b[38;5;159m FPS.\u001b[0m\n",
      "\u001b[38;5;159m[Genesis] [17:51:23] [INFO] Running at \u001b[38;5;121m6.81\u001b[0m\u001b[38;5;159m FPS.\u001b[0m\n",
      "\u001b[38;5;159m[Genesis] [17:51:23] [INFO] Running at \u001b[38;5;121m7.12\u001b[0m\u001b[38;5;159m FPS.\u001b[0m\n",
      "\u001b[38;5;159m[Genesis] [17:51:23] [INFO] Running at \u001b[38;5;121m7.44\u001b[0m\u001b[38;5;159m FPS.\u001b[0m\n",
      "\u001b[38;5;159m[Genesis] [17:51:23] [INFO] Running at \u001b[38;5;121m7.72\u001b[0m\u001b[38;5;159m FPS.\u001b[0m\n",
      "\u001b[38;5;159m[Genesis] [17:51:23] [INFO] Running at \u001b[38;5;121m8.04\u001b[0m\u001b[38;5;159m FPS.\u001b[0m\n",
      "\u001b[38;5;159m[Genesis] [17:51:23] [INFO] Running at \u001b[38;5;121m8.35\u001b[0m\u001b[38;5;159m FPS.\u001b[0m\n",
      "\u001b[38;5;159m[Genesis] [17:51:23] [INFO] Running at \u001b[38;5;121m8.69\u001b[0m\u001b[38;5;159m FPS.\u001b[0m\n",
      "\u001b[38;5;159m[Genesis] [17:51:23] [INFO] Running at \u001b[38;5;121m9.01\u001b[0m\u001b[38;5;159m FPS.\u001b[0m\n",
      "\u001b[38;5;159m[Genesis] [17:51:23] [INFO] Running at \u001b[38;5;121m9.33\u001b[0m\u001b[38;5;159m FPS.\u001b[0m\n",
      "\u001b[38;5;159m[Genesis] [17:51:23] [INFO] Running at \u001b[38;5;121m9.64\u001b[0m\u001b[38;5;159m FPS.\u001b[0m\n",
      "\u001b[38;5;159m[Genesis] [17:51:23] [INFO] Running at \u001b[38;5;121m10.03\u001b[0m\u001b[38;5;159m FPS.\u001b[0m\n",
      "\u001b[38;5;159m[Genesis] [17:51:23] [INFO] Running at \u001b[38;5;121m10.42\u001b[0m\u001b[38;5;159m FPS.\u001b[0m\n",
      "\u001b[38;5;159m[Genesis] [17:51:23] [INFO] Running at \u001b[38;5;121m10.84\u001b[0m\u001b[38;5;159m FPS.\u001b[0m\n",
      "\u001b[38;5;159m[Genesis] [17:51:23] [INFO] Running at \u001b[38;5;121m11.25\u001b[0m\u001b[38;5;159m FPS.\u001b[0m\n",
      "\u001b[38;5;159m[Genesis] [17:51:23] [INFO] Running at \u001b[38;5;121m11.52\u001b[0m\u001b[38;5;159m FPS.\u001b[0m\n",
      "\u001b[38;5;159m[Genesis] [17:51:23] [INFO] Running at \u001b[38;5;121m11.83\u001b[0m\u001b[38;5;159m FPS.\u001b[0m\n",
      "\u001b[38;5;159m[Genesis] [17:51:23] [INFO] Running at \u001b[38;5;121m12.22\u001b[0m\u001b[38;5;159m FPS.\u001b[0m\n",
      "\u001b[38;5;159m[Genesis] [17:51:24] [INFO] Running at \u001b[38;5;121m12.60\u001b[0m\u001b[38;5;159m FPS.\u001b[0m\n",
      "\u001b[38;5;159m[Genesis] [17:51:24] [INFO] Running at \u001b[38;5;121m12.72\u001b[0m\u001b[38;5;159m FPS.\u001b[0m\n",
      "\u001b[38;5;159m[Genesis] [17:51:24] [INFO] Running at \u001b[38;5;121m12.73\u001b[0m\u001b[38;5;159m FPS.\u001b[0m\n",
      "\u001b[38;5;159m[Genesis] [17:51:24] [INFO] Running at \u001b[38;5;121m12.88\u001b[0m\u001b[38;5;159m FPS.\u001b[0m\n",
      "\u001b[38;5;159m[Genesis] [17:51:24] [INFO] Running at \u001b[38;5;121m13.33\u001b[0m\u001b[38;5;159m FPS.\u001b[0m\n",
      "\u001b[38;5;159m[Genesis] [17:51:24] [INFO] Running at \u001b[38;5;121m13.18\u001b[0m\u001b[38;5;159m FPS.\u001b[0m\n",
      "\u001b[38;5;159m[Genesis] [17:51:24] [INFO] Running at \u001b[38;5;121m13.20\u001b[0m\u001b[38;5;159m FPS.\u001b[0m\n",
      "\u001b[38;5;159m[Genesis] [17:51:24] [INFO] Running at \u001b[38;5;121m13.38\u001b[0m\u001b[38;5;159m FPS.\u001b[0m\n",
      "\u001b[38;5;159m[Genesis] [17:51:24] [INFO] Running at \u001b[38;5;121m13.52\u001b[0m\u001b[38;5;159m FPS.\u001b[0m\n",
      "\u001b[38;5;159m[Genesis] [17:51:24] [INFO] Running at \u001b[38;5;121m13.65\u001b[0m\u001b[38;5;159m FPS.\u001b[0m\n",
      "\u001b[38;5;159m[Genesis] [17:51:24] [INFO] Running at \u001b[38;5;121m13.91\u001b[0m\u001b[38;5;159m FPS.\u001b[0m\n",
      "\u001b[38;5;159m[Genesis] [17:51:24] [INFO] Running at \u001b[38;5;121m14.07\u001b[0m\u001b[38;5;159m FPS.\u001b[0m\n",
      "\u001b[38;5;159m[Genesis] [17:51:24] [INFO] Running at \u001b[38;5;121m14.24\u001b[0m\u001b[38;5;159m FPS.\u001b[0m\n",
      "\u001b[38;5;159m[Genesis] [17:51:24] [INFO] Running at \u001b[38;5;121m14.74\u001b[0m\u001b[38;5;159m FPS.\u001b[0m\n",
      "\u001b[38;5;159m[Genesis] [17:51:24] [INFO] Running at \u001b[38;5;121m14.71\u001b[0m\u001b[38;5;159m FPS.\u001b[0m\n",
      "\u001b[38;5;159m[Genesis] [17:51:24] [INFO] Running at \u001b[38;5;121m14.86\u001b[0m\u001b[38;5;159m FPS.\u001b[0m\n",
      "\u001b[38;5;159m[Genesis] [17:51:24] [INFO] Running at \u001b[38;5;121m15.39\u001b[0m\u001b[38;5;159m FPS.\u001b[0m\n",
      "\u001b[38;5;159m[Genesis] [17:51:24] [INFO] Running at \u001b[38;5;121m15.85\u001b[0m\u001b[38;5;159m FPS.\u001b[0m\n",
      "\u001b[38;5;159m[Genesis] [17:51:24] [INFO] Running at \u001b[38;5;121m16.33\u001b[0m\u001b[38;5;159m FPS.\u001b[0m\n",
      "\u001b[38;5;159m[Genesis] [17:51:25] [INFO] Running at \u001b[38;5;121m16.94\u001b[0m\u001b[38;5;159m FPS.\u001b[0m\n",
      "\u001b[38;5;159m[Genesis] [17:51:25] [INFO] Running at \u001b[38;5;121m17.56\u001b[0m\u001b[38;5;159m FPS.\u001b[0m\n",
      "\u001b[38;5;159m[Genesis] [17:51:25] [INFO] Running at \u001b[38;5;121m18.08\u001b[0m\u001b[38;5;159m FPS.\u001b[0m\n",
      "\u001b[38;5;159m[Genesis] [17:51:25] [INFO] Running at \u001b[38;5;121m18.70\u001b[0m\u001b[38;5;159m FPS.\u001b[0m\n",
      "\u001b[38;5;159m[Genesis] [17:51:25] [INFO] Running at \u001b[38;5;121m19.20\u001b[0m\u001b[38;5;159m FPS.\u001b[0m\n",
      "\u001b[38;5;159m[Genesis] [17:51:25] [INFO] Running at \u001b[38;5;121m19.61\u001b[0m\u001b[38;5;159m FPS.\u001b[0m\n",
      "\u001b[38;5;159m[Genesis] [17:51:25] [INFO] Running at \u001b[38;5;121m20.07\u001b[0m\u001b[38;5;159m FPS.\u001b[0m\n",
      "\u001b[38;5;159m[Genesis] [17:51:25] [INFO] Running at \u001b[38;5;121m20.67\u001b[0m\u001b[38;5;159m FPS.\u001b[0m\n",
      "\u001b[38;5;159m[Genesis] [17:51:25] [INFO] Running at \u001b[38;5;121m21.27\u001b[0m\u001b[38;5;159m FPS.\u001b[0m\n",
      "\u001b[38;5;159m[Genesis] [17:51:25] [INFO] Running at \u001b[38;5;121m21.36\u001b[0m\u001b[38;5;159m FPS.\u001b[0m\n",
      "\u001b[38;5;159m[Genesis] [17:51:25] [INFO] Running at \u001b[38;5;121m21.08\u001b[0m\u001b[38;5;159m FPS.\u001b[0m\n",
      "\u001b[38;5;159m[Genesis] [17:51:25] [INFO] Running at \u001b[38;5;121m21.61\u001b[0m\u001b[38;5;159m FPS.\u001b[0m\n",
      "\u001b[38;5;159m[Genesis] [17:51:25] [INFO] Running at \u001b[38;5;121m22.15\u001b[0m\u001b[38;5;159m FPS.\u001b[0m\n",
      "\u001b[38;5;159m[Genesis] [17:51:25] [INFO] Running at \u001b[38;5;121m21.69\u001b[0m\u001b[38;5;159m FPS.\u001b[0m\n",
      "\u001b[38;5;159m[Genesis] [17:51:25] [INFO] Running at \u001b[38;5;121m21.50\u001b[0m\u001b[38;5;159m FPS.\u001b[0m\n",
      "\u001b[38;5;159m[Genesis] [17:51:25] [INFO] Running at \u001b[38;5;121m21.85\u001b[0m\u001b[38;5;159m FPS.\u001b[0m\n",
      "\u001b[38;5;159m[Genesis] [17:51:25] [INFO] Running at \u001b[38;5;121m22.37\u001b[0m\u001b[38;5;159m FPS.\u001b[0m\n",
      "\u001b[38;5;159m[Genesis] [17:51:25] [INFO] Running at \u001b[38;5;121m22.79\u001b[0m\u001b[38;5;159m FPS.\u001b[0m\n",
      "\u001b[38;5;159m[Genesis] [17:51:25] [INFO] Running at \u001b[38;5;121m23.16\u001b[0m\u001b[38;5;159m FPS.\u001b[0m\n",
      "\u001b[38;5;159m[Genesis] [17:51:25] [INFO] Running at \u001b[38;5;121m23.41\u001b[0m\u001b[38;5;159m FPS.\u001b[0m\n"
     ]
    }
   ],
   "source": [
    "# cylinder sclerp motion\n",
    "scene.reset()\n",
    "for i in range (obj_qpos.shape[0]):\n",
    "    franka.set_qpos(qr)\n",
    "    cylinder.set_qpos(obj_qpos[i])\n",
    "    scene.step()"
   ]
  },
  {
   "cell_type": "code",
   "execution_count": null,
   "id": "a237a013",
   "metadata": {},
   "outputs": [],
   "source": [
    "end_effector = franka.get_link('hand')\n",
    "left_finger = franka.get_link('left_finger')\n",
    "right_finger = franka.get_link('right_finger')\n",
    "\n",
    "left_finger.get_pos(), right_finger.get_pos(), end_effector.get_pos()"
   ]
  },
  {
   "cell_type": "code",
   "execution_count": null,
   "id": "a4b7dc63",
   "metadata": {},
   "outputs": [],
   "source": [
    "\n",
    "# get the end-effector link\n",
    "end_effector = franka.get_link('hand')\n",
    "above_box = cube.get_pos().cpu().numpy() + np.array([-cube_size[0]/2 + 0.02, 0, 0.11 + 0.1])\n",
    "# move to pre-grasp pose\n",
    "qpos = franka.inverse_kinematics(\n",
    "    link = end_effector,\n",
    "    pos  = above_box,\n",
    "    quat = np.array([0, 1, 0, 0]),\n",
    ")\n",
    "# # gripper open pos\n",
    "# qpos[-2:] = 0.04\n",
    "# path = franka.plan_path(\n",
    "#     qpos_goal     = qpos,\n",
    "#     num_waypoints = 200, # 2s duration\n",
    "# )"
   ]
  },
  {
   "cell_type": "code",
   "execution_count": null,
   "id": "f5cae6f6",
   "metadata": {},
   "outputs": [],
   "source": [
    "franka.get_qpos(), qpos\n",
    "\n",
    "# find straight path in joint space\n",
    "s = np.linspace(0, 1, 200)\n",
    "current_pose = franka.get_qpos().cpu().numpy()\n",
    "goal_pos = qpos.cpu().numpy()\n",
    "path = current_pose + s[:, None] * (goal_pos - current_pose)\n"
   ]
  },
  {
   "cell_type": "code",
   "execution_count": null,
   "id": "94c54613",
   "metadata": {},
   "outputs": [],
   "source": []
  },
  {
   "cell_type": "code",
   "execution_count": null,
   "id": "c140671b",
   "metadata": {},
   "outputs": [],
   "source": [
    "for qpos in path:\n",
    "    # set qpos\n",
    "    franka.control_dofs_position(qpos)\n",
    "    # step simulation\n",
    "    scene.step()"
   ]
  },
  {
   "cell_type": "code",
   "execution_count": null,
   "id": "25183e44",
   "metadata": {},
   "outputs": [],
   "source": [
    "qpos"
   ]
  },
  {
   "cell_type": "code",
   "execution_count": null,
   "id": "e3141cfd",
   "metadata": {},
   "outputs": [],
   "source": [
    "# # execute the planned path\n",
    "# for waypoint in path:\n",
    "#     franka.control_dofs_position(waypoint)\n",
    "#     scene.step()\n",
    "\n",
    "# allow robot to reach the last waypoint\n",
    "for i in range(100):\n",
    "    scene.step()\n"
   ]
  },
  {
   "cell_type": "code",
   "execution_count": null,
   "id": "fbadc379",
   "metadata": {},
   "outputs": [],
   "source": [
    "side_box = above_box + np.array([0.0, 0.0, -0.1])\n",
    "\n",
    "\n",
    "# reach\n",
    "qpos_reach = franka.inverse_kinematics(\n",
    "    link = end_effector,\n",
    "    pos  = side_box,\n",
    "    quat = np.array([0, 1, 0, 0]),\n",
    ")\n",
    "# path = franka.plan_path(\n",
    "#     qpos_goal     = qpos_reach,\n",
    "#     num_waypoints = 100, # 1s duration\n",
    "# )\n",
    "\n",
    "# for waypoint in path:\n",
    "franka.control_dofs_position(qpos_reach)\n",
    "    # scene.step()\n",
    "\n",
    "# allow robot to reach the last waypoint\n",
    "for i in range(100):\n",
    "    scene.step()"
   ]
  },
  {
   "cell_type": "code",
   "execution_count": null,
   "id": "b2281cbe",
   "metadata": {},
   "outputs": [],
   "source": [
    "\n",
    "\n",
    "\n",
    "# grasp\n",
    "franka.control_dofs_position(qpos_reach[:-2], motors_dof)\n",
    "franka.control_dofs_force(np.array([-0.5, -0.5]), fingers_dof)\n",
    "\n",
    "for i in range(100):\n",
    "    scene.step()\n"
   ]
  },
  {
   "cell_type": "code",
   "execution_count": null,
   "id": "b95e9665",
   "metadata": {},
   "outputs": [],
   "source": [
    "\n",
    "# lift\n",
    "qpos = franka.inverse_kinematics(\n",
    "    link=end_effector,\n",
    "    pos=np.array([0.65, 0.0, 0.28]),\n",
    "    quat=np.array([0, 1, 0, 0]),\n",
    ")\n",
    "franka.control_dofs_position(qpos[:-2], motors_dof)\n",
    "for i in range(200):\n",
    "    scene.step()"
   ]
  },
  {
   "cell_type": "code",
   "execution_count": null,
   "id": "5b3c0a23",
   "metadata": {},
   "outputs": [],
   "source": [
    "# open\n",
    "qpos = franka.inverse_kinematics(\n",
    "    link=end_effector,\n",
    "    pos=np.array([0.65, 0.0, 0.28]),\n",
    "    quat=np.array([0, 1, 0, 0]),\n",
    ")\n",
    "\n",
    "franka.control_dofs_position(qpos[:-2], motors_dof)\n",
    "franka.control_dofs_force(np.array([0, 0]), fingers_dof)\n",
    "for i in range(100):\n",
    "    scene.step()\n",
    "# allow robot to reach the last waypoint\n",
    "for i in range(100):\n",
    "    scene.step()"
   ]
  },
  {
   "cell_type": "code",
   "execution_count": null,
   "id": "8651bfad",
   "metadata": {},
   "outputs": [],
   "source": []
  },
  {
   "cell_type": "code",
   "execution_count": null,
   "id": "b7b71fb9",
   "metadata": {},
   "outputs": [],
   "source": [
    "franka.get_dofs_force()"
   ]
  },
  {
   "cell_type": "code",
   "execution_count": null,
   "id": "1223e5e6",
   "metadata": {},
   "outputs": [],
   "source": [
    "cube_pos = cube.get_pos().cpu().numpy()\n",
    "cube_quat = cube.get_quat().cpu().numpy()\n",
    "\n",
    "cube_pos, cube_quat"
   ]
  },
  {
   "cell_type": "code",
   "execution_count": null,
   "id": "d4f55d9a",
   "metadata": {},
   "outputs": [],
   "source": [
    "cube_pos = cube.get_pos().cpu().numpy()\n",
    "cube_quat = cube.get_quat().cpu().numpy()\n",
    "\n",
    "qpos = franka.inverse_kinematics(\n",
    "    link=end_effector,\n",
    "    pos=cube_pos + np.array([0, 0, 0.3]),\n",
    "    quat=np.array([0, 1, 0, 0]),\n",
    ")\n",
    "\n",
    "franka.control_dofs_position(qpos[:-2], motors_dof)\n",
    "franka.control_dofs_force(np.array([0, 0]), fingers_dof)\n",
    "for i in range(100):\n",
    "    scene.step()\n",
    "# allow robot to reach the last waypoint\n",
    "for i in range(100):\n",
    "    scene.step()"
   ]
  },
  {
   "cell_type": "code",
   "execution_count": null,
   "id": "cae2007e",
   "metadata": {},
   "outputs": [],
   "source": [
    "\n",
    "cam.start_recording()\n",
    "import numpy as np\n",
    "\n",
    "for i in range(120):\n",
    "    scene.step()\n",
    "    cam.set_pose(\n",
    "        pos    = (3.0 * np.sin(i / 60), 3.0 * np.cos(i / 60), 2.5),\n",
    "        lookat = (0, 0, 0.5),\n",
    "    )\n",
    "    cam.render()\n",
    "cam.stop_recording(save_to_filename='video.mp4', fps=60)"
   ]
  }
 ],
 "metadata": {
  "kernelspec": {
   "display_name": "pygen",
   "language": "python",
   "name": "python3"
  },
  "language_info": {
   "codemirror_mode": {
    "name": "ipython",
    "version": 3
   },
   "file_extension": ".py",
   "mimetype": "text/x-python",
   "name": "python",
   "nbconvert_exporter": "python",
   "pygments_lexer": "ipython3",
   "version": "3.12.9"
  }
 },
 "nbformat": 4,
 "nbformat_minor": 5
}
