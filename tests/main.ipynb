{
 "cells": [
  {
   "cell_type": "markdown",
   "id": "7db7bace",
   "metadata": {},
   "source": [
    "grasp"
   ]
  },
  {
   "cell_type": "code",
   "execution_count": 1,
   "id": "5502bb81",
   "metadata": {},
   "outputs": [],
   "source": [
    "import genesis as gs\n",
    "import numpy as np\n",
    "import torch\n",
    "from pytransform3d import (\n",
    "    transformations as pt,\n",
    "    rotations as pr,\n",
    "    batch_rotations as pb,\n",
    "    trajectories as ptr,\n",
    "    plot_utils as ppu\n",
    ")"
   ]
  },
  {
   "cell_type": "code",
   "execution_count": 2,
   "id": "28c123a4",
   "metadata": {},
   "outputs": [
    {
     "name": "stdout",
     "output_type": "stream",
     "text": [
      "\u001b[38;5;159m[Genesis] [18:22:22] [INFO] \u001b[38;5;121m╭───────────────────────────────────────────────╮\u001b[0m\u001b[38;5;159m\u001b[0m\n",
      "\u001b[38;5;159m[Genesis] [18:22:22] [INFO] \u001b[38;5;121m│┈┉┈┉┈┉┈┉┈┉┈┉┈┉┈┉┈┉┈\u001b[0m\u001b[38;5;159m \u001b[38;5;121m\u001b[1m\u001b[3mGenesis\u001b[0m\u001b[38;5;159m \u001b[38;5;121m┈┉┈┉┈┉┈┉┈┉┈┉┈┉┈┉┈┉┈│\u001b[0m\u001b[38;5;159m\u001b[0m\n",
      "\u001b[38;5;159m[Genesis] [18:22:22] [INFO] \u001b[38;5;121m╰───────────────────────────────────────────────╯\u001b[0m\u001b[38;5;159m\u001b[0m\n",
      "\u001b[38;5;159m[Genesis] [18:22:24] [INFO] Running on \u001b[38;5;121m\u001b[4m[13th Gen Intel(R) Core(TM) i7-13800H]\u001b[0m\u001b[38;5;159m with backend \u001b[38;5;121m\u001b[4mgs.cpu\u001b[0m\u001b[38;5;159m. Device memory: \u001b[38;5;121m\u001b[4m31.59\u001b[0m\u001b[38;5;159m GB.\u001b[0m\n",
      "\u001b[38;5;159m[Genesis] [18:22:24] [INFO] 🚀 Genesis initialized. 🔖 version: \u001b[38;5;121m\u001b[4m0.2.1\u001b[0m\u001b[38;5;159m, 🌱 seed: \u001b[38;5;121m\u001b[4m42\u001b[0m\u001b[38;5;159m, 📏 precision: '\u001b[38;5;121m\u001b[4m32\u001b[0m\u001b[38;5;159m', 🐛 debug: \u001b[38;5;121m\u001b[4mFalse\u001b[0m\u001b[38;5;159m, 🎨 theme: '\u001b[38;5;121m\u001b[4mdark\u001b[0m\u001b[38;5;159m'.\u001b[0m\n"
     ]
    }
   ],
   "source": [
    "gs.init(backend=gs.cpu, seed=42)"
   ]
  },
  {
   "cell_type": "code",
   "execution_count": 3,
   "id": "94b65edf",
   "metadata": {},
   "outputs": [
    {
     "name": "stdout",
     "output_type": "stream",
     "text": [
      "\u001b[38;5;159m[Genesis] [18:22:28] [INFO] Scene \u001b[38;5;121m\u001b[3m<aa74244>\u001b[0m\u001b[38;5;159m created.\u001b[0m\n",
      "\u001b[38;5;159m[Genesis] [18:22:28] [INFO] Adding \u001b[38;5;121m<gs.RigidEntity>\u001b[0m\u001b[38;5;159m. idx: \u001b[38;5;121m0\u001b[0m\u001b[38;5;159m, uid: \u001b[38;5;121m\u001b[3m<36c99a3>\u001b[0m\u001b[38;5;159m, morph: \u001b[38;5;121m<gs.morphs.Plane>\u001b[0m\u001b[38;5;159m, material: \u001b[38;5;121m<gs.materials.Rigid>\u001b[0m\u001b[38;5;159m.\u001b[0m\n",
      "\u001b[38;5;159m[Genesis] [18:22:28] [INFO] Adding \u001b[38;5;121m<gs.RigidEntity>\u001b[0m\u001b[38;5;159m. idx: \u001b[38;5;121m1\u001b[0m\u001b[38;5;159m, uid: \u001b[38;5;121m\u001b[3m<4611a6b>\u001b[0m\u001b[38;5;159m, morph: \u001b[38;5;121m<gs.morphs.MJCF(file='d:\\envs\\pygen\\Lib\\site-packages\\genesis\\assets\\xml/franka_emika_panda/panda.xml')>\u001b[0m\u001b[38;5;159m, material: \u001b[38;5;121m<gs.materials.Rigid>\u001b[0m\u001b[38;5;159m.\u001b[0m\n",
      "\u001b[38;5;226m[Genesis] [18:22:29] [WARNING] (MJCF) Tendon not supported\u001b[0m\n",
      "\u001b[38;5;226m[Genesis] [18:22:30] [WARNING] (MJCF) Approximating tendon by joint actuator for `finger_joint1`\u001b[0m\n",
      "\u001b[38;5;226m[Genesis] [18:22:30] [WARNING] (MJCF) Actuator control gain and bias parameters cannot be reduced to a unique PD control position gain. Using max between gain and bias.\u001b[0m\n",
      "\u001b[38;5;226m[Genesis] [18:22:30] [WARNING] (MJCF) Approximating tendon by joint actuator for `finger_joint2`\u001b[0m\n",
      "\u001b[38;5;226m[Genesis] [18:22:30] [WARNING] (MJCF) Actuator control gain and bias parameters cannot be reduced to a unique PD control position gain. Using max between gain and bias.\u001b[0m\n",
      "\u001b[38;5;159m[Genesis] [18:22:30] [INFO] Adding \u001b[38;5;121m<gs.RigidEntity>\u001b[0m\u001b[38;5;159m. idx: \u001b[38;5;121m2\u001b[0m\u001b[38;5;159m, uid: \u001b[38;5;121m\u001b[3m<bc85920>\u001b[0m\u001b[38;5;159m, morph: \u001b[38;5;121m<gs.morphs.Box>\u001b[0m\u001b[38;5;159m, material: \u001b[38;5;121m<gs.materials.Rigid>\u001b[0m\u001b[38;5;159m.\u001b[0m\n",
      "\u001b[38;5;159m[Genesis] [18:22:30] [INFO] Adding \u001b[38;5;121m<gs.RigidEntity>\u001b[0m\u001b[38;5;159m. idx: \u001b[38;5;121m3\u001b[0m\u001b[38;5;159m, uid: \u001b[38;5;121m\u001b[3m<024d070>\u001b[0m\u001b[38;5;159m, morph: \u001b[38;5;121m<gs.morphs.Cylinder>\u001b[0m\u001b[38;5;159m, material: \u001b[38;5;121m<gs.materials.Rigid>\u001b[0m\u001b[38;5;159m.\u001b[0m\n"
     ]
    }
   ],
   "source": [
    "\n",
    "scene = gs.Scene(\n",
    "    show_viewer = True,\n",
    "    viewer_options = gs.options.ViewerOptions(\n",
    "        res           = (1280, 960),\n",
    "        camera_pos    = (3.5, 0.0, 2.5),\n",
    "        camera_lookat = (0.0, 0.0, 0.5),\n",
    "        camera_fov    = 40,\n",
    "        max_FPS       = 60,\n",
    "    ),\n",
    "    sim_options=gs.options.SimOptions(\n",
    "        dt = 0.01,\n",
    "    ),\n",
    "    vis_options = gs.options.VisOptions(\n",
    "        show_world_frame = True,\n",
    "        world_frame_size = 1.0,\n",
    "        show_link_frame  = False,\n",
    "        show_cameras     = False,\n",
    "        plane_reflection = True,\n",
    "        ambient_light    = (0.1, 0.1, 0.1),\n",
    "    ),\n",
    "    renderer=gs.renderers.Rasterizer(),\n",
    ")\n",
    "\n",
    "plane = scene.add_entity(\n",
    "    gs.morphs.Plane(),\n",
    ")\n",
    "franka = scene.add_entity(\n",
    "    gs.morphs.MJCF(file='xml/franka_emika_panda/panda.xml'),\n",
    ")\n",
    "cube_size = (0.1, 0.07, 0.03)\n",
    "cube_pos = (0.7, 0, 0.015)\n",
    "\n",
    "cube = scene.add_entity(\n",
    "    gs.morphs.Box(\n",
    "        size = cube_size,\n",
    "        pos  = cube_pos,\n",
    "    ),\n",
    "    # surface=gs.textures.ColorTexture(\n",
    "    #     color = (0.8, 0.1 , 0.1),\n",
    "    # ),\n",
    ")\n",
    "cube.surface.color = (0.8, 0.1 , 0.1)\n",
    "\n",
    "cylinder_pos = (0.7, -0.2, 0.05)\n",
    "cylinder_radius = 0.03\n",
    "cylinder_height = 0.1\n",
    "\n",
    "cylinder = scene.add_entity(\n",
    "    gs.morphs.Cylinder(\n",
    "        radius = cylinder_radius,\n",
    "        height = cylinder_height,\n",
    "        pos    = cylinder_pos,\n",
    "    ),\n",
    "    # surface=gs.textures.ColorTexture(\n",
    "    #     color = (0.2, 0.8, 0.2),        \n",
    "    # ),\n",
    ")\n",
    "cylinder.surface.color = (0.2, 0.8, 0.2)\n",
    "\n",
    "cam = scene.add_camera(\n",
    "    res    = (640, 480),\n",
    "    pos    = (3.5, 0.0, 2.5),\n",
    "    lookat = (0, 0, 0.5),\n",
    "    fov    = 30,\n",
    "    GUI    = False,\n",
    ")\n"
   ]
  },
  {
   "cell_type": "code",
   "execution_count": 4,
   "id": "6222462d",
   "metadata": {},
   "outputs": [
    {
     "name": "stdout",
     "output_type": "stream",
     "text": [
      "\u001b[38;5;159m[Genesis] [18:22:33] [INFO] Building scene \u001b[38;5;121m\u001b[3m<aa74244>\u001b[0m\u001b[38;5;159m...\u001b[0m\n",
      "\u001b[38;5;226m[Genesis] [18:22:37] [WARNING] Reference robot position exceeds joint limits.\u001b[0m\n",
      "\u001b[38;5;226m[Genesis] [18:22:37] [WARNING] Constraint solver time constant was increased to avoid numerical instability (from `0.005` to `0.02`). Decrease simulation timestep to avoid altering the original value.\u001b[0m\n",
      "\u001b[38;5;159m[Genesis] [18:22:57] [INFO] Compiling simulation kernels...\u001b[0m\n",
      "\u001b[38;5;159m[Genesis] [18:28:06] [INFO] Building visualizer...\u001b[0m\n",
      "\u001b[38;5;159m[Genesis] [18:28:17] [INFO] Viewer created. Resolution: \u001b[38;5;121m1280×960\u001b[0m\u001b[38;5;159m, max_FPS: \u001b[38;5;121m60\u001b[0m\u001b[38;5;159m.\u001b[0m\n"
     ]
    }
   ],
   "source": [
    "\n",
    "scene.build()\n",
    "motors_dof = np.arange(7)\n",
    "fingers_dof = np.arange(7, 9)\n",
    "\n",
    "# set control gains\n",
    "# Note: the following values are tuned for achieving best behavior with Franka\n",
    "# Typically, each new robot would have a different set of parameters.\n",
    "# Sometimes high-quality URDF or XML file would also provide this and will be parsed.\n",
    "franka.set_dofs_kp(\n",
    "    np.array([4500, 4500, 3500, 3500, 2000, 2000, 2000, 100, 100]),\n",
    ")\n",
    "franka.set_dofs_kv(\n",
    "    np.array([450, 450, 350, 350, 200, 200, 200, 10, 10]),\n",
    ")\n",
    "franka.set_dofs_force_range(\n",
    "    np.array([-87, -87, -87, -87, -12, -12, -12, -100, -100]),\n",
    "    np.array([ 87,  87,  87,  87,  12,  12,  12,  100,  100]),\n",
    ")\n",
    "\n",
    "# render rgb, depth, segmentation, and normal\n",
    "# rgb, depth, segmentation, normal = cam.render(rgb=True, depth=True, segmentation=True, normal=True)\n"
   ]
  },
  {
   "cell_type": "code",
   "execution_count": 5,
   "id": "17e797a9",
   "metadata": {},
   "outputs": [
    {
     "name": "stdout",
     "output_type": "stream",
     "text": [
      "cube_pos: tensor([0.7000, 0.0000, 0.0150])\n",
      "cube_rot: tensor([1., 0., 0., 0.])\n",
      "cube_mass: 0.04200000000000001\n",
      "cube_vertices: tensor([[ 0.6500, -0.0350,  0.0000],\n",
      "        [ 0.6500, -0.0350,  0.0300],\n",
      "        [ 0.6500,  0.0350,  0.0000],\n",
      "        [ 0.6500,  0.0350,  0.0300],\n",
      "        [ 0.7500, -0.0350,  0.0000],\n",
      "        [ 0.7500, -0.0350,  0.0300],\n",
      "        [ 0.7500,  0.0350,  0.0000],\n",
      "        [ 0.7500,  0.0350,  0.0300]])\n"
     ]
    }
   ],
   "source": [
    "# get cubes prperties\n",
    "cube_pos = cube.get_pos()\n",
    "print(f\"cube_pos: {cube_pos}\")\n",
    "cube_rot = cube.get_quat()\n",
    "print(f\"cube_rot: {cube_rot}\")\n",
    "cube_mass = cube.get_mass()\n",
    "print(f\"cube_mass: {cube_mass}\")\n",
    "cube_vertices = cube.get_verts()\n",
    "print(f\"cube_vertices: {cube_vertices}\")"
   ]
  },
  {
   "cell_type": "code",
   "execution_count": 6,
   "id": "eba19276",
   "metadata": {},
   "outputs": [
    {
     "data": {
      "text/plain": [
       "ColorTexture(color=(1.0, 1.0, 1.0, 1.0))"
      ]
     },
     "execution_count": 6,
     "metadata": {},
     "output_type": "execute_result"
    }
   ],
   "source": [
    "cube.surface.get_rgba()"
   ]
  },
  {
   "cell_type": "code",
   "execution_count": 72,
   "id": "89b33816",
   "metadata": {},
   "outputs": [
    {
     "name": "stdout",
     "output_type": "stream",
     "text": [
      "\u001b[38;5;159m[Genesis] [18:01:54] [INFO] Running at \u001b[38;5;121m0.01\u001b[0m\u001b[38;5;159m FPS.\u001b[0m\n"
     ]
    }
   ],
   "source": [
    "cube_pos = (0.7, 0, 0.015)\n",
    "cube_qpos = np.concatenate((np.array(cube_pos), np.array([1, 0, 0, 0])), axis=0)\n",
    "cube.set_qpos(cube_qpos)\n",
    "qr = np.array([0.0000, -0.3002, 0.0000, -2.1991, 0.0000, 2.0071, 0.7854, 0.04, 0.04])\n",
    "\n",
    "franka.ready_qpos = qr\n",
    "franka.set_qpos(franka.ready_qpos)\n",
    "scene.step()"
   ]
  },
  {
   "cell_type": "code",
   "execution_count": 7,
   "id": "e1a07e44",
   "metadata": {},
   "outputs": [
    {
     "name": "stdout",
     "output_type": "stream",
     "text": [
      "cylinder_pos: tensor([ 0.7000, -0.2000,  0.0500])\n",
      "cylinder_rot: tensor([1., 0., 0., 0.])\n",
      "cylinder_mass: 0.05618601274064494\n"
     ]
    }
   ],
   "source": [
    "# get cylinder properties\n",
    "cylinder_pos = cylinder.get_pos()\n",
    "print(f\"cylinder_pos: {cylinder_pos}\")\n",
    "cylinder_rot = cylinder.get_quat()\n",
    "print(f\"cylinder_rot: {cylinder_rot}\")\n",
    "cylinder_mass = cylinder.get_mass()\n",
    "print(f\"cylinder_mass: {cylinder_mass}\")\n",
    "# cylinder_vertices = cylinder.get_verts()\n",
    "# print(f\"cylinder_vertices: {cylinder_vertices}\")"
   ]
  },
  {
   "cell_type": "code",
   "execution_count": 8,
   "id": "264e1d2a",
   "metadata": {},
   "outputs": [
    {
     "data": {
      "text/plain": [
       "tensor([[ 0.6700, -0.2300,  0.0000],\n",
       "        [ 0.7300, -0.1700,  0.1000]])"
      ]
     },
     "execution_count": 8,
     "metadata": {},
     "output_type": "execute_result"
    }
   ],
   "source": [
    "cylinder.get_AABB()"
   ]
  },
  {
   "cell_type": "code",
   "execution_count": 21,
   "id": "e93be1d5",
   "metadata": {},
   "outputs": [
    {
     "data": {
      "text/plain": [
       "array([-7.05524893e-01, -2.25481084e-10,  7.08685138e-01,  2.71756043e-10])"
      ]
     },
     "execution_count": 21,
     "metadata": {},
     "output_type": "execute_result"
    }
   ],
   "source": [
    "# get cylinder Rotation matrix\n",
    "R_initial = gs.quat_to_R(cylinder.get_quat())\n",
    "R_initial = R_initial.numpy()\n",
    "# now multiply this R by another given R to get the new rotation matrix\n",
    "R =np.array([[0, 0, -1], [0, 1, 0], [1, 0, 0]])\n",
    "R_goal = np.dot(R_initial, R)\n",
    "quat_goal = gs.R_to_quat(R_goal)\n",
    "quat_goal"
   ]
  },
  {
   "cell_type": "code",
   "execution_count": 10,
   "id": "cc44e0bd",
   "metadata": {},
   "outputs": [
    {
     "data": {
      "text/plain": [
       "tensor([1., 0., 0., 0.])"
      ]
     },
     "execution_count": 10,
     "metadata": {},
     "output_type": "execute_result"
    }
   ],
   "source": [
    "cylinder.get_quat()"
   ]
  },
  {
   "cell_type": "code",
   "execution_count": 22,
   "id": "5601f0b4",
   "metadata": {},
   "outputs": [
    {
     "name": "stdout",
     "output_type": "stream",
     "text": [
      "\u001b[38;5;159m[Genesis] [18:58:45] [INFO] Running at \u001b[38;5;121m0.01\u001b[0m\u001b[38;5;159m FPS.\u001b[0m\n"
     ]
    }
   ],
   "source": [
    "cylinder_pos = (0.7, -0.2, 0.05-0.02)\n",
    "cyl_qpos = np.concatenate((np.array(cylinder_pos), quat_goal), axis=0)\n",
    "cylinder.set_qpos(cyl_qpos)\n",
    "scene.step()"
   ]
  },
  {
   "cell_type": "code",
   "execution_count": 77,
   "id": "0e56bccb",
   "metadata": {},
   "outputs": [
    {
     "name": "stderr",
     "output_type": "stream",
     "text": [
      "C:\\Users\\boroj\\AppData\\Local\\Temp\\ipykernel_13512\\599004262.py:2: DeprecationWarning: __array__ implementation doesn't accept a copy keyword, so passing copy=False failed. __array__ must implement 'dtype' and 'copy' keyword arguments.\n",
      "  vertices = np.array(vertices)\n"
     ]
    },
    {
     "data": {
      "text/plain": [
       "array([ 0.75049263, -0.23      , -0.00093357], dtype=float32)"
      ]
     },
     "execution_count": 77,
     "metadata": {},
     "output_type": "execute_result"
    }
   ],
   "source": [
    "vertices = cylinder.get_verts()\n",
    "vertices = np.array(vertices)\n",
    "# # verts.max(axis=-2, keepdim=True)\n",
    "# verts.max(axis=-2, keepdim=True)\n",
    "\n",
    "# verts.max(dim = 0).values\n",
    "# # sort the vertices by x axis\n",
    "# verts = verts[verts[:, 0].argsort()]\n",
    "# verts\n",
    "max_x = np.max(vertices[:, 0])\n",
    "min_y = np.min(vertices[:, 1])\n",
    "min_z = np.min(vertices[:, 2])\n",
    "max_y = np.max(vertices[:, 1])\n",
    "\n",
    "v1 = np.array([max_x, min_y, min_z])  # max x, min y, min z\n",
    "v2 = np.array([max_x, max_y, min_z])  # max x, max y, min z\n",
    "v1"
   ]
  },
  {
   "cell_type": "code",
   "execution_count": 78,
   "id": "454debcf",
   "metadata": {},
   "outputs": [
    {
     "data": {
      "text/plain": [
       "array([ 0.75049263, -0.17      , -0.00093357], dtype=float32)"
      ]
     },
     "execution_count": 78,
     "metadata": {},
     "output_type": "execute_result"
    }
   ],
   "source": [
    "v2"
   ]
  },
  {
   "cell_type": "code",
   "execution_count": 23,
   "id": "e1deb98d",
   "metadata": {},
   "outputs": [
    {
     "data": {
      "text/plain": [
       "tensor([[ 0.6501, -0.2300, -0.0009],\n",
       "        [ 0.7505, -0.1700,  0.0598]])"
      ]
     },
     "execution_count": 23,
     "metadata": {},
     "output_type": "execute_result"
    }
   ],
   "source": [
    "cylinder.get_AABB()"
   ]
  },
  {
   "cell_type": "code",
   "execution_count": 13,
   "id": "358ec44b",
   "metadata": {},
   "outputs": [
    {
     "data": {
      "text/plain": [
       "tensor([ 0.7003, -0.2000,  0.0294])"
      ]
     },
     "execution_count": 13,
     "metadata": {},
     "output_type": "execute_result"
    }
   ],
   "source": [
    "cylinder.get_pos()"
   ]
  },
  {
   "cell_type": "code",
   "execution_count": null,
   "id": "47187762",
   "metadata": {},
   "outputs": [
    {
     "name": "stdout",
     "output_type": "stream",
     "text": [
      "\u001b[38;5;159m[Genesis] [18:38:02] [INFO] Running at \u001b[38;5;121m0.04\u001b[0m\u001b[38;5;159m FPS.\u001b[0m\n"
     ]
    }
   ],
   "source": [
    "cylinder.set_quat(np.array([1, 0, 0, 0]))\n",
    "\n",
    "scene.step()"
   ]
  },
  {
   "cell_type": "code",
   "execution_count": 20,
   "id": "9f811d8a",
   "metadata": {},
   "outputs": [
    {
     "data": {
      "text/plain": [
       "tensor([ 7.0320e-08, -4.4692e-01, -6.5443e-09])"
      ]
     },
     "execution_count": 20,
     "metadata": {},
     "output_type": "execute_result"
    }
   ],
   "source": [
    "cylinder.get_ang()"
   ]
  },
  {
   "cell_type": "code",
   "execution_count": 32,
   "id": "a237a013",
   "metadata": {},
   "outputs": [
    {
     "data": {
      "text/plain": [
       "(tensor([ 0.4585, -0.0406,  0.3952]),\n",
       " tensor([0.4582, 0.0394, 0.3948]),\n",
       " tensor([ 4.5857e-01, -2.7521e-04,  4.5343e-01]))"
      ]
     },
     "execution_count": 32,
     "metadata": {},
     "output_type": "execute_result"
    }
   ],
   "source": [
    "end_effector = franka.get_link('hand')\n",
    "left_finger = franka.get_link('left_finger')\n",
    "right_finger = franka.get_link('right_finger')\n",
    "\n",
    "left_finger.get_pos(), right_finger.get_pos(), end_effector.get_pos()"
   ]
  },
  {
   "cell_type": "code",
   "execution_count": 33,
   "id": "a4b7dc63",
   "metadata": {},
   "outputs": [],
   "source": [
    "\n",
    "# get the end-effector link\n",
    "end_effector = franka.get_link('hand')\n",
    "above_box = cube.get_pos().cpu().numpy() + np.array([-cube_size[0]/2 + 0.02, 0, 0.11 + 0.1])\n",
    "# move to pre-grasp pose\n",
    "qpos = franka.inverse_kinematics(\n",
    "    link = end_effector,\n",
    "    pos  = above_box,\n",
    "    quat = np.array([0, 1, 0, 0]),\n",
    ")\n",
    "# # gripper open pos\n",
    "# qpos[-2:] = 0.04\n",
    "# path = franka.plan_path(\n",
    "#     qpos_goal     = qpos,\n",
    "#     num_waypoints = 200, # 2s duration\n",
    "# )"
   ]
  },
  {
   "cell_type": "code",
   "execution_count": null,
   "id": "f5cae6f6",
   "metadata": {},
   "outputs": [],
   "source": [
    "franka.get_qpos(), qpos\n",
    "\n",
    "# find straight path in joint space\n",
    "s = np.linspace(0, 1, 200)\n",
    "current_pose = franka.get_qpos().cpu().numpy()\n",
    "goal_pos = qpos.cpu().numpy()\n",
    "path = current_pose + s[:, None] * (goal_pos - current_pose)\n"
   ]
  },
  {
   "cell_type": "code",
   "execution_count": null,
   "id": "94c54613",
   "metadata": {},
   "outputs": [],
   "source": []
  },
  {
   "cell_type": "code",
   "execution_count": null,
   "id": "c140671b",
   "metadata": {},
   "outputs": [],
   "source": [
    "for qpos in path:\n",
    "    # set qpos\n",
    "    franka.control_dofs_position(qpos)\n",
    "    # step simulation\n",
    "    scene.step()"
   ]
  },
  {
   "cell_type": "code",
   "execution_count": null,
   "id": "25183e44",
   "metadata": {},
   "outputs": [],
   "source": [
    "qpos"
   ]
  },
  {
   "cell_type": "code",
   "execution_count": null,
   "id": "e3141cfd",
   "metadata": {},
   "outputs": [],
   "source": [
    "# # execute the planned path\n",
    "# for waypoint in path:\n",
    "#     franka.control_dofs_position(waypoint)\n",
    "#     scene.step()\n",
    "\n",
    "# allow robot to reach the last waypoint\n",
    "for i in range(100):\n",
    "    scene.step()\n"
   ]
  },
  {
   "cell_type": "code",
   "execution_count": null,
   "id": "fbadc379",
   "metadata": {},
   "outputs": [],
   "source": [
    "side_box = above_box + np.array([0.0, 0.0, -0.1])\n",
    "\n",
    "\n",
    "# reach\n",
    "qpos_reach = franka.inverse_kinematics(\n",
    "    link = end_effector,\n",
    "    pos  = side_box,\n",
    "    quat = np.array([0, 1, 0, 0]),\n",
    ")\n",
    "# path = franka.plan_path(\n",
    "#     qpos_goal     = qpos_reach,\n",
    "#     num_waypoints = 100, # 1s duration\n",
    "# )\n",
    "\n",
    "# for waypoint in path:\n",
    "franka.control_dofs_position(qpos_reach)\n",
    "    # scene.step()\n",
    "\n",
    "# allow robot to reach the last waypoint\n",
    "for i in range(100):\n",
    "    scene.step()"
   ]
  },
  {
   "cell_type": "code",
   "execution_count": null,
   "id": "b2281cbe",
   "metadata": {},
   "outputs": [],
   "source": [
    "\n",
    "\n",
    "\n",
    "# grasp\n",
    "franka.control_dofs_position(qpos_reach[:-2], motors_dof)\n",
    "franka.control_dofs_force(np.array([-0.5, -0.5]), fingers_dof)\n",
    "\n",
    "for i in range(100):\n",
    "    scene.step()\n"
   ]
  },
  {
   "cell_type": "code",
   "execution_count": null,
   "id": "b95e9665",
   "metadata": {},
   "outputs": [],
   "source": [
    "\n",
    "# lift\n",
    "qpos = franka.inverse_kinematics(\n",
    "    link=end_effector,\n",
    "    pos=np.array([0.65, 0.0, 0.28]),\n",
    "    quat=np.array([0, 1, 0, 0]),\n",
    ")\n",
    "franka.control_dofs_position(qpos[:-2], motors_dof)\n",
    "for i in range(200):\n",
    "    scene.step()"
   ]
  },
  {
   "cell_type": "code",
   "execution_count": null,
   "id": "5b3c0a23",
   "metadata": {},
   "outputs": [],
   "source": [
    "# open\n",
    "qpos = franka.inverse_kinematics(\n",
    "    link=end_effector,\n",
    "    pos=np.array([0.65, 0.0, 0.28]),\n",
    "    quat=np.array([0, 1, 0, 0]),\n",
    ")\n",
    "\n",
    "franka.control_dofs_position(qpos[:-2], motors_dof)\n",
    "franka.control_dofs_force(np.array([0, 0]), fingers_dof)\n",
    "for i in range(100):\n",
    "    scene.step()\n",
    "# allow robot to reach the last waypoint\n",
    "for i in range(100):\n",
    "    scene.step()"
   ]
  },
  {
   "cell_type": "code",
   "execution_count": null,
   "id": "8651bfad",
   "metadata": {},
   "outputs": [],
   "source": []
  },
  {
   "cell_type": "code",
   "execution_count": null,
   "id": "b7b71fb9",
   "metadata": {},
   "outputs": [],
   "source": [
    "franka.get_dofs_force()"
   ]
  },
  {
   "cell_type": "code",
   "execution_count": null,
   "id": "1223e5e6",
   "metadata": {},
   "outputs": [],
   "source": [
    "cube_pos = cube.get_pos().cpu().numpy()\n",
    "cube_quat = cube.get_quat().cpu().numpy()\n",
    "\n",
    "cube_pos, cube_quat"
   ]
  },
  {
   "cell_type": "code",
   "execution_count": null,
   "id": "d4f55d9a",
   "metadata": {},
   "outputs": [],
   "source": [
    "cube_pos = cube.get_pos().cpu().numpy()\n",
    "cube_quat = cube.get_quat().cpu().numpy()\n",
    "\n",
    "qpos = franka.inverse_kinematics(\n",
    "    link=end_effector,\n",
    "    pos=cube_pos + np.array([0, 0, 0.3]),\n",
    "    quat=np.array([0, 1, 0, 0]),\n",
    ")\n",
    "\n",
    "franka.control_dofs_position(qpos[:-2], motors_dof)\n",
    "franka.control_dofs_force(np.array([0, 0]), fingers_dof)\n",
    "for i in range(100):\n",
    "    scene.step()\n",
    "# allow robot to reach the last waypoint\n",
    "for i in range(100):\n",
    "    scene.step()"
   ]
  },
  {
   "cell_type": "code",
   "execution_count": null,
   "id": "cae2007e",
   "metadata": {},
   "outputs": [],
   "source": [
    "\n",
    "cam.start_recording()\n",
    "import numpy as np\n",
    "\n",
    "for i in range(120):\n",
    "    scene.step()\n",
    "    cam.set_pose(\n",
    "        pos    = (3.0 * np.sin(i / 60), 3.0 * np.cos(i / 60), 2.5),\n",
    "        lookat = (0, 0, 0.5),\n",
    "    )\n",
    "    cam.render()\n",
    "cam.stop_recording(save_to_filename='video.mp4', fps=60)"
   ]
  }
 ],
 "metadata": {
  "kernelspec": {
   "display_name": "pygen",
   "language": "python",
   "name": "python3"
  },
  "language_info": {
   "codemirror_mode": {
    "name": "ipython",
    "version": 3
   },
   "file_extension": ".py",
   "mimetype": "text/x-python",
   "name": "python",
   "nbconvert_exporter": "python",
   "pygments_lexer": "ipython3",
   "version": "3.12.9"
  }
 },
 "nbformat": 4,
 "nbformat_minor": 5
}
