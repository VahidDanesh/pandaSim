{
 "cells": [
  {
   "cell_type": "code",
   "execution_count": 1,
   "metadata": {},
   "outputs": [
    {
     "name": "stderr",
     "output_type": "stream",
     "text": [
      "[I 07/10/25 18:05:35.044 21800] [shell.py:_shell_pop_print@23] Graphical python shell detected, using wrapped sys.stdout\n"
     ]
    }
   ],
   "source": [
    "\"\"\"\n",
    "Example demonstrating the Robotics Toolbox adapter usage.\n",
    "\n",
    "This example shows how to use the RTB adapter to:\n",
    "1. Initialize the environment\n",
    "2. Load/create robots and objects\n",
    "3. Perform basic operations like forward kinematics, pose manipulation, etc.\n",
    "\"\"\"\n",
    "\n",
    "import numpy as np\n",
    "import spatialmath as sm\n",
    "import spatialgeometry as sg\n",
    "from pandaSim.geometry.rtb_adapter import RoboticsToolboxAdapter\n",
    "from pandaSim.geometry.utils import convert_pose\n",
    "from pandaSim.geometry.utils import create_virtual_panda\n",
    "import trimesh\n",
    "from pytransform3d import (\n",
    "    transformations as pt,\n",
    "    rotations as pr,\n",
    "    batch_rotations as pb,\n",
    "    trajectories as ptr,\n",
    "    plot_utils as ppu\n",
    ")\n",
    "import qpsolvers as qp\n",
    "\n",
    "\n",
    "# auto reload\n",
    "%load_ext autoreload\n",
    "%autoreload 2"
   ]
  },
  {
   "cell_type": "code",
   "execution_count": 2,
   "metadata": {},
   "outputs": [
    {
     "data": {
      "text/plain": [
       "ERobot: panda, 8 joints (RRRRRRRR), 1 gripper, 2 branches, geometry, collision\n",
       "┌──────┬──────────────────────┬───────┬─────────────┬────────────────────────────────────────────────┐\n",
       "│ link │         link         │ joint │   parent    │              ETS: parent to link               │\n",
       "├──────┼──────────────────────┼───────┼─────────────┼────────────────────────────────────────────────┤\n",
       "│    0 │ \u001b[38;5;4mpanda_link0\u001b[0m          │       │ BASE        │ SE3()                                          │\n",
       "│    1 │ panda_link1          │     0 │ panda_link0 │ SE3(0, 0, 0.333) ⊕ Rz(q0)                      │\n",
       "│    2 │ panda_link2          │     1 │ panda_link1 │ SE3(-90°, -0°, 0°) ⊕ Rz(q1)                    │\n",
       "│    3 │ panda_link3          │     2 │ panda_link2 │ SE3(0, -0.316, 0; 90°, -0°, 0°) ⊕ Rz(q2)       │\n",
       "│    4 │ panda_link4          │     3 │ panda_link3 │ SE3(0.0825, 0, 0; 90°, -0°, 0°) ⊕ Rz(q3)       │\n",
       "│    5 │ panda_link5          │     4 │ panda_link4 │ SE3(-0.0825, 0.384, 0; -90°, -0°, 0°) ⊕ Rz(q4) │\n",
       "│    6 │ panda_link6          │     5 │ panda_link5 │ SE3(90°, -0°, 0°) ⊕ Rz(q5)                     │\n",
       "│    7 │ panda_link7          │     6 │ panda_link6 │ SE3(0.088, 0, 0; 90°, -0°, 0°) ⊕ Rz(q6)        │\n",
       "│    8 │ \u001b[38;5;4m@panda_link8\u001b[0m         │       │ panda_link7 │ SE3(0, 0, 0.107)                               │\n",
       "│    9 │ panda_finger_virtual │     7 │ panda_link8 │ SE3(0, 0, 0.1034; -90°, -0°, -45°) ⊕ Rz(q7)    │\n",
       "└──────┴──────────────────────┴───────┴─────────────┴────────────────────────────────────────────────┘\n",
       "\n",
       "┌──────┬─────┬────────┬─────┬───────┬─────┬───────┬──────┬─────┐\n",
       "│ name │ q0  │ q1     │ q2  │ q3    │ q4  │ q5    │ q6   │ q7  │\n",
       "├──────┼─────┼────────┼─────┼───────┼─────┼───────┼──────┼─────┤\n",
       "│   qr │  0° │ -17.2° │  0° │ -126° │  0° │  115° │  45° │  0° │\n",
       "│   qz │  0° │  0°    │  0° │  0°   │  0° │  0°   │  0°  │  0° │\n",
       "└──────┴─────┴────────┴─────┴───────┴─────┴───────┴──────┴─────┘"
      ]
     },
     "execution_count": 2,
     "metadata": {},
     "output_type": "execute_result"
    }
   ],
   "source": [
    "panda_path = '../model/franka_description/robots/frankaEmikaPandaVirtual.urdf'\n",
    "panda = create_virtual_panda(urdf_path=panda_path)\n",
    "\n",
    "panda"
   ]
  },
  {
   "cell_type": "code",
   "execution_count": 3,
   "metadata": {},
   "outputs": [
    {
     "data": {
      "text/plain": [
       "3"
      ]
     },
     "execution_count": 3,
     "metadata": {},
     "output_type": "execute_result"
    }
   ],
   "source": [
    "adapter = RoboticsToolboxAdapter({\n",
    "    \"realtime\": True,\n",
    "    \"rate\": 100,\n",
    "    \"browser\": 'google-chrome' # \"notebook\" for visualizing in jupyter notebook\n",
    "})\n",
    "    \n",
    "\n",
    "panda_path = '../model/franka_description/robots/frankaEmikaPandaVirtual.urdf'\n",
    "panda_virtual = create_virtual_panda(urdf_path=panda_path)\n",
    "    \n",
    "env = adapter.get_env\n",
    "# Open the gripper fingers (from sample code)\n",
    "if hasattr(panda_virtual, 'grippers') and len(panda_virtual.grippers) > 0:\n",
    "    panda_virtual.grippers[0].q = [0.035, 0.035]\n",
    "    \n",
    "box = sg.Box(scale=[0.1, 0.07, 0.03], \n",
    "             color='blue', \n",
    "             pose=sm.SE3(0.7, 0, 0.015) * sm.SE3.RPY(0, 0, np.pi/3))\n",
    "\n",
    "\n",
    "\n",
    "# Create a cylinder\n",
    "cylinder = sg.Cylinder(radius=0.03, length=0.2, \n",
    "                       color='green', \n",
    "                       pose=sm.SE3(0.3, 0.3, 0.1))\n",
    "\n",
    "    \n",
    "axes = sg.Axes(length=0.1, color='red')\n",
    "\n",
    "\n",
    "env.add(panda_virtual)\n",
    "env.add(box)\n",
    "env.add(cylinder)\n",
    "env.add(axes)"
   ]
  },
  {
   "cell_type": "code",
   "execution_count": 5,
   "metadata": {},
   "outputs": [
    {
     "name": "stdout",
     "output_type": "stream",
     "text": [
      "QP solver failed, using pseudoinverse fallback\n"
     ]
    }
   ],
   "source": [
    "# Direct instantiation\n",
    "from pandaSim.control import QPController\n",
    "\n",
    "qp_controller = QPController(\n",
    "    adapter=adapter,\n",
    "    lambda_q=0.5,      # Joint velocity minimization weight (λ)\n",
    "    lambda_m=0.1,      # Manipulability maximization weight\n",
    "    ps=0.05,           # Stopping distance (ρₛ)\n",
    "    pi=0.3,            # Influence distance (ρᵢ)\n",
    "    eta=1.0,           # Damper gain (η)\n",
    "    end_effector_link='panda_finger_virtual',\n",
    "    solver='quadprog'\n",
    ")\n",
    "\n",
    "# Use the controller\n",
    "qd, arrived = qp_controller.compute_joint_velocities(panda_virtual, box.T)"
   ]
  }
 ],
 "metadata": {
  "kernelspec": {
   "display_name": "panda",
   "language": "python",
   "name": "python3"
  },
  "language_info": {
   "codemirror_mode": {
    "name": "ipython",
    "version": 3
   },
   "file_extension": ".py",
   "mimetype": "text/x-python",
   "name": "python",
   "nbconvert_exporter": "python",
   "pygments_lexer": "ipython3",
   "version": "3.10.17"
  }
 },
 "nbformat": 4,
 "nbformat_minor": 2
}
