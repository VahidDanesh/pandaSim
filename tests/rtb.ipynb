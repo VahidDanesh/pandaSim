{
 "cells": [
  {
   "cell_type": "code",
   "execution_count": null,
   "metadata": {},
   "outputs": [],
   "source": [
    "\"\"\"\n",
    "Example demonstrating the Robotics Toolbox adapter usage.\n",
    "\n",
    "This example shows how to use the RTB adapter to:\n",
    "1. Initialize the environment\n",
    "2. Load/create robots and objects\n",
    "3. Perform basic operations like forward kinematics, pose manipulation, etc.\n",
    "\"\"\"\n",
    "\n",
    "import numpy as np\n",
    "import spatialmath as sm\n",
    "import spatialgeometry as sg\n",
    "from pandaSim.geometry.rtb_adapter import RoboticsToolboxAdapter\n",
    "from pandaSim.geometry.utils import convert_pose\n",
    "from pandaSim.geometry.utils import create_virtual_panda\n",
    "import trimesh\n",
    "from pytransform3d import (\n",
    "    transformations as pt,\n",
    "    rotations as pr,\n",
    "    batch_rotations as pb,\n",
    "    trajectories as ptr,\n",
    "    plot_utils as ppu\n",
    ")\n",
    "\n",
    "\n",
    "# auto reload\n",
    "%load_ext autoreload\n",
    "%autoreload 2"
   ]
  },
  {
   "cell_type": "code",
   "execution_count": null,
   "metadata": {},
   "outputs": [],
   "source": [
    "panda_path = '../model/franka_description/robots/frankaEmikaPandaVirtual.urdf'\n",
    "panda = create_virtual_panda(urdf_path=panda_path)\n",
    "\n",
    "panda"
   ]
  },
  {
   "cell_type": "code",
   "execution_count": null,
   "metadata": {},
   "outputs": [],
   "source": [
    "adapter = RoboticsToolboxAdapter({\n",
    "    \"realtime\": True,\n",
    "    \"rate\": 100,\n",
    "    \"browser\": 'google-chrome' # \"notebook\" for visualizing in jupyter notebook\n",
    "})\n",
    "    \n",
    "\n",
    "panda_path = '../model/franka_description/robots/frankaEmikaPandaVirtual.urdf'\n",
    "panda_virtual = create_virtual_panda(urdf_path=panda_path)\n",
    "    \n",
    "env = adapter.get_env\n",
    "# Open the gripper fingers (from sample code)\n",
    "if hasattr(panda_virtual, 'grippers') and len(panda_virtual.grippers) > 0:\n",
    "    panda_virtual.grippers[0].q = [0.035, 0.035]\n",
    "    \n",
    "box = sg.Box(scale=[0.1, 0.07, 0.03], \n",
    "             color='blue', \n",
    "             pose=sm.SE3(0.7, 0, 0.015) * sm.SE3.RPY(0, 0, np.pi/3))\n",
    "\n",
    "\n",
    "\n",
    "# Create a cylinder\n",
    "cylinder = sg.Cylinder(radius=0.03, length=0.2, \n",
    "                       color='green', \n",
    "                       pose=sm.SE3(0.3, 0.3, 0.1))\n",
    "\n",
    "    \n",
    "axes = sg.Axes(length=0.1, color='red')\n",
    "\n",
    "\n",
    "env.add(panda_virtual)\n",
    "env.add(box)\n",
    "env.add(cylinder)\n",
    "env.add(axes)"
   ]
  },
  {
   "cell_type": "code",
   "execution_count": 104,
   "metadata": {},
   "outputs": [
    {
     "data": {
      "text/plain": [
       "(array([0.03, 0.07, 0.1 ]), array([0.1 , 0.07, 0.03]))"
      ]
     },
     "execution_count": 104,
     "metadata": {},
     "output_type": "execute_result"
    }
   ],
   "source": [
    "box.T = box.T * sm.SE3.RPY(0, 1, 2)\n",
    "mesh = adapter.get_mesh(box, transformed=False)\n",
    "\n",
    "\n",
    "transform, extents = trimesh.bounds.oriented_bounds(mesh, ordered=True)\n",
    "\n",
    "extents, mesh.extents"
   ]
  }
 ],
 "metadata": {
  "kernelspec": {
   "display_name": "panda",
   "language": "python",
   "name": "python3"
  },
  "language_info": {
   "codemirror_mode": {
    "name": "ipython",
    "version": 3
   },
   "file_extension": ".py",
   "mimetype": "text/x-python",
   "name": "python",
   "nbconvert_exporter": "python",
   "pygments_lexer": "ipython3",
   "version": "3.12.3"
  }
 },
 "nbformat": 4,
 "nbformat_minor": 2
}
