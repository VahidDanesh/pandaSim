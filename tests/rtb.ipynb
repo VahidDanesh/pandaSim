{
 "cells": [
  {
   "cell_type": "code",
   "execution_count": 54,
   "metadata": {},
   "outputs": [
    {
     "name": "stdout",
     "output_type": "stream",
     "text": [
      "The autoreload extension is already loaded. To reload it, use:\n",
      "  %reload_ext autoreload\n"
     ]
    }
   ],
   "source": [
    "\"\"\"\n",
    "Example demonstrating the Robotics Toolbox adapter usage.\n",
    "\n",
    "This example shows how to use the RTB adapter to:\n",
    "1. Initialize the environment\n",
    "2. Load/create robots and objects\n",
    "3. Perform basic operations like forward kinematics, pose manipulation, etc.\n",
    "\"\"\"\n",
    "\n",
    "import numpy as np\n",
    "import spatialmath as sm\n",
    "import spatialgeometry as sg\n",
    "from pandaSim.geometry.rtb_adapter import RoboticsToolboxAdapter\n",
    "from pandaSim.geometry.utils import convert_pose\n",
    "from pandaSim.geometry.utils import create_virtual_panda\n",
    "# auto reload\n",
    "%load_ext autoreload\n",
    "%autoreload 2"
   ]
  },
  {
   "cell_type": "code",
   "execution_count": 55,
   "metadata": {},
   "outputs": [
    {
     "data": {
      "text/plain": [
       "ERobot: panda, 8 joints (RRRRRRRR), 1 gripper, 2 branches, geometry, collision\n",
       "┌──────┬──────────────────────┬───────┬─────────────┬────────────────────────────────────────────────┐\n",
       "│ link │         link         │ joint │   parent    │              ETS: parent to link               │\n",
       "├──────┼──────────────────────┼───────┼─────────────┼────────────────────────────────────────────────┤\n",
       "│    0 │ \u001b[38;5;4mpanda_link0\u001b[0m          │       │ BASE        │ SE3()                                          │\n",
       "│    1 │ panda_link1          │     0 │ panda_link0 │ SE3(0, 0, 0.333) ⊕ Rz(q0)                      │\n",
       "│    2 │ panda_link2          │     1 │ panda_link1 │ SE3(-90°, -0°, 0°) ⊕ Rz(q1)                    │\n",
       "│    3 │ panda_link3          │     2 │ panda_link2 │ SE3(0, -0.316, 0; 90°, -0°, 0°) ⊕ Rz(q2)       │\n",
       "│    4 │ panda_link4          │     3 │ panda_link3 │ SE3(0.0825, 0, 0; 90°, -0°, 0°) ⊕ Rz(q3)       │\n",
       "│    5 │ panda_link5          │     4 │ panda_link4 │ SE3(-0.0825, 0.384, 0; -90°, -0°, 0°) ⊕ Rz(q4) │\n",
       "│    6 │ panda_link6          │     5 │ panda_link5 │ SE3(90°, -0°, 0°) ⊕ Rz(q5)                     │\n",
       "│    7 │ panda_link7          │     6 │ panda_link6 │ SE3(0.088, 0, 0; 90°, -0°, 0°) ⊕ Rz(q6)        │\n",
       "│    8 │ \u001b[38;5;4m@panda_link8\u001b[0m         │       │ panda_link7 │ SE3(0, 0, 0.107)                               │\n",
       "│    9 │ panda_finger_virtual │     7 │ panda_link8 │ SE3(0, 0, 0.1034; -90°, -0°, -45°) ⊕ Rz(q7)    │\n",
       "└──────┴──────────────────────┴───────┴─────────────┴────────────────────────────────────────────────┘\n",
       "\n",
       "┌──────┬─────┬────────┬─────┬───────┬─────┬───────┬──────┬─────┐\n",
       "│ name │ q0  │ q1     │ q2  │ q3    │ q4  │ q5    │ q6   │ q7  │\n",
       "├──────┼─────┼────────┼─────┼───────┼─────┼───────┼──────┼─────┤\n",
       "│   qr │  0° │ -17.2° │  0° │ -126° │  0° │  115° │  45° │  0° │\n",
       "│   qz │  0° │  0°    │  0° │  0°   │  0° │  0°   │  0°  │  0° │\n",
       "└──────┴─────┴────────┴─────┴───────┴─────┴───────┴──────┴─────┘"
      ]
     },
     "execution_count": 55,
     "metadata": {},
     "output_type": "execute_result"
    }
   ],
   "source": [
    "panda_path = '../model/franka_description/robots/frankaEmikaPandaVirtual.urdf'\n",
    "panda = create_virtual_panda(urdf_path=panda_path)\n",
    "\n",
    "panda"
   ]
  },
  {
   "cell_type": "code",
   "execution_count": 56,
   "metadata": {},
   "outputs": [],
   "source": [
    "\n",
    "def main():\n",
    "    \"\"\"Main example function demonstrating RTB adapter usage.\"\"\"\n",
    "    \n",
    "    # Initialize the adapter\n",
    "    print(\"Initializing RTB adapter...\")\n",
    "    adapter = RoboticsToolboxAdapter({\n",
    "        \"realtime\": True,\n",
    "        \"rate\": 100\n",
    "    })\n",
    "    \n",
    "    # Create a virtual Panda robot (similar to the provided sample)\n",
    "    print(\"Creating virtual Panda robot...\")\n",
    "    panda_path = '../model/franka_description/robots/frankaEmikaPandaVirtual.urdf'\n",
    "    panda_virtual = create_virtual_panda(urdf_path=panda_path)\n",
    "    \n",
    "    # Add robot to the environment through adapter\n",
    "    robot_dict = {\n",
    "        \"id\": \"panda\",\n",
    "        \"entity\": panda_virtual\n",
    "    }\n",
    "    adapter.entities[\"panda\"] = panda_virtual\n",
    "    adapter.env.add(panda_virtual)\n",
    "    \n",
    "    # Open the gripper fingers (from sample code)\n",
    "    if hasattr(panda_virtual, 'grippers') and len(panda_virtual.grippers) > 0:\n",
    "        panda_virtual.grippers[0].q = [0.035, 0.035]\n",
    "    \n",
    "    # Create a box object to grasp (from sample code)\n",
    "    print(\"Creating box object...\")\n",
    "    box = adapter.add_primitive(\n",
    "        \"box\",\n",
    "        scale=[0.1, 0.07, 0.03],\n",
    "        color='blue',\n",
    "        T=sm.SE3(0.7, 0, 0.015)\n",
    "    )\n",
    "    \n",
    "    # Set box transparency\n",
    "    box_entity = box[\"entity\"]\n",
    "    if hasattr(box_entity, 'set_alpha'):\n",
    "        box_entity.set_alpha(0.5)\n",
    "    \n",
    "    # Demonstrate some basic operations\n",
    "    print(\"\\nDemonstrating adapter operations:\")\n",
    "    \n",
    "    # 1. Get joint positions\n",
    "    print(\"Current joint positions:\", adapter.get_joint_positions(robot_dict))\n",
    "    \n",
    "    # 2. Get robot pose\n",
    "    robot_pose = adapter.forward_kinematics(robot_dict, link='panda_finger_virtual')\n",
    "    print(robot_pose)\n",
    "    print(\"Robot base pose (pq format):\", robot_pose)\n",
    "    \n",
    "    # 3. Get box pose\n",
    "    box_pose = adapter.get_pose(box)\n",
    "    print(\"Box pose (pq format):\", box_pose)\n",
    "    \n",
    "    # 4. Get box size\n",
    "    box_size = adapter.get_size(box)\n",
    "    print(\"Box size:\", box_size)\n",
    "    \n",
    "    # 5. Get bounding box\n",
    "    bbox = adapter.get_bbox(box)\n",
    "    print(\"Box AABB min bounds:\", bbox['min_bounds'])\n",
    "    print(\"Box AABB max bounds:\", bbox['max_bounds'])\n",
    "    \n",
    "    # 6. Forward kinematics\n",
    "    try:\n",
    "        ee_pose = adapter.forward_kinematics(robot_dict, output_type='pq')\n",
    "        print(\"End-effector pose (pq format):\", ee_pose)\n",
    "    except Exception as e:\n",
    "        print(\"Forward kinematics error:\", e)\n",
    "    \n",
    "    # 7. Joint limits\n",
    "    try:\n",
    "        lower, upper = adapter.get_joint_limits(robot_dict)\n",
    "        print(\"Joint limits - Lower:\", lower)\n",
    "        print(\"Joint limits - Upper:\", upper)\n",
    "    except Exception as e:\n",
    "        print(\"Joint limits error:\", e)\n",
    "    \n",
    "    # 8. Transform the box\n",
    "    print(\"\\nTransforming box...\")\n",
    "    transform = sm.SE3.Trans(0.1, 0.1, 0.05)  # Move box by [0.1, 0.1, 0.05]\n",
    "    new_pose = adapter.transform(box, transform, apply=True, output_type='pq')\n",
    "    print(\"New box pose after transformation:\", new_pose)\n",
    "    \n",
    "    # 9. Create additional objects for demonstration\n",
    "    print(\"\\nCreating additional objects...\")\n",
    "    \n",
    "    # Create a sphere\n",
    "    sphere = adapter.add_primitive(\n",
    "        \"sphere\",\n",
    "        radius=0.05,\n",
    "        color='red',\n",
    "        pos=[0.5, 0.5, 0.5]\n",
    "    )\n",
    "    \n",
    "    # Create a cylinder\n",
    "    cylinder = adapter.add_primitive(\n",
    "        \"cylinder\",\n",
    "        radius=0.03,\n",
    "        length=0.2,\n",
    "        color='green',\n",
    "        pos=[0.3, 0.3, 0.1]\n",
    "    )\n",
    "    \n",
    "    print(f\"Created {len(adapter.entities)} entities total\")\n",
    "    \n",
    "    # Step the simulation to update visualizations\n",
    "    print(\"\\nStepping simulation...\")\n",
    "    for i in range(100):\n",
    "        adapter.step_simulation(0.001)\n",
    "    \n",
    "    print(\"\\nExample completed! Check the Swift visualizer window.\")\n",
    "    \n",
    "    \n",
    "    print(\"Closing environment...\")\n",
    "\n"
   ]
  },
  {
   "cell_type": "code",
   "execution_count": 57,
   "metadata": {},
   "outputs": [
    {
     "name": "stdout",
     "output_type": "stream",
     "text": [
      "Initializing RTB adapter...\n"
     ]
    },
    {
     "data": {
      "text/html": [
       "\n",
       "        <iframe\n",
       "            width=\"600\"\n",
       "            height=\"400\"\n",
       "            src=\"http://localhost:52002/?53002\"\n",
       "            frameborder=\"0\"\n",
       "            allowfullscreen\n",
       "            \n",
       "        ></iframe>\n",
       "        "
      ],
      "text/plain": [
       "<IPython.lib.display.IFrame at 0x7f31e200b4a0>"
      ]
     },
     "metadata": {},
     "output_type": "display_data"
    },
    {
     "name": "stdout",
     "output_type": "stream",
     "text": [
      "Creating virtual Panda robot...\n",
      "Creating box object...\n",
      "\n",
      "Demonstrating adapter operations:\n",
      "Current joint positions: [ 0.         -0.3         0.         -2.2         0.          2.\n",
      "  0.78539816  0.        ]\n",
      "[ 0.70622308  0.70622308 -0.03534061  0.03534061 -0.17821381  0.17821381\n",
      "  0.13715108  0.13715108]\n",
      "Robot base pose (pq format): [ 0.70622308  0.70622308 -0.03534061  0.03534061 -0.17821381  0.17821381\n",
      "  0.13715108  0.13715108]\n",
      "Box pose (pq format): [0.7   0.    0.015 1.    0.    0.    0.   ]\n"
     ]
    },
    {
     "ename": "ValueError",
     "evalue": "Cannot extract vertices from this object type",
     "output_type": "error",
     "traceback": [
      "\u001b[31m---------------------------------------------------------------------------\u001b[39m",
      "\u001b[31mValueError\u001b[39m                                Traceback (most recent call last)",
      "\u001b[36mCell\u001b[39m\u001b[36m \u001b[39m\u001b[32mIn[57]\u001b[39m\u001b[32m, line 2\u001b[39m\n\u001b[32m      1\u001b[39m \u001b[38;5;28;01mif\u001b[39;00m \u001b[34m__name__\u001b[39m == \u001b[33m\"\u001b[39m\u001b[33m__main__\u001b[39m\u001b[33m\"\u001b[39m:\n\u001b[32m----> \u001b[39m\u001b[32m2\u001b[39m     \u001b[43mmain\u001b[49m\u001b[43m(\u001b[49m\u001b[43m)\u001b[49m \n",
      "\u001b[36mCell\u001b[39m\u001b[36m \u001b[39m\u001b[32mIn[56]\u001b[39m\u001b[32m, line 58\u001b[39m, in \u001b[36mmain\u001b[39m\u001b[34m()\u001b[39m\n\u001b[32m     55\u001b[39m \u001b[38;5;28mprint\u001b[39m(\u001b[33m\"\u001b[39m\u001b[33mBox pose (pq format):\u001b[39m\u001b[33m\"\u001b[39m, box_pose)\n\u001b[32m     57\u001b[39m \u001b[38;5;66;03m# 4. Get box size\u001b[39;00m\n\u001b[32m---> \u001b[39m\u001b[32m58\u001b[39m box_size = \u001b[43madapter\u001b[49m\u001b[43m.\u001b[49m\u001b[43mget_size\u001b[49m\u001b[43m(\u001b[49m\u001b[43mbox\u001b[49m\u001b[43m)\u001b[49m\n\u001b[32m     59\u001b[39m \u001b[38;5;28mprint\u001b[39m(\u001b[33m\"\u001b[39m\u001b[33mBox size:\u001b[39m\u001b[33m\"\u001b[39m, box_size)\n\u001b[32m     61\u001b[39m \u001b[38;5;66;03m# 5. Get bounding box\u001b[39;00m\n",
      "\u001b[36mFile \u001b[39m\u001b[32m~/repos/pandaSim/src/pandaSim/geometry/rtb_adapter.py:375\u001b[39m, in \u001b[36mget_size\u001b[39m\u001b[34m(self, obj)\u001b[39m\n\u001b[32m    368\u001b[39m \u001b[38;5;28;01mdef\u001b[39;00m\u001b[38;5;250m \u001b[39m\u001b[34mget_size\u001b[39m(\u001b[38;5;28mself\u001b[39m, obj: Union[Dict, Any]) -> np.ndarray:\n\u001b[32m    369\u001b[39m \u001b[38;5;250m    \u001b[39m\u001b[33;03m\"\"\"\u001b[39;00m\n\u001b[32m    370\u001b[39m \u001b[33;03m    Get the size of the bbox for the given object.\u001b[39;00m\n\u001b[32m    371\u001b[39m \n\u001b[32m    372\u001b[39m \u001b[33;03m    Args:\u001b[39;00m\n\u001b[32m    373\u001b[39m \u001b[33;03m        obj: Object representation or direct entity\u001b[39;00m\n\u001b[32m    374\u001b[39m \u001b[33;03m    Returns:\u001b[39;00m\n\u001b[32m--> \u001b[39m\u001b[32m375\u001b[39m \u001b[33;03m        Size of the bbox, in (x, y, z) order\u001b[39;00m\n\u001b[32m    376\u001b[39m \u001b[33;03m    \"\"\"\u001b[39;00m\n\u001b[32m    377\u001b[39m     bbox = \u001b[38;5;28mself\u001b[39m.get_bbox(obj)\n\u001b[32m    378\u001b[39m     size = bbox[\u001b[33m'\u001b[39m\u001b[33mmax_bounds\u001b[39m\u001b[33m'\u001b[39m] - bbox[\u001b[33m'\u001b[39m\u001b[33mmin_bounds\u001b[39m\u001b[33m'\u001b[39m]\n",
      "\u001b[36mFile \u001b[39m\u001b[32m~/repos/pandaSim/src/pandaSim/geometry/rtb_adapter.py:281\u001b[39m, in \u001b[36mget_bbox\u001b[39m\u001b[34m(self, obj)\u001b[39m\n\u001b[32m      0\u001b[39m <Error retrieving source code with stack_data see ipython/ipython#13598>\n",
      "\u001b[36mFile \u001b[39m\u001b[32m<string>:12\u001b[39m, in \u001b[36mget_vertices\u001b[39m\u001b[34m(self, obj)\u001b[39m\n",
      "\u001b[36mFile \u001b[39m\u001b[32m<string>:24\u001b[39m, in \u001b[36mget_mesh\u001b[39m\u001b[34m(self, obj)\u001b[39m\n",
      "\u001b[31mValueError\u001b[39m: Cannot extract vertices from this object type"
     ]
    }
   ],
   "source": [
    "\n",
    "if __name__ == \"__main__\":\n",
    "    main() \n",
    "    "
   ]
  },
  {
   "cell_type": "code",
   "execution_count": 77,
   "metadata": {},
   "outputs": [
    {
     "name": "stdout",
     "output_type": "stream",
     "text": [
      "Initializing RTB adapter...\n"
     ]
    },
    {
     "data": {
      "text/html": [
       "\n",
       "        <iframe\n",
       "            width=\"600\"\n",
       "            height=\"400\"\n",
       "            src=\"http://localhost:52007/?53007\"\n",
       "            frameborder=\"0\"\n",
       "            allowfullscreen\n",
       "            \n",
       "        ></iframe>\n",
       "        "
      ],
      "text/plain": [
       "<IPython.lib.display.IFrame at 0x7f31e0942a20>"
      ]
     },
     "metadata": {},
     "output_type": "display_data"
    },
    {
     "name": "stdout",
     "output_type": "stream",
     "text": [
      "Creating virtual Panda robot...\n",
      "Creating box object...\n",
      "\n",
      "Demonstrating adapter operations:\n",
      "Current joint positions: [ 0.         -0.3         0.         -2.2         0.          2.\n",
      "  0.78539816  0.        ]\n",
      "Robot pose (pq format): [ 0.70622308  0.70622308 -0.03534061  0.03534061 -0.17821381  0.17821381\n",
      "  0.13715108  0.13715108]\n"
     ]
    }
   ],
   "source": [
    "\"\"\"Main example function demonstrating RTB adapter usage.\"\"\"\n",
    "\n",
    "# Initialize the adapter\n",
    "print(\"Initializing RTB adapter...\")\n",
    "adapter = RoboticsToolboxAdapter({\n",
    "    \"realtime\": True,\n",
    "    \"rate\": 100\n",
    "})\n",
    "\n",
    "# Create a virtual Panda robot (similar to the provided sample)\n",
    "print(\"Creating virtual Panda robot...\")\n",
    "panda_path = '../model/franka_description/robots/frankaEmikaPandaVirtual.urdf'\n",
    "panda_virtual = create_virtual_panda(urdf_path=panda_path)\n",
    "\n",
    "# Add robot to the environment through adapter\n",
    "robot_dict = {\n",
    "    \"id\": \"panda\",\n",
    "    \"entity\": panda_virtual\n",
    "}\n",
    "adapter.entities[\"panda\"] = panda_virtual\n",
    "adapter.env.add(panda_virtual)\n",
    "\n",
    "# Open the gripper fingers (from sample code)\n",
    "if hasattr(panda_virtual, 'grippers') and len(panda_virtual.grippers) > 0:\n",
    "    panda_virtual.grippers[0].q = [0.035, 0.035]\n",
    "\n",
    "# Create a box object to grasp (from sample code)\n",
    "print(\"Creating box object...\")\n",
    "box = adapter.add_primitive(\n",
    "    \"box\",\n",
    "    scale=[0.1, 0.07, 0.03],\n",
    "    color='blue',\n",
    "    T=sm.SE3(0.7, 0, 0.015)\n",
    ")\n",
    "\n",
    "# Set box transparency\n",
    "box_entity = box[\"entity\"]\n",
    "if hasattr(box_entity, 'set_alpha'):\n",
    "    box_entity.set_alpha(0.5)\n",
    "\n",
    "# Demonstrate some basic operations\n",
    "print(\"\\nDemonstrating adapter operations:\")\n",
    "\n",
    "# 1. Get joint positions\n",
    "print(\"Current joint positions:\", adapter.get_joint_positions(robot_dict))\n",
    "\n",
    "# 2. Get robot pose\n",
    "robot_pose = adapter.forward_kinematics(robot_dict, link='panda_finger_virtual')\n",
    "print(\"Robot pose (pq format):\", robot_pose)\n",
    "\n",
    "\n",
    "box['entity'].T = box['entity'].T * sm.SE3.RPY(np.pi/3, 0, np.pi/2)\n",
    "adapter.env.step(0.001)"
   ]
  },
  {
   "cell_type": "code",
   "execution_count": null,
   "metadata": {},
   "outputs": [],
   "source": []
  },
  {
   "cell_type": "code",
   "execution_count": 89,
   "metadata": {},
   "outputs": [
    {
     "data": {
      "text/plain": [
       "(array([0.06098076, 0.1       , 0.07562178]),\n",
       " array([0.1 , 0.07, 0.03]),\n",
       " array([[-0.10160254, -0.03      , -0.07598076],\n",
       "        [ 0.10160254,  0.03      ,  0.07598076]]))"
      ]
     },
     "execution_count": 89,
     "metadata": {},
     "output_type": "execute_result"
    }
   ],
   "source": [
    "cube = box['entity']\n",
    "cylinder_entity = sg.Cylinder(radius=0.03, length=0.2)\n",
    "import trimesh\n",
    "box_mesh = trimesh.creation.box(extents=cube.scale)\n",
    "cylinder_mesh = trimesh.creation.cylinder(radius=cylinder_entity.radius, height=cylinder_entity.length, transform=sm.SE3.RPY(np.pi/3, 0, np.pi/2).A )\n",
    "box_mesh.apply_transform(cube.T)\n",
    "box_mesh.extents, cube.scale,  cylinder_mesh.bounds"
   ]
  },
  {
   "cell_type": "code",
   "execution_count": 93,
   "metadata": {},
   "outputs": [],
   "source": [
    "box_mesh.compute_stable_poses()[0][0]\n",
    "\n",
    "cube.T = box_mesh.compute_stable_poses()[0][0]\n",
    "adapter.env.step(0.001)\n"
   ]
  },
  {
   "cell_type": "code",
   "execution_count": 104,
   "metadata": {},
   "outputs": [
    {
     "data": {
      "text/plain": [
       "array([0.06098076, 0.1       , 0.07562178])"
      ]
     },
     "execution_count": 104,
     "metadata": {},
     "output_type": "execute_result"
    }
   ],
   "source": [
    "\n",
    "bbox = box_mesh.bounding_box_oriented\n",
    "\n",
    "bbox.bounds[1] - bbox.bounds[0]"
   ]
  },
  {
   "cell_type": "code",
   "execution_count": 59,
   "metadata": {},
   "outputs": [
    {
     "data": {
      "text/plain": [
       "({'stype': 'cylinder',\n",
       "  't': [0.0, 0.0, 0.0],\n",
       "  'q': [0.0, 0.0, 0.0, 1.0],\n",
       "  'v': [0.0, 0.0, 0.0, 0.0, 0.0, 0.0],\n",
       "  'color': 5000268,\n",
       "  'opacity': 1.0,\n",
       "  'radius': 0.03,\n",
       "  'length': 0.2},\n",
       " {'stype': 'sphere',\n",
       "  't': [0.0, 0.0, 0.0],\n",
       "  'q': [0.0, 0.0, 0.0, 1.0],\n",
       "  'v': [0.0, 0.0, 0.0, 0.0, 0.0, 0.0],\n",
       "  'color': 5000268,\n",
       "  'opacity': 1.0,\n",
       "  'radius': 0.05},\n",
       " {'stype': 'cuboid',\n",
       "  't': [0.0, 0.0, 0.0],\n",
       "  'q': [0.0, 0.0, 0.0, 1.0],\n",
       "  'v': [0.0, 0.0, 0.0, 0.0, 0.0, 0.0],\n",
       "  'color': 5000268,\n",
       "  'opacity': 1.0,\n",
       "  'scale': [0.1, 0.07, 0.03]})"
      ]
     },
     "execution_count": 59,
     "metadata": {},
     "output_type": "execute_result"
    }
   ],
   "source": [
    "cylinder_entity = sg.Cylinder(radius=0.03, length=0.2)\n",
    "sphere = sg.Sphere(radius=0.05)\n",
    "box = sg.Box(scale=[0.1, 0.07, 0.03])\n",
    "cylinder_entity.to_dict(), sphere.to_dict(), box.to_dict()\n",
    "\n"
   ]
  },
  {
   "cell_type": "code",
   "execution_count": 73,
   "metadata": {},
   "outputs": [
    {
     "data": {
      "text/plain": [
       "(array([0.06098076, 0.1       , 0.07562178]),\n",
       " array([0.1 , 0.07, 0.03]),\n",
       " array([0.06098076, 0.1       , 0.07562178]))"
      ]
     },
     "execution_count": 73,
     "metadata": {},
     "output_type": "execute_result"
    }
   ],
   "source": [
    "box.T = sm.SE3.RPY(np.pi/3, 0, np.pi/2)\n",
    "box.to_dict()\n",
    "adapter.env.step(0.001)\n",
    "mesh = adapter.get_mesh(box)\n",
    "mesh_size = mesh.bounds[1] - mesh.bounds[0]\n",
    "mesh_size, box.scale, mesh.extents"
   ]
  },
  {
   "cell_type": "code",
   "execution_count": 53,
   "metadata": {},
   "outputs": [
    {
     "name": "stderr",
     "output_type": "stream",
     "text": [
      "connection handler failed\n",
      "Traceback (most recent call last):\n",
      "  File \"/home/vahid/envs/panda/lib/python3.12/site-packages/websockets/legacy/protocol.py\", line 953, in transfer_data\n",
      "    message = await self.read_message()\n",
      "              ^^^^^^^^^^^^^^^^^^^^^^^^^\n",
      "  File \"/home/vahid/envs/panda/lib/python3.12/site-packages/websockets/legacy/protocol.py\", line 1023, in read_message\n",
      "    frame = await self.read_data_frame(max_size=self.max_size)\n",
      "            ^^^^^^^^^^^^^^^^^^^^^^^^^^^^^^^^^^^^^^^^^^^^^^^^^^\n",
      "  File \"/home/vahid/envs/panda/lib/python3.12/site-packages/websockets/legacy/protocol.py\", line 1098, in read_data_frame\n",
      "    frame = await self.read_frame(max_size)\n",
      "            ^^^^^^^^^^^^^^^^^^^^^^^^^^^^^^^\n",
      "  File \"/home/vahid/envs/panda/lib/python3.12/site-packages/websockets/legacy/protocol.py\", line 1155, in read_frame\n",
      "    frame = await Frame.read(\n",
      "            ^^^^^^^^^^^^^^^^^\n",
      "  File \"/home/vahid/envs/panda/lib/python3.12/site-packages/websockets/legacy/framing.py\", line 70, in read\n",
      "    data = await reader(2)\n",
      "           ^^^^^^^^^^^^^^^\n",
      "  File \"/usr/lib/python3.12/asyncio/streams.py\", line 750, in readexactly\n",
      "    raise exceptions.IncompleteReadError(incomplete, n)\n",
      "asyncio.exceptions.IncompleteReadError: 0 bytes read on a total of 2 expected bytes\n",
      "\n",
      "The above exception was the direct cause of the following exception:\n",
      "\n",
      "Traceback (most recent call last):\n",
      "  File \"/home/vahid/envs/panda/lib/python3.12/site-packages/websockets/legacy/server.py\", line 245, in handler\n",
      "    await self.ws_handler(self)\n",
      "  File \"/home/vahid/envs/panda/lib/python3.12/site-packages/websockets/legacy/server.py\", line 1190, in _ws_handler\n",
      "    return await cast(\n",
      "           ^^^^^^^^^^^\n",
      "  File \"/home/vahid/envs/panda/lib/python3.12/site-packages/swift/SwiftRoute.py\", line 320, in serve\n",
      "    await self.expect_message(websocket, expected)\n",
      "  File \"/home/vahid/envs/panda/lib/python3.12/site-packages/swift/SwiftRoute.py\", line 325, in expect_message\n",
      "    recieved = await websocket.recv()\n",
      "               ^^^^^^^^^^^^^^^^^^^^^^\n",
      "  File \"/home/vahid/envs/panda/lib/python3.12/site-packages/websockets/legacy/protocol.py\", line 562, in recv\n",
      "    await self.ensure_open()\n",
      "  File \"/home/vahid/envs/panda/lib/python3.12/site-packages/websockets/legacy/protocol.py\", line 929, in ensure_open\n",
      "    raise self.connection_closed_exc()\n",
      "websockets.exceptions.ConnectionClosedError: no close frame received or sent\n"
     ]
    },
    {
     "ename": "KeyboardInterrupt",
     "evalue": "",
     "output_type": "error",
     "traceback": [
      "\u001b[31m---------------------------------------------------------------------------\u001b[39m",
      "\u001b[31mKeyboardInterrupt\u001b[39m                         Traceback (most recent call last)",
      "\u001b[36mCell\u001b[39m\u001b[36m \u001b[39m\u001b[32mIn[53]\u001b[39m\u001b[32m, line 1\u001b[39m\n\u001b[32m----> \u001b[39m\u001b[32m1\u001b[39m \u001b[43madapter\u001b[49m\u001b[43m.\u001b[49m\u001b[43madd_primitive\u001b[49m\u001b[43m(\u001b[49m\n\u001b[32m      2\u001b[39m \u001b[43m    \u001b[49m\u001b[33;43m\"\u001b[39;49m\u001b[33;43mbox\u001b[39;49m\u001b[33;43m\"\u001b[39;49m\u001b[43m,\u001b[49m\n\u001b[32m      3\u001b[39m \u001b[43m    \u001b[49m\u001b[43mscale\u001b[49m\u001b[43m=\u001b[49m\u001b[43m[\u001b[49m\u001b[32;43m0.1\u001b[39;49m\u001b[43m,\u001b[49m\u001b[43m \u001b[49m\u001b[32;43m0.07\u001b[39;49m\u001b[43m,\u001b[49m\u001b[43m \u001b[49m\u001b[32;43m0.03\u001b[39;49m\u001b[43m]\u001b[49m\u001b[43m,\u001b[49m\n\u001b[32m      4\u001b[39m \u001b[43m    \u001b[49m\u001b[43mcolor\u001b[49m\u001b[43m=\u001b[49m\u001b[33;43m'\u001b[39;49m\u001b[33;43mblue\u001b[39;49m\u001b[33;43m'\u001b[39;49m\u001b[43m,\u001b[49m\n\u001b[32m      5\u001b[39m \u001b[43m    \u001b[49m\u001b[43mT\u001b[49m\u001b[43m=\u001b[49m\u001b[43msm\u001b[49m\u001b[43m.\u001b[49m\u001b[43mSE3\u001b[49m\u001b[43m.\u001b[49m\u001b[43mRPY\u001b[49m\u001b[43m(\u001b[49m\u001b[43mnp\u001b[49m\u001b[43m.\u001b[49m\u001b[43mpi\u001b[49m\u001b[43m/\u001b[49m\u001b[32;43m3\u001b[39;49m\u001b[43m,\u001b[49m\u001b[43m \u001b[49m\u001b[32;43m0\u001b[39;49m\u001b[43m,\u001b[49m\u001b[43m \u001b[49m\u001b[43mnp\u001b[49m\u001b[43m.\u001b[49m\u001b[43mpi\u001b[49m\u001b[43m/\u001b[49m\u001b[32;43m2\u001b[39;49m\u001b[43m)\u001b[49m\n\u001b[32m      6\u001b[39m \u001b[43m)\u001b[49m\n",
      "\u001b[36mFile \u001b[39m\u001b[32m~/repos/pandaSim/src/pandaSim/geometry/rtb_adapter.py:138\u001b[39m, in \u001b[36mRoboticsToolboxAdapter.add_primitive\u001b[39m\u001b[34m(self, primitive_type, **params)\u001b[39m\n\u001b[32m    135\u001b[39m     \u001b[38;5;28;01mraise\u001b[39;00m \u001b[38;5;167;01mValueError\u001b[39;00m(\u001b[33mf\u001b[39m\u001b[33m\"\u001b[39m\u001b[33mUnsupported primitive shape type: \u001b[39m\u001b[38;5;132;01m{\u001b[39;00mprimitive_type\u001b[38;5;132;01m}\u001b[39;00m\u001b[33m\"\u001b[39m)\n\u001b[32m    137\u001b[39m \u001b[38;5;66;03m# Add to environment\u001b[39;00m\n\u001b[32m--> \u001b[39m\u001b[32m138\u001b[39m \u001b[38;5;28;43mself\u001b[39;49m\u001b[43m.\u001b[49m\u001b[43menv\u001b[49m\u001b[43m.\u001b[49m\u001b[43madd\u001b[49m\u001b[43m(\u001b[49m\u001b[43mentity\u001b[49m\u001b[43m)\u001b[49m\n\u001b[32m    140\u001b[39m \u001b[38;5;66;03m# Store entity with an ID\u001b[39;00m\n\u001b[32m    141\u001b[39m entity_id = \u001b[38;5;28mstr\u001b[39m(\u001b[38;5;28mlen\u001b[39m(\u001b[38;5;28mself\u001b[39m.entities))\n",
      "\u001b[36mFile \u001b[39m\u001b[32m~/envs/panda/lib/python3.12/site-packages/swift/Swift.py:359\u001b[39m, in \u001b[36mSwift.add\u001b[39m\u001b[34m(self, ob, robot_alpha, collision_alpha, readonly)\u001b[39m\n\u001b[32m    357\u001b[39m ob._added_to_swift = \u001b[38;5;28;01mTrue\u001b[39;00m\n\u001b[32m    358\u001b[39m \u001b[38;5;28;01mif\u001b[39;00m \u001b[38;5;129;01mnot\u001b[39;00m \u001b[38;5;28mself\u001b[39m.headless:\n\u001b[32m--> \u001b[39m\u001b[32m359\u001b[39m     \u001b[38;5;28mid\u001b[39m = \u001b[38;5;28mint\u001b[39m(\u001b[38;5;28;43mself\u001b[39;49m\u001b[43m.\u001b[49m\u001b[43m_send_socket\u001b[49m\u001b[43m(\u001b[49m\u001b[33;43m\"\u001b[39;49m\u001b[33;43mshape\u001b[39;49m\u001b[33;43m\"\u001b[39;49m\u001b[43m,\u001b[49m\u001b[43m \u001b[49m\u001b[43m[\u001b[49m\u001b[43mob\u001b[49m\u001b[43m.\u001b[49m\u001b[43mto_dict\u001b[49m\u001b[43m(\u001b[49m\u001b[43m)\u001b[49m\u001b[43m]\u001b[49m\u001b[43m)\u001b[49m)\n\u001b[32m    361\u001b[39m     \u001b[38;5;28;01mwhile\u001b[39;00m \u001b[38;5;129;01mnot\u001b[39;00m \u001b[38;5;28mint\u001b[39m(\u001b[38;5;28mself\u001b[39m._send_socket(\u001b[33m\"\u001b[39m\u001b[33mshape_mounted\u001b[39m\u001b[33m\"\u001b[39m, [\u001b[38;5;28mid\u001b[39m, \u001b[32m1\u001b[39m])):\n\u001b[32m    362\u001b[39m         time.sleep(\u001b[32m0.1\u001b[39m)\n",
      "\u001b[36mFile \u001b[39m\u001b[32m~/envs/panda/lib/python3.12/site-packages/swift/Swift.py:673\u001b[39m, in \u001b[36mSwift._send_socket\u001b[39m\u001b[34m(self, code, data, expected)\u001b[39m\n\u001b[32m    670\u001b[39m \u001b[38;5;28mself\u001b[39m.outq.put(msg)\n\u001b[32m    672\u001b[39m \u001b[38;5;28;01mif\u001b[39;00m expected:\n\u001b[32m--> \u001b[39m\u001b[32m673\u001b[39m     \u001b[38;5;28;01mreturn\u001b[39;00m \u001b[38;5;28;43mself\u001b[39;49m\u001b[43m.\u001b[49m\u001b[43minq\u001b[49m\u001b[43m.\u001b[49m\u001b[43mget\u001b[49m\u001b[43m(\u001b[49m\u001b[43m)\u001b[49m\n\u001b[32m    674\u001b[39m \u001b[38;5;28;01melse\u001b[39;00m:\n\u001b[32m    675\u001b[39m     \u001b[38;5;28;01mreturn\u001b[39;00m \u001b[33m\"\u001b[39m\u001b[33m0\u001b[39m\u001b[33m\"\u001b[39m\n",
      "\u001b[36mFile \u001b[39m\u001b[32m/usr/lib/python3.12/queue.py:171\u001b[39m, in \u001b[36mQueue.get\u001b[39m\u001b[34m(self, block, timeout)\u001b[39m\n\u001b[32m    169\u001b[39m \u001b[38;5;28;01melif\u001b[39;00m timeout \u001b[38;5;129;01mis\u001b[39;00m \u001b[38;5;28;01mNone\u001b[39;00m:\n\u001b[32m    170\u001b[39m     \u001b[38;5;28;01mwhile\u001b[39;00m \u001b[38;5;129;01mnot\u001b[39;00m \u001b[38;5;28mself\u001b[39m._qsize():\n\u001b[32m--> \u001b[39m\u001b[32m171\u001b[39m         \u001b[38;5;28;43mself\u001b[39;49m\u001b[43m.\u001b[49m\u001b[43mnot_empty\u001b[49m\u001b[43m.\u001b[49m\u001b[43mwait\u001b[49m\u001b[43m(\u001b[49m\u001b[43m)\u001b[49m\n\u001b[32m    172\u001b[39m \u001b[38;5;28;01melif\u001b[39;00m timeout < \u001b[32m0\u001b[39m:\n\u001b[32m    173\u001b[39m     \u001b[38;5;28;01mraise\u001b[39;00m \u001b[38;5;167;01mValueError\u001b[39;00m(\u001b[33m\"\u001b[39m\u001b[33m'\u001b[39m\u001b[33mtimeout\u001b[39m\u001b[33m'\u001b[39m\u001b[33m must be a non-negative number\u001b[39m\u001b[33m\"\u001b[39m)\n",
      "\u001b[36mFile \u001b[39m\u001b[32m/usr/lib/python3.12/threading.py:355\u001b[39m, in \u001b[36mCondition.wait\u001b[39m\u001b[34m(self, timeout)\u001b[39m\n\u001b[32m    353\u001b[39m \u001b[38;5;28;01mtry\u001b[39;00m:    \u001b[38;5;66;03m# restore state no matter what (e.g., KeyboardInterrupt)\u001b[39;00m\n\u001b[32m    354\u001b[39m     \u001b[38;5;28;01mif\u001b[39;00m timeout \u001b[38;5;129;01mis\u001b[39;00m \u001b[38;5;28;01mNone\u001b[39;00m:\n\u001b[32m--> \u001b[39m\u001b[32m355\u001b[39m         \u001b[43mwaiter\u001b[49m\u001b[43m.\u001b[49m\u001b[43macquire\u001b[49m\u001b[43m(\u001b[49m\u001b[43m)\u001b[49m\n\u001b[32m    356\u001b[39m         gotit = \u001b[38;5;28;01mTrue\u001b[39;00m\n\u001b[32m    357\u001b[39m     \u001b[38;5;28;01melse\u001b[39;00m:\n",
      "\u001b[31mKeyboardInterrupt\u001b[39m: "
     ]
    }
   ],
   "source": [
    "adapter.add_primitive(\n",
    "    \"box\",\n",
    "    scale=[0.1, 0.07, 0.03],\n",
    "    color='blue',\n",
    "    T=sm.SE3.RPY(np.pi/3, 0, np.pi/2)\n",
    ")\n"
   ]
  },
  {
   "cell_type": "code",
   "execution_count": 43,
   "metadata": {},
   "outputs": [
    {
     "data": {
      "text/plain": [
       "(array([0.1 , 0.07, 0.03]),\n",
       " array([0.1 , 0.07, 0.03]),\n",
       " array([[-0.10160254, -0.03      , -0.07598076],\n",
       "        [ 0.10160254,  0.03      ,  0.07598076]]))"
      ]
     },
     "execution_count": 43,
     "metadata": {},
     "output_type": "execute_result"
    }
   ],
   "source": [
    "import trimesh\n",
    "\n",
    "box_mesh = trimesh.creation.box(extents=box.scale)\n",
    "cylinder_mesh = trimesh.creation.cylinder(radius=cylinder_entity.radius, height=cylinder_entity.length, transform=sm.SE3.RPY(np.pi/3, 0, np.pi/2).A )\n",
    "box_mesh.apply_transform(np.eye(4))\n",
    "box_mesh.extents, box.scale,  cylinder_mesh.bounds"
   ]
  },
  {
   "cell_type": "code",
   "execution_count": 44,
   "metadata": {},
   "outputs": [
    {
     "data": {
      "text/plain": [
       "array([[-0.10160254, -0.03      , -0.07598076],\n",
       "       [ 0.10160254,  0.03      ,  0.07598076]])"
      ]
     },
     "execution_count": 44,
     "metadata": {},
     "output_type": "execute_result"
    }
   ],
   "source": [
    "cylinder_mesh.bounds"
   ]
  },
  {
   "cell_type": "code",
   "execution_count": 35,
   "metadata": {},
   "outputs": [
    {
     "data": {
      "text/plain": [
       "({'stype': 'cylinder',\n",
       "  't': [0.0, 0.0, 0.0],\n",
       "  'q': [0.0, 0.0, 0.0, 1.0],\n",
       "  'v': [0.0, 0.0, 0.0, 0.0, 0.0, 0.0],\n",
       "  'color': 5000268,\n",
       "  'opacity': 1.0,\n",
       "  'radius': 0.03,\n",
       "  'length': 0.2},\n",
       " {'stype': 'cuboid',\n",
       "  't': [0.0, 0.0, 0.0],\n",
       "  'q': [0.0, 0.0, 0.0, 1.0],\n",
       "  'v': [0.0, 0.0, 0.0, 0.0, 0.0, 0.0],\n",
       "  'color': 5000268,\n",
       "  'opacity': 1.0,\n",
       "  'scale': [0.1, 0.07, 0.03]},\n",
       " {'stype': 'sphere',\n",
       "  't': [0.0, 0.0, 0.0],\n",
       "  'q': [0.0, 0.0, 0.0, 1.0],\n",
       "  'v': [0.0, 0.0, 0.0, 0.0, 0.0, 0.0],\n",
       "  'color': 5000268,\n",
       "  'opacity': 1.0,\n",
       "  'radius': 0.05})"
      ]
     },
     "execution_count": 35,
     "metadata": {},
     "output_type": "execute_result"
    }
   ],
   "source": [
    "cylinder_entity.to_dict(), box.to_dict(), sphere.to_dict()"
   ]
  },
  {
   "cell_type": "code",
   "execution_count": 32,
   "metadata": {},
   "outputs": [
    {
     "data": {
      "text/plain": [
       "(array([[-0.03, -0.03, -0.1 ],\n",
       "        [ 0.03,  0.03,  0.1 ]]),\n",
       " 0.2,\n",
       " 0.03)"
      ]
     },
     "execution_count": 32,
     "metadata": {},
     "output_type": "execute_result"
    }
   ],
   "source": [
    "cylinder_mesh.bounds, cylinder_entity.length, cylinder_entity.radius"
   ]
  },
  {
   "cell_type": "code",
   "execution_count": 8,
   "metadata": {},
   "outputs": [
    {
     "name": "stdout",
     "output_type": "stream",
     "text": [
      "Box pose (pq format): [0. 0. 0. 1. 0. 0. 0.]\n",
      "Box size: [0.1  0.07 0.03]\n"
     ]
    },
    {
     "data": {
      "text/plain": [
       "dict_values(['3', 'cylinder', {'radius': 0.03, 'length': 0.2, 'color': 'green'}, cylinder,\n",
       "[0.3 0.3 0.1]])"
      ]
     },
     "execution_count": 8,
     "metadata": {},
     "output_type": "execute_result"
    }
   ],
   "source": [
    "# Create a sphere\n",
    "sphere = adapter.add_primitive(\n",
    "    \"sphere\",\n",
    "    radius=0.05,\n",
    "    color='red',\n",
    "    pos=[0.5, 0.5, 0.5]\n",
    ")\n",
    "# Create a cylinder\n",
    "cylinder_entity = adapter.add_primitive(\n",
    "    \"cylinder\",\n",
    "    radius=0.03,\n",
    "    length=0.2,\n",
    "    color='green',\n",
    "    pos=[0.3, 0.3, 0.1]\n",
    ")\n",
    "# 3. Get box pose\n",
    "box_pose = adapter.get_pose(box)\n",
    "print(\"Box pose (pq format):\", box_pose)\n",
    "\n",
    "# 4. Get box size\n",
    "box_size = adapter.get_size(box)\n",
    "print(\"Box size:\", box_size)\n",
    "\n",
    "cylinder_entity.values()"
   ]
  },
  {
   "cell_type": "code",
   "execution_count": 9,
   "metadata": {},
   "outputs": [
    {
     "ename": "SyntaxError",
     "evalue": "invalid syntax (922479030.py, line 1)",
     "output_type": "error",
     "traceback": [
      "  \u001b[36mCell\u001b[39m\u001b[36m \u001b[39m\u001b[32mIn[9]\u001b[39m\u001b[32m, line 1\u001b[39m\n\u001b[31m    \u001b[39m\u001b[31mcylinder.\u001b[39m\n             ^\n\u001b[31mSyntaxError\u001b[39m\u001b[31m:\u001b[39m invalid syntax\n"
     ]
    }
   ],
   "source": [
    "cylinder_entity."
   ]
  },
  {
   "cell_type": "code",
   "execution_count": 16,
   "metadata": {},
   "outputs": [
    {
     "data": {
      "text/plain": [
       "<trimesh.Trimesh(vertices.shape=(66, 3), faces.shape=(128, 3))>"
      ]
     },
     "execution_count": 16,
     "metadata": {},
     "output_type": "execute_result"
    }
   ],
   "source": [
    "import trimesh\n",
    "trimesh.creation."
   ]
  },
  {
   "cell_type": "code",
   "execution_count": null,
   "metadata": {},
   "outputs": [],
   "source": [
    "\n",
    "# 5. Get bounding box\n",
    "bbox = adapter.get_bbox(box)\n",
    "print(\"Box AABB min bounds:\", bbox['min_bounds'])\n",
    "print(\"Box AABB max bounds:\", bbox['max_bounds'])\n",
    "\n",
    "# 6. Forward kinematics\n",
    "try:\n",
    "    ee_pose = adapter.forward_kinematics(robot_dict, output_type='pq')\n",
    "    print(\"End-effector pose (pq format):\", ee_pose)\n",
    "except Exception as e:\n",
    "    print(\"Forward kinematics error:\", e)\n",
    "\n",
    "# 7. Joint limits\n",
    "try:\n",
    "    lower, upper = adapter.get_joint_limits(robot_dict)\n",
    "    print(\"Joint limits - Lower:\", lower)\n",
    "    print(\"Joint limits - Upper:\", upper)\n",
    "except Exception as e:\n",
    "    print(\"Joint limits error:\", e)\n",
    "\n",
    "# 8. Transform the box\n",
    "print(\"\\nTransforming box...\")\n",
    "transform = sm.SE3.Trans(0.1, 0.1, 0.05)  # Move box by [0.1, 0.1, 0.05]\n",
    "new_pose = adapter.transform(box, transform, apply=True, output_type='pq')\n",
    "print(\"New box pose after transformation:\", new_pose)\n",
    "\n",
    "# 9. Create additional objects for demonstration\n",
    "print(\"\\nCreating additional objects...\")\n",
    "\n",
    "# Create a sphere\n",
    "sphere = adapter.add_primitive(\n",
    "    \"sphere\",\n",
    "    radius=0.05,\n",
    "    color='red',\n",
    "    pos=[0.5, 0.5, 0.5]\n",
    ")\n",
    "\n",
    "# Create a cylinder\n",
    "cylinder_entity = adapter.add_primitive(\n",
    "    \"cylinder\",\n",
    "    radius=0.03,\n",
    "    length=0.2,\n",
    "    color='green',\n",
    "    pos=[0.3, 0.3, 0.1]\n",
    ")\n",
    "\n",
    "print(f\"Created {len(adapter.entities)} entities total\")\n",
    "\n",
    "# Step the simulation to update visualizations\n",
    "print(\"\\nStepping simulation...\")\n",
    "for i in range(100):\n",
    "    adapter.step_simulation(0.001)\n",
    "\n",
    "print(\"\\nExample completed! Check the Swift visualizer window.\")\n",
    "\n",
    "# Keep the environment running\n",
    "try:\n",
    "    input(\"Press Enter to close the environment...\")\n",
    "except KeyboardInterrupt:\n",
    "    pass\n",
    "\n",
    "print(\"Closing environment...\")"
   ]
  }
 ],
 "metadata": {
  "kernelspec": {
   "display_name": "panda",
   "language": "python",
   "name": "python3"
  },
  "language_info": {
   "codemirror_mode": {
    "name": "ipython",
    "version": 3
   },
   "file_extension": ".py",
   "mimetype": "text/x-python",
   "name": "python",
   "nbconvert_exporter": "python",
   "pygments_lexer": "ipython3",
   "version": "3.12.3"
  }
 },
 "nbformat": 4,
 "nbformat_minor": 2
}
