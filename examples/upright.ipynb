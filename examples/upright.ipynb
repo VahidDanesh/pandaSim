{
 "cells": [
  {
   "cell_type": "markdown",
   "id": "7db7bace",
   "metadata": {},
   "source": [
    "# Object Reorientation with Help of Environment Contact\n",
    "\n",
    "This example demonstrates a Franka Emika Panda robot sequentially manipulating multiple objects. The robot follows a structured plan:\n",
    "\n",
    "1. Start from a ready position\n",
    "2. Move above an object from the list\n",
    "3. Grasp the object\n",
    "4. Execute a planned movement with the object\n",
    "5. Release the object\n",
    "6. Move 10 cm above the current position\n",
    "7. Return to ready position\n",
    "8. Repeat for the next object in the list until all objects are manipulated"
   ]
  },
  {
   "cell_type": "code",
   "execution_count": 1,
   "id": "5502bb81",
   "metadata": {},
   "outputs": [
    {
     "name": "stderr",
     "output_type": "stream",
     "text": [
      "[I 05/30/25 12:14:11.001 4700] [shell.py:_shell_pop_print@23] Graphical python shell detected, using wrapped sys.stdout\n"
     ]
    }
   ],
   "source": [
    "import genesis as gs\n",
    "import numpy as np\n",
    "import os\n",
    "import torch\n",
    "from pytransform3d import (\n",
    "    transformations as pt,\n",
    "    rotations as pr,\n",
    "    batch_rotations as pb,\n",
    "    trajectories as ptr,\n",
    "    plot_utils as ppu\n",
    ")\n",
    "from pandaSim.geometry.genesis_adapter import GenesisAdapter\n",
    "from pandaSim.planning.screw_motion_planner import ScrewMotionPlanner\n",
    "from utils import RobotController\n",
    "\n",
    "# auto reload\n",
    "%load_ext autoreload\n",
    "%autoreload 2\n",
    "\n"
   ]
  },
  {
   "cell_type": "markdown",
   "id": "f318f00c",
   "metadata": {},
   "source": [
    "## Initialize Robot Controller\n",
    "\n",
    "We'll create a RobotController instance that will handle all the robot operations and scene management.\n",
    "\n",
    "`Note:`  `compile_kernels` set whether to compile the simulation kernels inside `build()`. If False, the kernels will not be compiled (or loaded if found in the cache) until the first call of `scene.step()`. This is useful for cases you don't want to run the actual simulation, but rather just want to visualize the created scene. Kernel Compilation may take anytime between 2-10 minutes depending on your system."
   ]
  },
  {
   "cell_type": "code",
   "execution_count": 2,
   "id": "94b65edf",
   "metadata": {},
   "outputs": [
    {
     "name": "stdout",
     "output_type": "stream",
     "text": [
      "\u001b[38;5;159m[Genesis] [12:47:03] [INFO] \u001b[38;5;121m╭───────────────────────────────────────────────╮\u001b[0m\u001b[38;5;159m\u001b[0m\n",
      "\u001b[38;5;159m[Genesis] [12:47:03] [INFO] \u001b[38;5;121m│┈┉┈┉┈┉┈┉┈┉┈┉┈┉┈┉┈┉┈\u001b[0m\u001b[38;5;159m \u001b[38;5;121m\u001b[1m\u001b[3mGenesis\u001b[0m\u001b[38;5;159m \u001b[38;5;121m┈┉┈┉┈┉┈┉┈┉┈┉┈┉┈┉┈┉┈│\u001b[0m\u001b[38;5;159m\u001b[0m\n",
      "\u001b[38;5;159m[Genesis] [12:47:03] [INFO] \u001b[38;5;121m╰───────────────────────────────────────────────╯\u001b[0m\u001b[38;5;159m\u001b[0m\n",
      "\u001b[38;5;159m[Genesis] [12:47:04] [INFO] Running on \u001b[38;5;121m\u001b[4m[NVIDIA GeForce RTX 3070 Ti Laptop GPU]\u001b[0m\u001b[38;5;159m with backend \u001b[38;5;121m\u001b[4mgs.cuda\u001b[0m\u001b[38;5;159m. Device memory: \u001b[38;5;121m\u001b[4m8.00\u001b[0m\u001b[38;5;159m GB.\u001b[0m\n",
      "\u001b[38;5;159m[Genesis] [12:47:04] [INFO] 🚀 Genesis initialized. 🔖 version: \u001b[38;5;121m\u001b[4m0.2.1\u001b[0m\u001b[38;5;159m, 🌱 seed: \u001b[38;5;121m\u001b[4mNone\u001b[0m\u001b[38;5;159m, 📏 precision: '\u001b[38;5;121m\u001b[4m32\u001b[0m\u001b[38;5;159m', 🐛 debug: \u001b[38;5;121m\u001b[4mFalse\u001b[0m\u001b[38;5;159m, 🎨 theme: '\u001b[38;5;121m\u001b[4mdark\u001b[0m\u001b[38;5;159m'.\u001b[0m\n",
      "\u001b[38;5;159m[Genesis] [12:47:05] [INFO] Scene \u001b[38;5;121m\u001b[3m<529fd80>\u001b[0m\u001b[38;5;159m created.\u001b[0m\n",
      "\u001b[38;5;159m[Genesis] [12:47:05] [INFO] Adding \u001b[38;5;121m<gs.RigidEntity>\u001b[0m\u001b[38;5;159m. idx: \u001b[38;5;121m0\u001b[0m\u001b[38;5;159m, uid: \u001b[38;5;121m\u001b[3m<0b463b5>\u001b[0m\u001b[38;5;159m, morph: \u001b[38;5;121m<gs.morphs.Plane>\u001b[0m\u001b[38;5;159m, material: \u001b[38;5;121m<gs.materials.Rigid>\u001b[0m\u001b[38;5;159m.\u001b[0m\n",
      "\u001b[38;5;159m[Genesis] [12:47:05] [INFO] Adding \u001b[38;5;121m<gs.RigidEntity>\u001b[0m\u001b[38;5;159m. idx: \u001b[38;5;121m1\u001b[0m\u001b[38;5;159m, uid: \u001b[38;5;121m\u001b[3m<04c89bc>\u001b[0m\u001b[38;5;159m, morph: \u001b[38;5;121m<gs.morphs.MJCF(file='/home/vahid/repos/pandaSim/model/panda_vir.xml')>\u001b[0m\u001b[38;5;159m, material: \u001b[38;5;121m<gs.materials.Rigid>\u001b[0m\u001b[38;5;159m.\u001b[0m\n",
      "\u001b[38;5;226m[Genesis] [12:47:06] [WARNING] (MJCF) Tendon not supported\u001b[0m\n",
      "\u001b[38;5;226m[Genesis] [12:47:06] [WARNING] (MJCF) Approximating tendon by joint actuator for `finger_joint1`\u001b[0m\n",
      "\u001b[38;5;226m[Genesis] [12:47:06] [WARNING] (MJCF) Actuator control gain and bias parameters cannot be reduced to a unique PD control position gain. Using max between gain and bias.\u001b[0m\n",
      "\u001b[38;5;226m[Genesis] [12:47:06] [WARNING] (MJCF) Approximating tendon by joint actuator for `finger_joint2`\u001b[0m\n",
      "\u001b[38;5;226m[Genesis] [12:47:06] [WARNING] (MJCF) Actuator control gain and bias parameters cannot be reduced to a unique PD control position gain. Using max between gain and bias.\u001b[0m\n",
      "\u001b[38;5;159m[Genesis] [12:47:06] [INFO] Adding \u001b[38;5;121m<gs.RigidEntity>\u001b[0m\u001b[38;5;159m. idx: \u001b[38;5;121m2\u001b[0m\u001b[38;5;159m, uid: \u001b[38;5;121m\u001b[3m<30f6082>\u001b[0m\u001b[38;5;159m, morph: \u001b[38;5;121m<gs.morphs.Box>\u001b[0m\u001b[38;5;159m, material: \u001b[38;5;121m<gs.materials.Rigid>\u001b[0m\u001b[38;5;159m.\u001b[0m\n",
      "\u001b[38;5;159m[Genesis] [12:47:06] [INFO] Adding \u001b[38;5;121m<gs.RigidEntity>\u001b[0m\u001b[38;5;159m. idx: \u001b[38;5;121m3\u001b[0m\u001b[38;5;159m, uid: \u001b[38;5;121m\u001b[3m<5498ccc>\u001b[0m\u001b[38;5;159m, morph: \u001b[38;5;121m<gs.morphs.Box>\u001b[0m\u001b[38;5;159m, material: \u001b[38;5;121m<gs.materials.Rigid>\u001b[0m\u001b[38;5;159m.\u001b[0m\n",
      "\u001b[38;5;159m[Genesis] [12:47:06] [INFO] Adding \u001b[38;5;121m<gs.RigidEntity>\u001b[0m\u001b[38;5;159m. idx: \u001b[38;5;121m4\u001b[0m\u001b[38;5;159m, uid: \u001b[38;5;121m\u001b[3m<ecc7f38>\u001b[0m\u001b[38;5;159m, morph: \u001b[38;5;121m<gs.morphs.Box>\u001b[0m\u001b[38;5;159m, material: \u001b[38;5;121m<gs.materials.Rigid>\u001b[0m\u001b[38;5;159m.\u001b[0m\n",
      "\u001b[38;5;159m[Genesis] [12:47:06] [INFO] Adding \u001b[38;5;121m<gs.RigidEntity>\u001b[0m\u001b[38;5;159m. idx: \u001b[38;5;121m5\u001b[0m\u001b[38;5;159m, uid: \u001b[38;5;121m\u001b[3m<374056b>\u001b[0m\u001b[38;5;159m, morph: \u001b[38;5;121m<gs.morphs.Box>\u001b[0m\u001b[38;5;159m, material: \u001b[38;5;121m<gs.materials.Rigid>\u001b[0m\u001b[38;5;159m.\u001b[0m\n",
      "\u001b[38;5;159m[Genesis] [12:47:06] [INFO] Adding \u001b[38;5;121m<gs.RigidEntity>\u001b[0m\u001b[38;5;159m. idx: \u001b[38;5;121m6\u001b[0m\u001b[38;5;159m, uid: \u001b[38;5;121m\u001b[3m<adba653>\u001b[0m\u001b[38;5;159m, morph: \u001b[38;5;121m<gs.morphs.Box>\u001b[0m\u001b[38;5;159m, material: \u001b[38;5;121m<gs.materials.Rigid>\u001b[0m\u001b[38;5;159m.\u001b[0m\n",
      "\u001b[38;5;159m[Genesis] [12:47:06] [INFO] Adding \u001b[38;5;121m<gs.RigidEntity>\u001b[0m\u001b[38;5;159m. idx: \u001b[38;5;121m7\u001b[0m\u001b[38;5;159m, uid: \u001b[38;5;121m\u001b[3m<98fc114>\u001b[0m\u001b[38;5;159m, morph: \u001b[38;5;121m<gs.morphs.URDF(file='/home/vahid/envs/panda/lib/python3.12/site-packages/genesis/assets/urdf/3763/mobility_vhacd.urdf')>\u001b[0m\u001b[38;5;159m, material: \u001b[38;5;121m<gs.materials.Rigid>\u001b[0m\u001b[38;5;159m.\u001b[0m\n",
      "\u001b[38;5;159m[Genesis] [12:47:06] [INFO] Falling back to legacy URDF parser. Default values of physics properties may be off.\u001b[0m\n",
      "\u001b[38;5;159m[Genesis] [12:47:06] [INFO] Applying offset to base link's pose with user provided value in morph.\u001b[0m\n",
      "\u001b[38;5;159m[Genesis] [12:47:06] [INFO] Adding \u001b[38;5;121m<gs.RigidEntity>\u001b[0m\u001b[38;5;159m. idx: \u001b[38;5;121m8\u001b[0m\u001b[38;5;159m, uid: \u001b[38;5;121m\u001b[3m<9a4d495>\u001b[0m\u001b[38;5;159m, morph: \u001b[38;5;121m<gs.morphs.Cylinder>\u001b[0m\u001b[38;5;159m, material: \u001b[38;5;121m<gs.materials.Rigid>\u001b[0m\u001b[38;5;159m.\u001b[0m\n",
      "\u001b[38;5;159m[Genesis] [12:47:06] [INFO] Adding \u001b[38;5;121m<gs.RigidEntity>\u001b[0m\u001b[38;5;159m. idx: \u001b[38;5;121m9\u001b[0m\u001b[38;5;159m, uid: \u001b[38;5;121m\u001b[3m<8f47308>\u001b[0m\u001b[38;5;159m, morph: \u001b[38;5;121m<gs.morphs.Mesh(file='/home/vahid/envs/panda/lib/python3.12/site-packages/genesis/assets/meshes/axis.obj')>\u001b[0m\u001b[38;5;159m, material: \u001b[38;5;121m<gs.materials.Rigid>\u001b[0m\u001b[38;5;159m.\u001b[0m\n",
      "\u001b[38;5;159m[Genesis] [12:47:06] [INFO] Building scene \u001b[38;5;121m\u001b[3m<529fd80>\u001b[0m\u001b[38;5;159m...\u001b[0m\n"
     ]
    },
    {
     "name": "stderr",
     "output_type": "stream",
     "text": [
      "WARNING: Geom with duplicate name '' encountered in URDF, creating an unnamed geom.\n",
      "WARNING: Geom with duplicate name '' encountered in URDF, creating an unnamed geom.\n"
     ]
    },
    {
     "name": "stdout",
     "output_type": "stream",
     "text": [
      "\u001b[38;5;226m[Genesis] [12:47:07] [WARNING] Reference robot position exceeds joint limits.\u001b[0m\n"
     ]
    },
    {
     "name": "stderr",
     "output_type": "stream",
     "text": [
      "[W 05/30/25 12:47:08.841 4700] [frontend_ir.cpp:begin_frontend_struct_for_on_external_tensor@1694] ti.loop_config(serialize=True) does not have effect on the struct for. The execution order is not guaranteed.\n"
     ]
    },
    {
     "name": "stdout",
     "output_type": "stream",
     "text": [
      "\u001b[38;5;159m[Genesis] [12:47:10] [INFO] Building visualizer...\u001b[0m\n",
      "\u001b[38;5;159m[Genesis] [12:47:20] [INFO] Viewer created. Resolution: \u001b[38;5;121m1280×960\u001b[0m\u001b[38;5;159m, max_FPS: \u001b[38;5;121m60\u001b[0m\u001b[38;5;159m.\u001b[0m\n"
     ]
    }
   ],
   "source": [
    "\n",
    "\n",
    "# Record the video\n",
    "record = False\n",
    "video_path = \"video/\"\n",
    "os.makedirs(video_path, exist_ok=True)\n",
    "\n",
    "# Initialize the scene and get the robot and objects\n",
    "# Initialize the robot controller\n",
    "controller = RobotController()\n",
    "franka, objects_list, target_entity, scene_list, cam = controller.init_scene(record=record)\n",
    "scene, adapter = controller.scene, controller.adapter\n",
    "# Get the finger link for manipulation\n",
    "finger_link = franka.get_link('virtual_finger')\n",
    "\n",
    "# Build the scene\n",
    "scene.build(compile_kernels=False)"
   ]
  },
  {
   "cell_type": "markdown",
   "id": "a752e98d",
   "metadata": {},
   "source": [
    "## Define Ready Pose\n",
    "\n",
    "Set up the robot's ready pose configuration."
   ]
  },
  {
   "cell_type": "code",
   "execution_count": 3,
   "id": "8a751095",
   "metadata": {},
   "outputs": [],
   "source": [
    "def reset_scene():\n",
    "    scene.reset()\n",
    "\n",
    "    # Define ready pose joint positions\n",
    "    qr = np.array([0.0000, -0.3002, 0.0000, -2.1991, 0.0000, 2.0071, 0.7854, 0.04, 0.04])\n",
    "    ready_qpos = np.append(qr, [0, 0, 0])  # Adding positions for virtual finger and spinning pads\n",
    "\n",
    "    # Set robot to ready pose\n",
    "    franka.ready_qpos = ready_qpos.squeeze()\n",
    "    franka.set_qpos(franka.ready_qpos)\n",
    "    franka.control_dofs_position(franka.ready_qpos)\n",
    "    \n",
    "    # Visualize initial position\n",
    "    target_entity.set_pos(finger_link.get_pos())\n",
    "    target_entity.set_quat(finger_link.get_quat())\n",
    "    \n",
    "    scene.step()"
   ]
  },
  {
   "cell_type": "markdown",
   "id": "81af9a83",
   "metadata": {},
   "source": [
    "## Main Execution Loop\n",
    "\n",
    "Now we'll process each object in the list sequentially, following our plan:\n",
    "1. Move to above the object\n",
    "2. Grasp the object\n",
    "3. Execute the manipulation plan\n",
    "4. Release the object\n",
    "5. Move 10cm up\n",
    "6. Return to ready pose\n",
    "7. Process next object\n",
    "- Note: Running the following cell can take about 2-10 minutes."
   ]
  },
  {
   "cell_type": "code",
   "execution_count": null,
   "id": "89ae1c5d",
   "metadata": {},
   "outputs": [],
   "source": [
    "objects_to_manipulate = objects_list.copy()\n",
    "initial_pose = []\n",
    "goal_pose = []\n",
    "current_pose = []\n",
    "# Reset the scene to initial state\n",
    "reset_scene()\n",
    "record = True\n",
    "\n",
    "if cam and record:\n",
    "    cam.start_recording()\n",
    "    print(\"Recording started\")\n",
    "\n",
    "\n",
    "# Process each object in the list\n",
    "while objects_to_manipulate:\n",
    "    # Get the next object from the list\n",
    "    obj = objects_to_manipulate.pop(0)\n",
    "    obj_name = obj.name\n",
    "\n",
    "    \n",
    "    print(f\"\\nProcessing {obj_name}...\")\n",
    "    \n",
    "    # Step 1: Compute grasp pose for the object\n",
    "    print(f\"Computing grasp pose for {obj_name}\")\n",
    "    grasp_height = 'center' if obj_name == 'cylinder' else 'top'\n",
    "    offset_toward = 0.04 if obj_name == 'bottle' else 0.02\n",
    "    offset_upward = 0.01\n",
    "\n",
    "    prefer_closer_grasp = False if obj_name == 'cube' else True\n",
    "    grasp_pose, qs, s_axes = controller.compute_object_grasp(\n",
    "        obj=obj,\n",
    "        grasp_height=grasp_height,\n",
    "        offset_toward=offset_toward,\n",
    "        offset_upward=offset_upward,\n",
    "        prefer_closer_grasp=prefer_closer_grasp\n",
    "    )\n",
    "    \n",
    "    # Step 2: Grasp the object\n",
    "    print(f\"Moving to grasp {obj_name}\")\n",
    "    fingers_state = 0.02 if obj_name == 'bottle' else 0.04\n",
    "    controller.pregrasp_object(finger_link, grasp_pose, fingers_state=fingers_state)\n",
    "    object_trajectory = controller.object_trajectory(finger_link, obj, qs, s_axes)\n",
    "    controller.grasp_object(finger_link, grasp_pose, fingers_state=fingers_state, fingers_force=2)\n",
    "    \n",
    "    # Step 3: Execute manipulation plan\n",
    "    print(f\"Executing manipulation with {obj_name}\")\n",
    "    controller.execute_manipulation(finger_link, obj, qs, s_axes)\n",
    "    \n",
    "    # Step 4: Release the object\n",
    "    print(f\"Releasing {obj_name}\")\n",
    "    controller.release_object()\n",
    "    \n",
    "    # Step 5: Move 10cm up from the current position\n",
    "    print(f\"Moving up from {obj_name}\")\n",
    "    controller.move_up_from_current(finger_link, 0.1)\n",
    "    \n",
    "    \n",
    "    # Step 6: Return to ready pose\n",
    "    # print(f\"Returning to ready pose\")\n",
    "    # controller.return_to_ready_pose()\n",
    "    \n",
    "    print(f\"Completed processing {obj_name}\")\n",
    "\n",
    "\n",
    "    # save poses\n",
    "    current_pose.append(controller.adapter.get_pose(obj, 't'))\n",
    "    initial_pose.append(object_trajectory[0])\n",
    "    goal_pose.append(object_trajectory[-1])\n",
    "\n",
    "if cam and record:\n",
    "    cam.stop_recording(save_to_filename=os.path.join(video_path, \"upright.mp4\"))\n",
    "    \n",
    "print(\"\\nAll objects manipulated successfully!\")"
   ]
  },
  {
   "cell_type": "code",
   "execution_count": null,
   "id": "2b26fdc3",
   "metadata": {},
   "outputs": [],
   "source": [
    "es = []\n",
    "Successes = []\n",
    "arriveds = []\n",
    "for i, obj in enumerate(objects_list):\n",
    "    e, Success, arrived = controller.Success_Rate(initial_pose[i], goal_pose[i], current_pose[i], 'axis')\n",
    "    es.append(e)\n",
    "    Successes.append(Success)\n",
    "    arriveds.append(arrived)\n",
    "    print(f\"Object {obj.name} Success Rate: {Success:.2f}%\")\n",
    "\n",
    "\n",
    "    # save all info in log file, append to the file\n",
    "    with open('log.txt', 'a') as f:\n",
    "        f.write(f\"\\nObject {obj.name} Success Rate: {Success:.2f}%\\n\")\n",
    "        f.write(f\"Object {obj.name} Arrived: {arrived}\\n\")\n",
    "        f.write(f\"Object {obj.name} Error: {e}\\n\")\n",
    "        f.write(f\"Initial Pose:\\n {initial_pose[i]}\\n\")\n",
    "        f.write(f\"Goal Pose:\\n {goal_pose[i]}\\n\")\n",
    "        f.write(f\"Current Pose:\\n {current_pose[i]}\\n\")\n",
    "        f.write(\"-\"*100)\n",
    "        f.write(\"\\n\")\n",
    "\n",
    "with open('log.txt', 'a') as f:\n",
    "    f.write(\"=\"*100)\n",
    "    f.write(\"\\n\")\n",
    "\n",
    "\n",
    "\n"
   ]
  }
 ],
 "metadata": {
  "kernelspec": {
   "display_name": "panda",
   "language": "python",
   "name": "python3"
  },
  "language_info": {
   "codemirror_mode": {
    "name": "ipython",
    "version": 3
   },
   "file_extension": ".py",
   "mimetype": "text/x-python",
   "name": "python",
   "nbconvert_exporter": "python",
   "pygments_lexer": "ipython3",
   "version": "3.12.3"
  }
 },
 "nbformat": 4,
 "nbformat_minor": 5
}
